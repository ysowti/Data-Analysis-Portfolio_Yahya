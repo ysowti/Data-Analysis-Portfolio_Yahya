{
 "cells": [
  {
   "cell_type": "markdown",
   "metadata": {},
   "source": [
    "# Delivery Time Prediction Using XGB and Deep Learning"
   ]
  },
  {
   "cell_type": "code",
   "execution_count": 1,
   "metadata": {},
   "outputs": [],
   "source": [
    "# !pip install -q git+https://github.com/tensorflow/docs"
   ]
  },
  {
   "cell_type": "code",
   "execution_count": 2,
   "metadata": {},
   "outputs": [],
   "source": [
    "import pandas as pd\n",
    "import numpy as np\n",
    "import sklearn\n",
    "from sklearn.impute import SimpleImputer\n",
    "from sklearn.preprocessing import StandardScaler\n",
    "import matplotlib.pyplot as plt\n",
    "import seaborn as sns\n",
    "import tensorflow as tf\n",
    "from tensorflow import keras\n",
    "from tensorflow.keras import layers\n",
    "import tensorflow_docs as tfdocs\n",
    "import tensorflow_docs.plots\n",
    "from sklearn.model_selection import GridSearchCV\n",
    "from xgboost.sklearn import XGBRegressor\n",
    "from sklearn.metrics import mean_absolute_error"
   ]
  },
  {
   "cell_type": "code",
   "execution_count": 3,
   "metadata": {},
   "outputs": [],
   "source": [
    "val_ratio = 0.2"
   ]
  },
  {
   "cell_type": "markdown",
   "metadata": {},
   "source": [
    "## Loading Historical Data"
   ]
  },
  {
   "cell_type": "code",
   "execution_count": 4,
   "metadata": {},
   "outputs": [],
   "source": [
    "df = pd.read_csv('historical_data.csv')"
   ]
  },
  {
   "cell_type": "code",
   "execution_count": 5,
   "metadata": {},
   "outputs": [
    {
     "data": {
      "text/html": [
       "<div>\n",
       "<style scoped>\n",
       "    .dataframe tbody tr th:only-of-type {\n",
       "        vertical-align: middle;\n",
       "    }\n",
       "\n",
       "    .dataframe tbody tr th {\n",
       "        vertical-align: top;\n",
       "    }\n",
       "\n",
       "    .dataframe thead th {\n",
       "        text-align: right;\n",
       "    }\n",
       "</style>\n",
       "<table border=\"1\" class=\"dataframe\">\n",
       "  <thead>\n",
       "    <tr style=\"text-align: right;\">\n",
       "      <th></th>\n",
       "      <th>market_id</th>\n",
       "      <th>created_at</th>\n",
       "      <th>actual_delivery_time</th>\n",
       "      <th>store_id</th>\n",
       "      <th>store_primary_category</th>\n",
       "      <th>order_protocol</th>\n",
       "      <th>total_items</th>\n",
       "      <th>subtotal</th>\n",
       "      <th>num_distinct_items</th>\n",
       "      <th>min_item_price</th>\n",
       "      <th>max_item_price</th>\n",
       "      <th>total_onshift_dashers</th>\n",
       "      <th>total_busy_dashers</th>\n",
       "      <th>total_outstanding_orders</th>\n",
       "      <th>estimated_order_place_duration</th>\n",
       "      <th>estimated_store_to_consumer_driving_duration</th>\n",
       "    </tr>\n",
       "  </thead>\n",
       "  <tbody>\n",
       "    <tr>\n",
       "      <th>0</th>\n",
       "      <td>1.0</td>\n",
       "      <td>2015-02-06 22:24:17</td>\n",
       "      <td>2015-02-06 23:27:16</td>\n",
       "      <td>1845</td>\n",
       "      <td>american</td>\n",
       "      <td>1.0</td>\n",
       "      <td>4</td>\n",
       "      <td>3441</td>\n",
       "      <td>4</td>\n",
       "      <td>557</td>\n",
       "      <td>1239</td>\n",
       "      <td>33.0</td>\n",
       "      <td>14.0</td>\n",
       "      <td>21.0</td>\n",
       "      <td>446</td>\n",
       "      <td>861.0</td>\n",
       "    </tr>\n",
       "    <tr>\n",
       "      <th>1</th>\n",
       "      <td>2.0</td>\n",
       "      <td>2015-02-10 21:49:25</td>\n",
       "      <td>2015-02-10 22:56:29</td>\n",
       "      <td>5477</td>\n",
       "      <td>mexican</td>\n",
       "      <td>2.0</td>\n",
       "      <td>1</td>\n",
       "      <td>1900</td>\n",
       "      <td>1</td>\n",
       "      <td>1400</td>\n",
       "      <td>1400</td>\n",
       "      <td>1.0</td>\n",
       "      <td>2.0</td>\n",
       "      <td>2.0</td>\n",
       "      <td>446</td>\n",
       "      <td>690.0</td>\n",
       "    </tr>\n",
       "    <tr>\n",
       "      <th>2</th>\n",
       "      <td>3.0</td>\n",
       "      <td>2015-01-22 20:39:28</td>\n",
       "      <td>2015-01-22 21:09:09</td>\n",
       "      <td>5477</td>\n",
       "      <td>NaN</td>\n",
       "      <td>1.0</td>\n",
       "      <td>1</td>\n",
       "      <td>1900</td>\n",
       "      <td>1</td>\n",
       "      <td>1900</td>\n",
       "      <td>1900</td>\n",
       "      <td>1.0</td>\n",
       "      <td>0.0</td>\n",
       "      <td>0.0</td>\n",
       "      <td>446</td>\n",
       "      <td>690.0</td>\n",
       "    </tr>\n",
       "    <tr>\n",
       "      <th>3</th>\n",
       "      <td>3.0</td>\n",
       "      <td>2015-02-03 21:21:45</td>\n",
       "      <td>2015-02-03 22:13:00</td>\n",
       "      <td>5477</td>\n",
       "      <td>NaN</td>\n",
       "      <td>1.0</td>\n",
       "      <td>6</td>\n",
       "      <td>6900</td>\n",
       "      <td>5</td>\n",
       "      <td>600</td>\n",
       "      <td>1800</td>\n",
       "      <td>1.0</td>\n",
       "      <td>1.0</td>\n",
       "      <td>2.0</td>\n",
       "      <td>446</td>\n",
       "      <td>289.0</td>\n",
       "    </tr>\n",
       "    <tr>\n",
       "      <th>4</th>\n",
       "      <td>3.0</td>\n",
       "      <td>2015-02-15 02:40:36</td>\n",
       "      <td>2015-02-15 03:20:26</td>\n",
       "      <td>5477</td>\n",
       "      <td>NaN</td>\n",
       "      <td>1.0</td>\n",
       "      <td>3</td>\n",
       "      <td>3900</td>\n",
       "      <td>3</td>\n",
       "      <td>1100</td>\n",
       "      <td>1600</td>\n",
       "      <td>6.0</td>\n",
       "      <td>6.0</td>\n",
       "      <td>9.0</td>\n",
       "      <td>446</td>\n",
       "      <td>650.0</td>\n",
       "    </tr>\n",
       "  </tbody>\n",
       "</table>\n",
       "</div>"
      ],
      "text/plain": [
       "   market_id           created_at actual_delivery_time  store_id  \\\n",
       "0        1.0  2015-02-06 22:24:17  2015-02-06 23:27:16      1845   \n",
       "1        2.0  2015-02-10 21:49:25  2015-02-10 22:56:29      5477   \n",
       "2        3.0  2015-01-22 20:39:28  2015-01-22 21:09:09      5477   \n",
       "3        3.0  2015-02-03 21:21:45  2015-02-03 22:13:00      5477   \n",
       "4        3.0  2015-02-15 02:40:36  2015-02-15 03:20:26      5477   \n",
       "\n",
       "  store_primary_category  order_protocol  total_items  subtotal  \\\n",
       "0               american             1.0            4      3441   \n",
       "1                mexican             2.0            1      1900   \n",
       "2                    NaN             1.0            1      1900   \n",
       "3                    NaN             1.0            6      6900   \n",
       "4                    NaN             1.0            3      3900   \n",
       "\n",
       "   num_distinct_items  min_item_price  max_item_price  total_onshift_dashers  \\\n",
       "0                   4             557            1239                   33.0   \n",
       "1                   1            1400            1400                    1.0   \n",
       "2                   1            1900            1900                    1.0   \n",
       "3                   5             600            1800                    1.0   \n",
       "4                   3            1100            1600                    6.0   \n",
       "\n",
       "   total_busy_dashers  total_outstanding_orders  \\\n",
       "0                14.0                      21.0   \n",
       "1                 2.0                       2.0   \n",
       "2                 0.0                       0.0   \n",
       "3                 1.0                       2.0   \n",
       "4                 6.0                       9.0   \n",
       "\n",
       "   estimated_order_place_duration  \\\n",
       "0                             446   \n",
       "1                             446   \n",
       "2                             446   \n",
       "3                             446   \n",
       "4                             446   \n",
       "\n",
       "   estimated_store_to_consumer_driving_duration  \n",
       "0                                         861.0  \n",
       "1                                         690.0  \n",
       "2                                         690.0  \n",
       "3                                         289.0  \n",
       "4                                         650.0  "
      ]
     },
     "execution_count": 5,
     "metadata": {},
     "output_type": "execute_result"
    }
   ],
   "source": [
    "df.head()"
   ]
  },
  {
   "cell_type": "code",
   "execution_count": 6,
   "metadata": {},
   "outputs": [
    {
     "name": "stdout",
     "output_type": "stream",
     "text": [
      "<class 'pandas.core.frame.DataFrame'>\n",
      "RangeIndex: 197428 entries, 0 to 197427\n",
      "Data columns (total 16 columns):\n",
      "market_id                                       196441 non-null float64\n",
      "created_at                                      197428 non-null object\n",
      "actual_delivery_time                            197421 non-null object\n",
      "store_id                                        197428 non-null int64\n",
      "store_primary_category                          192668 non-null object\n",
      "order_protocol                                  196433 non-null float64\n",
      "total_items                                     197428 non-null int64\n",
      "subtotal                                        197428 non-null int64\n",
      "num_distinct_items                              197428 non-null int64\n",
      "min_item_price                                  197428 non-null int64\n",
      "max_item_price                                  197428 non-null int64\n",
      "total_onshift_dashers                           181166 non-null float64\n",
      "total_busy_dashers                              181166 non-null float64\n",
      "total_outstanding_orders                        181166 non-null float64\n",
      "estimated_order_place_duration                  197428 non-null int64\n",
      "estimated_store_to_consumer_driving_duration    196902 non-null float64\n",
      "dtypes: float64(6), int64(7), object(3)\n",
      "memory usage: 24.1+ MB\n"
     ]
    }
   ],
   "source": [
    "df.info()"
   ]
  },
  {
   "cell_type": "markdown",
   "metadata": {},
   "source": [
    "## Preprocessing of Data and Feature Engineering"
   ]
  },
  {
   "cell_type": "markdown",
   "metadata": {},
   "source": [
    "### 1- Calculating Delivery Times and removing rows with null values for it\n"
   ]
  },
  {
   "cell_type": "code",
   "execution_count": 7,
   "metadata": {},
   "outputs": [
    {
     "data": {
      "text/plain": [
       "market_id                                         987\n",
       "actual_delivery_time                                7\n",
       "store_primary_category                           4760\n",
       "order_protocol                                    995\n",
       "total_onshift_dashers                           16262\n",
       "total_busy_dashers                              16262\n",
       "total_outstanding_orders                        16262\n",
       "estimated_store_to_consumer_driving_duration      526\n",
       "dtype: int64"
      ]
     },
     "execution_count": 7,
     "metadata": {},
     "output_type": "execute_result"
    }
   ],
   "source": [
    "null_columns=df.columns[df.isnull().any()]\n",
    "df[null_columns].isnull().sum()"
   ]
  },
  {
   "cell_type": "code",
   "execution_count": 8,
   "metadata": {},
   "outputs": [],
   "source": [
    "df.dropna(subset=[\"actual_delivery_time\"], inplace = True)"
   ]
  },
  {
   "cell_type": "code",
   "execution_count": 9,
   "metadata": {},
   "outputs": [],
   "source": [
    "df[[\"created_at\", \"actual_delivery_time\"]] = df[[\"created_at\", \"actual_delivery_time\"]].apply(pd.to_datetime)\n",
    "\n",
    "df[\"delivery_time\"] = df.apply(lambda row: \\\n",
    "                               (row[\"actual_delivery_time\"] - row[\"created_at\"]).total_seconds(), \\\n",
    "                               axis = 1)"
   ]
  },
  {
   "cell_type": "markdown",
   "metadata": {},
   "source": [
    "### 3- Studying Data stats and removing negative values and anomalous output based on that"
   ]
  },
  {
   "cell_type": "code",
   "execution_count": 10,
   "metadata": {},
   "outputs": [
    {
     "data": {
      "text/html": [
       "<div>\n",
       "<style scoped>\n",
       "    .dataframe tbody tr th:only-of-type {\n",
       "        vertical-align: middle;\n",
       "    }\n",
       "\n",
       "    .dataframe tbody tr th {\n",
       "        vertical-align: top;\n",
       "    }\n",
       "\n",
       "    .dataframe thead th {\n",
       "        text-align: right;\n",
       "    }\n",
       "</style>\n",
       "<table border=\"1\" class=\"dataframe\">\n",
       "  <thead>\n",
       "    <tr style=\"text-align: right;\">\n",
       "      <th></th>\n",
       "      <th>count</th>\n",
       "      <th>mean</th>\n",
       "      <th>std</th>\n",
       "      <th>min</th>\n",
       "      <th>25%</th>\n",
       "      <th>50%</th>\n",
       "      <th>75%</th>\n",
       "      <th>max</th>\n",
       "    </tr>\n",
       "  </thead>\n",
       "  <tbody>\n",
       "    <tr>\n",
       "      <th>market_id</th>\n",
       "      <td>196434.0</td>\n",
       "      <td>2.978700</td>\n",
       "      <td>1.524879</td>\n",
       "      <td>1.0</td>\n",
       "      <td>2.0</td>\n",
       "      <td>3.0</td>\n",
       "      <td>4.0</td>\n",
       "      <td>6.0</td>\n",
       "    </tr>\n",
       "    <tr>\n",
       "      <th>store_id</th>\n",
       "      <td>197421.0</td>\n",
       "      <td>3530.581397</td>\n",
       "      <td>2053.493429</td>\n",
       "      <td>1.0</td>\n",
       "      <td>1686.0</td>\n",
       "      <td>3592.0</td>\n",
       "      <td>5299.0</td>\n",
       "      <td>6987.0</td>\n",
       "    </tr>\n",
       "    <tr>\n",
       "      <th>order_protocol</th>\n",
       "      <td>196426.0</td>\n",
       "      <td>2.882358</td>\n",
       "      <td>1.503775</td>\n",
       "      <td>1.0</td>\n",
       "      <td>1.0</td>\n",
       "      <td>3.0</td>\n",
       "      <td>4.0</td>\n",
       "      <td>7.0</td>\n",
       "    </tr>\n",
       "    <tr>\n",
       "      <th>total_items</th>\n",
       "      <td>197421.0</td>\n",
       "      <td>3.196367</td>\n",
       "      <td>2.666552</td>\n",
       "      <td>1.0</td>\n",
       "      <td>2.0</td>\n",
       "      <td>3.0</td>\n",
       "      <td>4.0</td>\n",
       "      <td>411.0</td>\n",
       "    </tr>\n",
       "    <tr>\n",
       "      <th>subtotal</th>\n",
       "      <td>197421.0</td>\n",
       "      <td>2682.326379</td>\n",
       "      <td>1823.106256</td>\n",
       "      <td>0.0</td>\n",
       "      <td>1400.0</td>\n",
       "      <td>2200.0</td>\n",
       "      <td>3395.0</td>\n",
       "      <td>27100.0</td>\n",
       "    </tr>\n",
       "    <tr>\n",
       "      <th>num_distinct_items</th>\n",
       "      <td>197421.0</td>\n",
       "      <td>2.670780</td>\n",
       "      <td>1.630261</td>\n",
       "      <td>1.0</td>\n",
       "      <td>1.0</td>\n",
       "      <td>2.0</td>\n",
       "      <td>3.0</td>\n",
       "      <td>20.0</td>\n",
       "    </tr>\n",
       "    <tr>\n",
       "      <th>min_item_price</th>\n",
       "      <td>197421.0</td>\n",
       "      <td>686.224596</td>\n",
       "      <td>522.044061</td>\n",
       "      <td>-86.0</td>\n",
       "      <td>299.0</td>\n",
       "      <td>595.0</td>\n",
       "      <td>949.0</td>\n",
       "      <td>14700.0</td>\n",
       "    </tr>\n",
       "    <tr>\n",
       "      <th>max_item_price</th>\n",
       "      <td>197421.0</td>\n",
       "      <td>1159.590444</td>\n",
       "      <td>558.416236</td>\n",
       "      <td>0.0</td>\n",
       "      <td>800.0</td>\n",
       "      <td>1095.0</td>\n",
       "      <td>1395.0</td>\n",
       "      <td>14700.0</td>\n",
       "    </tr>\n",
       "    <tr>\n",
       "      <th>total_onshift_dashers</th>\n",
       "      <td>181159.0</td>\n",
       "      <td>44.806866</td>\n",
       "      <td>34.525913</td>\n",
       "      <td>-4.0</td>\n",
       "      <td>17.0</td>\n",
       "      <td>37.0</td>\n",
       "      <td>65.0</td>\n",
       "      <td>171.0</td>\n",
       "    </tr>\n",
       "    <tr>\n",
       "      <th>total_busy_dashers</th>\n",
       "      <td>181159.0</td>\n",
       "      <td>41.738787</td>\n",
       "      <td>32.145163</td>\n",
       "      <td>-5.0</td>\n",
       "      <td>15.0</td>\n",
       "      <td>34.0</td>\n",
       "      <td>62.0</td>\n",
       "      <td>154.0</td>\n",
       "    </tr>\n",
       "    <tr>\n",
       "      <th>total_outstanding_orders</th>\n",
       "      <td>181159.0</td>\n",
       "      <td>58.047969</td>\n",
       "      <td>52.660056</td>\n",
       "      <td>-6.0</td>\n",
       "      <td>17.0</td>\n",
       "      <td>41.0</td>\n",
       "      <td>85.0</td>\n",
       "      <td>285.0</td>\n",
       "    </tr>\n",
       "    <tr>\n",
       "      <th>estimated_order_place_duration</th>\n",
       "      <td>197421.0</td>\n",
       "      <td>308.560244</td>\n",
       "      <td>90.139725</td>\n",
       "      <td>0.0</td>\n",
       "      <td>251.0</td>\n",
       "      <td>251.0</td>\n",
       "      <td>446.0</td>\n",
       "      <td>2715.0</td>\n",
       "    </tr>\n",
       "    <tr>\n",
       "      <th>estimated_store_to_consumer_driving_duration</th>\n",
       "      <td>196895.0</td>\n",
       "      <td>545.357089</td>\n",
       "      <td>219.353976</td>\n",
       "      <td>0.0</td>\n",
       "      <td>382.0</td>\n",
       "      <td>544.0</td>\n",
       "      <td>702.0</td>\n",
       "      <td>2088.0</td>\n",
       "    </tr>\n",
       "    <tr>\n",
       "      <th>delivery_time</th>\n",
       "      <td>197421.0</td>\n",
       "      <td>2908.257374</td>\n",
       "      <td>19229.608945</td>\n",
       "      <td>101.0</td>\n",
       "      <td>2104.0</td>\n",
       "      <td>2660.0</td>\n",
       "      <td>3381.0</td>\n",
       "      <td>8516859.0</td>\n",
       "    </tr>\n",
       "  </tbody>\n",
       "</table>\n",
       "</div>"
      ],
      "text/plain": [
       "                                                 count         mean  \\\n",
       "market_id                                     196434.0     2.978700   \n",
       "store_id                                      197421.0  3530.581397   \n",
       "order_protocol                                196426.0     2.882358   \n",
       "total_items                                   197421.0     3.196367   \n",
       "subtotal                                      197421.0  2682.326379   \n",
       "num_distinct_items                            197421.0     2.670780   \n",
       "min_item_price                                197421.0   686.224596   \n",
       "max_item_price                                197421.0  1159.590444   \n",
       "total_onshift_dashers                         181159.0    44.806866   \n",
       "total_busy_dashers                            181159.0    41.738787   \n",
       "total_outstanding_orders                      181159.0    58.047969   \n",
       "estimated_order_place_duration                197421.0   308.560244   \n",
       "estimated_store_to_consumer_driving_duration  196895.0   545.357089   \n",
       "delivery_time                                 197421.0  2908.257374   \n",
       "\n",
       "                                                       std    min     25%  \\\n",
       "market_id                                         1.524879    1.0     2.0   \n",
       "store_id                                       2053.493429    1.0  1686.0   \n",
       "order_protocol                                    1.503775    1.0     1.0   \n",
       "total_items                                       2.666552    1.0     2.0   \n",
       "subtotal                                       1823.106256    0.0  1400.0   \n",
       "num_distinct_items                                1.630261    1.0     1.0   \n",
       "min_item_price                                  522.044061  -86.0   299.0   \n",
       "max_item_price                                  558.416236    0.0   800.0   \n",
       "total_onshift_dashers                            34.525913   -4.0    17.0   \n",
       "total_busy_dashers                               32.145163   -5.0    15.0   \n",
       "total_outstanding_orders                         52.660056   -6.0    17.0   \n",
       "estimated_order_place_duration                   90.139725    0.0   251.0   \n",
       "estimated_store_to_consumer_driving_duration    219.353976    0.0   382.0   \n",
       "delivery_time                                 19229.608945  101.0  2104.0   \n",
       "\n",
       "                                                 50%     75%        max  \n",
       "market_id                                        3.0     4.0        6.0  \n",
       "store_id                                      3592.0  5299.0     6987.0  \n",
       "order_protocol                                   3.0     4.0        7.0  \n",
       "total_items                                      3.0     4.0      411.0  \n",
       "subtotal                                      2200.0  3395.0    27100.0  \n",
       "num_distinct_items                               2.0     3.0       20.0  \n",
       "min_item_price                                 595.0   949.0    14700.0  \n",
       "max_item_price                                1095.0  1395.0    14700.0  \n",
       "total_onshift_dashers                           37.0    65.0      171.0  \n",
       "total_busy_dashers                              34.0    62.0      154.0  \n",
       "total_outstanding_orders                        41.0    85.0      285.0  \n",
       "estimated_order_place_duration                 251.0   446.0     2715.0  \n",
       "estimated_store_to_consumer_driving_duration   544.0   702.0     2088.0  \n",
       "delivery_time                                 2660.0  3381.0  8516859.0  "
      ]
     },
     "execution_count": 10,
     "metadata": {},
     "output_type": "execute_result"
    }
   ],
   "source": [
    "stats = df.describe()\n",
    "stats.transpose()"
   ]
  },
  {
   "cell_type": "code",
   "execution_count": 11,
   "metadata": {},
   "outputs": [],
   "source": [
    "df[df['min_item_price'] < 0] = 0\n",
    "df[df['total_outstanding_orders'] < 0] = 0\n",
    "df[df['total_onshift_dashers'] < 0] = 0\n",
    "df[df['total_busy_dashers'] < 0] = 0"
   ]
  },
  {
   "cell_type": "code",
   "execution_count": 12,
   "metadata": {},
   "outputs": [],
   "source": [
    "df = df[df['delivery_time'] < 1e5]"
   ]
  },
  {
   "cell_type": "code",
   "execution_count": 13,
   "metadata": {},
   "outputs": [
    {
     "data": {
      "text/html": [
       "<div>\n",
       "<style scoped>\n",
       "    .dataframe tbody tr th:only-of-type {\n",
       "        vertical-align: middle;\n",
       "    }\n",
       "\n",
       "    .dataframe tbody tr th {\n",
       "        vertical-align: top;\n",
       "    }\n",
       "\n",
       "    .dataframe thead th {\n",
       "        text-align: right;\n",
       "    }\n",
       "</style>\n",
       "<table border=\"1\" class=\"dataframe\">\n",
       "  <thead>\n",
       "    <tr style=\"text-align: right;\">\n",
       "      <th></th>\n",
       "      <th>count</th>\n",
       "      <th>mean</th>\n",
       "      <th>std</th>\n",
       "      <th>min</th>\n",
       "      <th>25%</th>\n",
       "      <th>50%</th>\n",
       "      <th>75%</th>\n",
       "      <th>max</th>\n",
       "    </tr>\n",
       "  </thead>\n",
       "  <tbody>\n",
       "    <tr>\n",
       "      <th>market_id</th>\n",
       "      <td>196431.0</td>\n",
       "      <td>2.977717</td>\n",
       "      <td>1.525896</td>\n",
       "      <td>0.0</td>\n",
       "      <td>2.0</td>\n",
       "      <td>3.0</td>\n",
       "      <td>4.0</td>\n",
       "      <td>6.0</td>\n",
       "    </tr>\n",
       "    <tr>\n",
       "      <th>store_id</th>\n",
       "      <td>197418.0</td>\n",
       "      <td>3529.020743</td>\n",
       "      <td>2054.438894</td>\n",
       "      <td>0.0</td>\n",
       "      <td>1686.0</td>\n",
       "      <td>3586.0</td>\n",
       "      <td>5299.0</td>\n",
       "      <td>6987.0</td>\n",
       "    </tr>\n",
       "    <tr>\n",
       "      <th>order_protocol</th>\n",
       "      <td>196423.0</td>\n",
       "      <td>2.881032</td>\n",
       "      <td>1.504687</td>\n",
       "      <td>0.0</td>\n",
       "      <td>1.0</td>\n",
       "      <td>3.0</td>\n",
       "      <td>4.0</td>\n",
       "      <td>7.0</td>\n",
       "    </tr>\n",
       "    <tr>\n",
       "      <th>total_items</th>\n",
       "      <td>197418.0</td>\n",
       "      <td>3.194278</td>\n",
       "      <td>2.664548</td>\n",
       "      <td>0.0</td>\n",
       "      <td>2.0</td>\n",
       "      <td>3.0</td>\n",
       "      <td>4.0</td>\n",
       "      <td>411.0</td>\n",
       "    </tr>\n",
       "    <tr>\n",
       "      <th>subtotal</th>\n",
       "      <td>197418.0</td>\n",
       "      <td>2681.126832</td>\n",
       "      <td>1823.729805</td>\n",
       "      <td>0.0</td>\n",
       "      <td>1400.0</td>\n",
       "      <td>2200.0</td>\n",
       "      <td>3395.0</td>\n",
       "      <td>27100.0</td>\n",
       "    </tr>\n",
       "    <tr>\n",
       "      <th>num_distinct_items</th>\n",
       "      <td>197418.0</td>\n",
       "      <td>2.669483</td>\n",
       "      <td>1.630846</td>\n",
       "      <td>0.0</td>\n",
       "      <td>1.0</td>\n",
       "      <td>2.0</td>\n",
       "      <td>3.0</td>\n",
       "      <td>20.0</td>\n",
       "    </tr>\n",
       "    <tr>\n",
       "      <th>min_item_price</th>\n",
       "      <td>197418.0</td>\n",
       "      <td>685.908342</td>\n",
       "      <td>522.061122</td>\n",
       "      <td>0.0</td>\n",
       "      <td>299.0</td>\n",
       "      <td>595.0</td>\n",
       "      <td>949.0</td>\n",
       "      <td>14700.0</td>\n",
       "    </tr>\n",
       "    <tr>\n",
       "      <th>max_item_price</th>\n",
       "      <td>197418.0</td>\n",
       "      <td>1159.075211</td>\n",
       "      <td>558.828165</td>\n",
       "      <td>0.0</td>\n",
       "      <td>800.0</td>\n",
       "      <td>1095.0</td>\n",
       "      <td>1395.0</td>\n",
       "      <td>14700.0</td>\n",
       "    </tr>\n",
       "    <tr>\n",
       "      <th>total_onshift_dashers</th>\n",
       "      <td>181158.0</td>\n",
       "      <td>44.802195</td>\n",
       "      <td>34.530033</td>\n",
       "      <td>0.0</td>\n",
       "      <td>17.0</td>\n",
       "      <td>37.0</td>\n",
       "      <td>65.0</td>\n",
       "      <td>171.0</td>\n",
       "    </tr>\n",
       "    <tr>\n",
       "      <th>total_busy_dashers</th>\n",
       "      <td>181158.0</td>\n",
       "      <td>41.734580</td>\n",
       "      <td>32.148906</td>\n",
       "      <td>0.0</td>\n",
       "      <td>15.0</td>\n",
       "      <td>34.0</td>\n",
       "      <td>62.0</td>\n",
       "      <td>154.0</td>\n",
       "    </tr>\n",
       "    <tr>\n",
       "      <th>total_outstanding_orders</th>\n",
       "      <td>181158.0</td>\n",
       "      <td>58.044276</td>\n",
       "      <td>52.662558</td>\n",
       "      <td>0.0</td>\n",
       "      <td>17.0</td>\n",
       "      <td>41.0</td>\n",
       "      <td>85.0</td>\n",
       "      <td>285.0</td>\n",
       "    </tr>\n",
       "    <tr>\n",
       "      <th>estimated_order_place_duration</th>\n",
       "      <td>197418.0</td>\n",
       "      <td>308.399133</td>\n",
       "      <td>90.363603</td>\n",
       "      <td>0.0</td>\n",
       "      <td>251.0</td>\n",
       "      <td>251.0</td>\n",
       "      <td>446.0</td>\n",
       "      <td>2715.0</td>\n",
       "    </tr>\n",
       "    <tr>\n",
       "      <th>estimated_store_to_consumer_driving_duration</th>\n",
       "      <td>196893.0</td>\n",
       "      <td>545.093985</td>\n",
       "      <td>219.622033</td>\n",
       "      <td>0.0</td>\n",
       "      <td>382.0</td>\n",
       "      <td>543.0</td>\n",
       "      <td>702.0</td>\n",
       "      <td>2088.0</td>\n",
       "    </tr>\n",
       "    <tr>\n",
       "      <th>delivery_time</th>\n",
       "      <td>197418.0</td>\n",
       "      <td>2860.143492</td>\n",
       "      <td>1165.486568</td>\n",
       "      <td>0.0</td>\n",
       "      <td>2103.0</td>\n",
       "      <td>2659.0</td>\n",
       "      <td>3381.0</td>\n",
       "      <td>57032.0</td>\n",
       "    </tr>\n",
       "  </tbody>\n",
       "</table>\n",
       "</div>"
      ],
      "text/plain": [
       "                                                 count         mean  \\\n",
       "market_id                                     196431.0     2.977717   \n",
       "store_id                                      197418.0  3529.020743   \n",
       "order_protocol                                196423.0     2.881032   \n",
       "total_items                                   197418.0     3.194278   \n",
       "subtotal                                      197418.0  2681.126832   \n",
       "num_distinct_items                            197418.0     2.669483   \n",
       "min_item_price                                197418.0   685.908342   \n",
       "max_item_price                                197418.0  1159.075211   \n",
       "total_onshift_dashers                         181158.0    44.802195   \n",
       "total_busy_dashers                            181158.0    41.734580   \n",
       "total_outstanding_orders                      181158.0    58.044276   \n",
       "estimated_order_place_duration                197418.0   308.399133   \n",
       "estimated_store_to_consumer_driving_duration  196893.0   545.093985   \n",
       "delivery_time                                 197418.0  2860.143492   \n",
       "\n",
       "                                                      std  min     25%  \\\n",
       "market_id                                        1.525896  0.0     2.0   \n",
       "store_id                                      2054.438894  0.0  1686.0   \n",
       "order_protocol                                   1.504687  0.0     1.0   \n",
       "total_items                                      2.664548  0.0     2.0   \n",
       "subtotal                                      1823.729805  0.0  1400.0   \n",
       "num_distinct_items                               1.630846  0.0     1.0   \n",
       "min_item_price                                 522.061122  0.0   299.0   \n",
       "max_item_price                                 558.828165  0.0   800.0   \n",
       "total_onshift_dashers                           34.530033  0.0    17.0   \n",
       "total_busy_dashers                              32.148906  0.0    15.0   \n",
       "total_outstanding_orders                        52.662558  0.0    17.0   \n",
       "estimated_order_place_duration                  90.363603  0.0   251.0   \n",
       "estimated_store_to_consumer_driving_duration   219.622033  0.0   382.0   \n",
       "delivery_time                                 1165.486568  0.0  2103.0   \n",
       "\n",
       "                                                 50%     75%      max  \n",
       "market_id                                        3.0     4.0      6.0  \n",
       "store_id                                      3586.0  5299.0   6987.0  \n",
       "order_protocol                                   3.0     4.0      7.0  \n",
       "total_items                                      3.0     4.0    411.0  \n",
       "subtotal                                      2200.0  3395.0  27100.0  \n",
       "num_distinct_items                               2.0     3.0     20.0  \n",
       "min_item_price                                 595.0   949.0  14700.0  \n",
       "max_item_price                                1095.0  1395.0  14700.0  \n",
       "total_onshift_dashers                           37.0    65.0    171.0  \n",
       "total_busy_dashers                              34.0    62.0    154.0  \n",
       "total_outstanding_orders                        41.0    85.0    285.0  \n",
       "estimated_order_place_duration                 251.0   446.0   2715.0  \n",
       "estimated_store_to_consumer_driving_duration   543.0   702.0   2088.0  \n",
       "delivery_time                                 2659.0  3381.0  57032.0  "
      ]
     },
     "execution_count": 13,
     "metadata": {},
     "output_type": "execute_result"
    }
   ],
   "source": [
    "stats = df.describe()\n",
    "stats.transpose()"
   ]
  },
  {
   "cell_type": "markdown",
   "metadata": {},
   "source": [
    "### 4- Filling existing null values in columns"
   ]
  },
  {
   "cell_type": "code",
   "execution_count": 14,
   "metadata": {},
   "outputs": [],
   "source": [
    "df['store_primary_category'].fillna('Unknown', inplace = True)"
   ]
  },
  {
   "cell_type": "code",
   "execution_count": 15,
   "metadata": {},
   "outputs": [
    {
     "data": {
      "text/plain": [
       "array([ 1.,  2.,  3.,  4., nan,  5.,  0.,  6.,  7.])"
      ]
     },
     "execution_count": 15,
     "metadata": {},
     "output_type": "execute_result"
    }
   ],
   "source": [
    "df['order_protocol'].unique()"
   ]
  },
  {
   "cell_type": "code",
   "execution_count": 16,
   "metadata": {},
   "outputs": [
    {
     "data": {
      "text/plain": [
       "array([ 1.,  2.,  3.,  4., nan,  5.,  6.,  0.])"
      ]
     },
     "execution_count": 16,
     "metadata": {},
     "output_type": "execute_result"
    }
   ],
   "source": [
    "df['market_id'].unique()"
   ]
  },
  {
   "cell_type": "code",
   "execution_count": 17,
   "metadata": {},
   "outputs": [],
   "source": [
    "df['order_protocol'].fillna(np.float64(-1), inplace = True)\n",
    "df['market_id'].fillna(np.float64(-1), inplace = True)"
   ]
  },
  {
   "cell_type": "code",
   "execution_count": 18,
   "metadata": {},
   "outputs": [],
   "source": [
    "imp_mean = SimpleImputer(missing_values=np.nan, strategy='mean')\n",
    "mean_columns = ['total_onshift_dashers','total_busy_dashers','total_outstanding_orders','estimated_store_to_consumer_driving_duration']\n",
    "imp_mean.fit(df[mean_columns])\n",
    "df[mean_columns] = imp_mean.transform(df[mean_columns])"
   ]
  },
  {
   "cell_type": "code",
   "execution_count": 19,
   "metadata": {},
   "outputs": [
    {
     "name": "stdout",
     "output_type": "stream",
     "text": [
      "<class 'pandas.core.frame.DataFrame'>\n",
      "Int64Index: 197418 entries, 0 to 197427\n",
      "Data columns (total 17 columns):\n",
      "market_id                                       197418 non-null float64\n",
      "created_at                                      197418 non-null object\n",
      "actual_delivery_time                            197418 non-null object\n",
      "store_id                                        197418 non-null int64\n",
      "store_primary_category                          197418 non-null object\n",
      "order_protocol                                  197418 non-null float64\n",
      "total_items                                     197418 non-null int64\n",
      "subtotal                                        197418 non-null int64\n",
      "num_distinct_items                              197418 non-null int64\n",
      "min_item_price                                  197418 non-null int64\n",
      "max_item_price                                  197418 non-null int64\n",
      "total_onshift_dashers                           197418 non-null float64\n",
      "total_busy_dashers                              197418 non-null float64\n",
      "total_outstanding_orders                        197418 non-null float64\n",
      "estimated_order_place_duration                  197418 non-null int64\n",
      "estimated_store_to_consumer_driving_duration    197418 non-null float64\n",
      "delivery_time                                   197418 non-null float64\n",
      "dtypes: float64(7), int64(7), object(3)\n",
      "memory usage: 27.1+ MB\n"
     ]
    }
   ],
   "source": [
    "df.info()"
   ]
  },
  {
   "cell_type": "markdown",
   "metadata": {},
   "source": [
    "### 6- Converting ordinal columns to string"
   ]
  },
  {
   "cell_type": "code",
   "execution_count": 21,
   "metadata": {},
   "outputs": [],
   "source": [
    "df[['market_id', 'store_id', 'order_protocol']] = \\\n",
    "df[['market_id', 'store_id', 'order_protocol']].astype('str')"
   ]
  },
  {
   "cell_type": "markdown",
   "metadata": {},
   "source": [
    "### 7- Studying relationship between target value and numerical features"
   ]
  },
  {
   "cell_type": "code",
   "execution_count": 22,
   "metadata": {},
   "outputs": [
    {
     "name": "stdout",
     "output_type": "stream",
     "text": [
      "delivery_time                                   1.000000\n",
      "estimated_store_to_consumer_driving_duration    0.225323\n",
      "subtotal                                        0.205618\n",
      "total_outstanding_orders                        0.167564\n",
      "num_distinct_items                              0.149428\n",
      "max_item_price                                  0.128281\n",
      "total_items                                     0.112613\n",
      "estimated_order_place_duration                  0.100940\n",
      "total_busy_dashers                              0.084736\n",
      "total_onshift_dashers                           0.066297\n",
      "min_item_price                                  0.016374\n",
      "Name: delivery_time, dtype: float64\n"
     ]
    }
   ],
   "source": [
    "correlation = np.abs(df.corr()['delivery_time']).sort_values(ascending=False)\n",
    "print(correlation)"
   ]
  },
  {
   "cell_type": "code",
   "execution_count": 23,
   "metadata": {},
   "outputs": [
    {
     "data": {
      "text/plain": [
       "['total_items',\n",
       " 'subtotal',\n",
       " 'num_distinct_items',\n",
       " 'min_item_price',\n",
       " 'max_item_price',\n",
       " 'total_onshift_dashers',\n",
       " 'total_busy_dashers',\n",
       " 'total_outstanding_orders',\n",
       " 'estimated_order_place_duration',\n",
       " 'estimated_store_to_consumer_driving_duration',\n",
       " 'delivery_time']"
      ]
     },
     "execution_count": 23,
     "metadata": {},
     "output_type": "execute_result"
    }
   ],
   "source": [
    "num_cols=list(df.select_dtypes(exclude=['object']).columns)\n",
    "num_cols"
   ]
  },
  {
   "cell_type": "markdown",
   "metadata": {},
   "source": [
    "### 8- Removing some anomalies from numerical features and target"
   ]
  },
  {
   "cell_type": "code",
   "execution_count": 25,
   "metadata": {},
   "outputs": [],
   "source": [
    "df = df[df['delivery_time'] < 3e4]"
   ]
  },
  {
   "cell_type": "code",
   "execution_count": 26,
   "metadata": {},
   "outputs": [],
   "source": [
    "df = df[df['max_item_price'] < 14000]\n",
    "df = df[df['total_items'] < 200]"
   ]
  },
  {
   "cell_type": "markdown",
   "metadata": {},
   "source": [
    "### 10- Dropping non feature columns and shuffling the train data"
   ]
  },
  {
   "cell_type": "code",
   "execution_count": 27,
   "metadata": {},
   "outputs": [],
   "source": [
    "df = sklearn.utils.shuffle(df)"
   ]
  },
  {
   "cell_type": "code",
   "execution_count": 28,
   "metadata": {},
   "outputs": [
    {
     "data": {
      "text/html": [
       "<div>\n",
       "<style scoped>\n",
       "    .dataframe tbody tr th:only-of-type {\n",
       "        vertical-align: middle;\n",
       "    }\n",
       "\n",
       "    .dataframe tbody tr th {\n",
       "        vertical-align: top;\n",
       "    }\n",
       "\n",
       "    .dataframe thead th {\n",
       "        text-align: right;\n",
       "    }\n",
       "</style>\n",
       "<table border=\"1\" class=\"dataframe\">\n",
       "  <thead>\n",
       "    <tr style=\"text-align: right;\">\n",
       "      <th></th>\n",
       "      <th>market_id</th>\n",
       "      <th>store_primary_category</th>\n",
       "      <th>order_protocol</th>\n",
       "      <th>total_items</th>\n",
       "      <th>subtotal</th>\n",
       "      <th>num_distinct_items</th>\n",
       "      <th>min_item_price</th>\n",
       "      <th>max_item_price</th>\n",
       "      <th>total_onshift_dashers</th>\n",
       "      <th>total_busy_dashers</th>\n",
       "      <th>total_outstanding_orders</th>\n",
       "      <th>estimated_order_place_duration</th>\n",
       "      <th>estimated_store_to_consumer_driving_duration</th>\n",
       "      <th>delivery_time</th>\n",
       "    </tr>\n",
       "  </thead>\n",
       "  <tbody>\n",
       "    <tr>\n",
       "      <th>120578</th>\n",
       "      <td>2.0</td>\n",
       "      <td>mexican</td>\n",
       "      <td>5.0</td>\n",
       "      <td>4</td>\n",
       "      <td>1776</td>\n",
       "      <td>4</td>\n",
       "      <td>149</td>\n",
       "      <td>699</td>\n",
       "      <td>46.0</td>\n",
       "      <td>39.0</td>\n",
       "      <td>38.0</td>\n",
       "      <td>251</td>\n",
       "      <td>642.0</td>\n",
       "      <td>1493.0</td>\n",
       "    </tr>\n",
       "    <tr>\n",
       "      <th>175156</th>\n",
       "      <td>2.0</td>\n",
       "      <td>sandwich</td>\n",
       "      <td>3.0</td>\n",
       "      <td>5</td>\n",
       "      <td>4350</td>\n",
       "      <td>4</td>\n",
       "      <td>429</td>\n",
       "      <td>839</td>\n",
       "      <td>106.0</td>\n",
       "      <td>89.0</td>\n",
       "      <td>153.0</td>\n",
       "      <td>251</td>\n",
       "      <td>705.0</td>\n",
       "      <td>4448.0</td>\n",
       "    </tr>\n",
       "    <tr>\n",
       "      <th>56540</th>\n",
       "      <td>4.0</td>\n",
       "      <td>sandwich</td>\n",
       "      <td>3.0</td>\n",
       "      <td>3</td>\n",
       "      <td>1644</td>\n",
       "      <td>3</td>\n",
       "      <td>159</td>\n",
       "      <td>899</td>\n",
       "      <td>69.0</td>\n",
       "      <td>61.0</td>\n",
       "      <td>73.0</td>\n",
       "      <td>251</td>\n",
       "      <td>479.0</td>\n",
       "      <td>2408.0</td>\n",
       "    </tr>\n",
       "    <tr>\n",
       "      <th>79970</th>\n",
       "      <td>5.0</td>\n",
       "      <td>indian</td>\n",
       "      <td>2.0</td>\n",
       "      <td>5</td>\n",
       "      <td>3785</td>\n",
       "      <td>5</td>\n",
       "      <td>195</td>\n",
       "      <td>1295</td>\n",
       "      <td>16.0</td>\n",
       "      <td>10.0</td>\n",
       "      <td>12.0</td>\n",
       "      <td>251</td>\n",
       "      <td>923.0</td>\n",
       "      <td>2820.0</td>\n",
       "    </tr>\n",
       "    <tr>\n",
       "      <th>129413</th>\n",
       "      <td>2.0</td>\n",
       "      <td>chinese</td>\n",
       "      <td>5.0</td>\n",
       "      <td>1</td>\n",
       "      <td>1325</td>\n",
       "      <td>1</td>\n",
       "      <td>1325</td>\n",
       "      <td>1325</td>\n",
       "      <td>11.0</td>\n",
       "      <td>12.0</td>\n",
       "      <td>20.0</td>\n",
       "      <td>446</td>\n",
       "      <td>873.0</td>\n",
       "      <td>4613.0</td>\n",
       "    </tr>\n",
       "    <tr>\n",
       "      <th>147841</th>\n",
       "      <td>1.0</td>\n",
       "      <td>mediterranean</td>\n",
       "      <td>5.0</td>\n",
       "      <td>2</td>\n",
       "      <td>2050</td>\n",
       "      <td>1</td>\n",
       "      <td>950</td>\n",
       "      <td>950</td>\n",
       "      <td>52.0</td>\n",
       "      <td>52.0</td>\n",
       "      <td>68.0</td>\n",
       "      <td>251</td>\n",
       "      <td>241.0</td>\n",
       "      <td>2470.0</td>\n",
       "    </tr>\n",
       "    <tr>\n",
       "      <th>136262</th>\n",
       "      <td>2.0</td>\n",
       "      <td>hawaiian</td>\n",
       "      <td>3.0</td>\n",
       "      <td>3</td>\n",
       "      <td>1025</td>\n",
       "      <td>3</td>\n",
       "      <td>125</td>\n",
       "      <td>775</td>\n",
       "      <td>149.0</td>\n",
       "      <td>91.0</td>\n",
       "      <td>138.0</td>\n",
       "      <td>251</td>\n",
       "      <td>580.0</td>\n",
       "      <td>2436.0</td>\n",
       "    </tr>\n",
       "    <tr>\n",
       "      <th>36870</th>\n",
       "      <td>1.0</td>\n",
       "      <td>salad</td>\n",
       "      <td>5.0</td>\n",
       "      <td>4</td>\n",
       "      <td>4290</td>\n",
       "      <td>4</td>\n",
       "      <td>550</td>\n",
       "      <td>1540</td>\n",
       "      <td>28.0</td>\n",
       "      <td>28.0</td>\n",
       "      <td>34.0</td>\n",
       "      <td>251</td>\n",
       "      <td>565.0</td>\n",
       "      <td>2525.0</td>\n",
       "    </tr>\n",
       "    <tr>\n",
       "      <th>71104</th>\n",
       "      <td>-1.0</td>\n",
       "      <td>Unknown</td>\n",
       "      <td>4.0</td>\n",
       "      <td>1</td>\n",
       "      <td>1199</td>\n",
       "      <td>1</td>\n",
       "      <td>1199</td>\n",
       "      <td>1199</td>\n",
       "      <td>63.0</td>\n",
       "      <td>60.0</td>\n",
       "      <td>94.0</td>\n",
       "      <td>251</td>\n",
       "      <td>285.0</td>\n",
       "      <td>2679.0</td>\n",
       "    </tr>\n",
       "    <tr>\n",
       "      <th>24549</th>\n",
       "      <td>2.0</td>\n",
       "      <td>burger</td>\n",
       "      <td>3.0</td>\n",
       "      <td>3</td>\n",
       "      <td>1398</td>\n",
       "      <td>3</td>\n",
       "      <td>229</td>\n",
       "      <td>349</td>\n",
       "      <td>131.0</td>\n",
       "      <td>125.0</td>\n",
       "      <td>226.0</td>\n",
       "      <td>251</td>\n",
       "      <td>666.0</td>\n",
       "      <td>2052.0</td>\n",
       "    </tr>\n",
       "  </tbody>\n",
       "</table>\n",
       "</div>"
      ],
      "text/plain": [
       "       market_id store_primary_category order_protocol  total_items  subtotal  \\\n",
       "120578       2.0                mexican            5.0            4      1776   \n",
       "175156       2.0               sandwich            3.0            5      4350   \n",
       "56540        4.0               sandwich            3.0            3      1644   \n",
       "79970        5.0                 indian            2.0            5      3785   \n",
       "129413       2.0                chinese            5.0            1      1325   \n",
       "147841       1.0          mediterranean            5.0            2      2050   \n",
       "136262       2.0               hawaiian            3.0            3      1025   \n",
       "36870        1.0                  salad            5.0            4      4290   \n",
       "71104       -1.0                Unknown            4.0            1      1199   \n",
       "24549        2.0                 burger            3.0            3      1398   \n",
       "\n",
       "        num_distinct_items  min_item_price  max_item_price  \\\n",
       "120578                   4             149             699   \n",
       "175156                   4             429             839   \n",
       "56540                    3             159             899   \n",
       "79970                    5             195            1295   \n",
       "129413                   1            1325            1325   \n",
       "147841                   1             950             950   \n",
       "136262                   3             125             775   \n",
       "36870                    4             550            1540   \n",
       "71104                    1            1199            1199   \n",
       "24549                    3             229             349   \n",
       "\n",
       "        total_onshift_dashers  total_busy_dashers  total_outstanding_orders  \\\n",
       "120578                   46.0                39.0                      38.0   \n",
       "175156                  106.0                89.0                     153.0   \n",
       "56540                    69.0                61.0                      73.0   \n",
       "79970                    16.0                10.0                      12.0   \n",
       "129413                   11.0                12.0                      20.0   \n",
       "147841                   52.0                52.0                      68.0   \n",
       "136262                  149.0                91.0                     138.0   \n",
       "36870                    28.0                28.0                      34.0   \n",
       "71104                    63.0                60.0                      94.0   \n",
       "24549                   131.0               125.0                     226.0   \n",
       "\n",
       "        estimated_order_place_duration  \\\n",
       "120578                             251   \n",
       "175156                             251   \n",
       "56540                              251   \n",
       "79970                              251   \n",
       "129413                             446   \n",
       "147841                             251   \n",
       "136262                             251   \n",
       "36870                              251   \n",
       "71104                              251   \n",
       "24549                              251   \n",
       "\n",
       "        estimated_store_to_consumer_driving_duration  delivery_time  \n",
       "120578                                         642.0         1493.0  \n",
       "175156                                         705.0         4448.0  \n",
       "56540                                          479.0         2408.0  \n",
       "79970                                          923.0         2820.0  \n",
       "129413                                         873.0         4613.0  \n",
       "147841                                         241.0         2470.0  \n",
       "136262                                         580.0         2436.0  \n",
       "36870                                          565.0         2525.0  \n",
       "71104                                          285.0         2679.0  \n",
       "24549                                          666.0         2052.0  "
      ]
     },
     "execution_count": 28,
     "metadata": {},
     "output_type": "execute_result"
    }
   ],
   "source": [
    "df.drop(columns = ['created_at', 'actual_delivery_time', 'store_id'], inplace = True)\n",
    "df.head(10)"
   ]
  },
  {
   "cell_type": "markdown",
   "metadata": {},
   "source": [
    "## Preparing Data for Machine Learning"
   ]
  },
  {
   "cell_type": "markdown",
   "metadata": {},
   "source": [
    "### 1- Splitting target value and feature data frames"
   ]
  },
  {
   "cell_type": "code",
   "execution_count": 29,
   "metadata": {},
   "outputs": [],
   "source": [
    "df_target = df[['delivery_time']]\n",
    "df_feature = df.drop('delivery_time', 1)"
   ]
  },
  {
   "cell_type": "code",
   "execution_count": 30,
   "metadata": {},
   "outputs": [
    {
     "data": {
      "text/plain": [
       "['total_items',\n",
       " 'subtotal',\n",
       " 'num_distinct_items',\n",
       " 'min_item_price',\n",
       " 'max_item_price',\n",
       " 'total_onshift_dashers',\n",
       " 'total_busy_dashers',\n",
       " 'total_outstanding_orders',\n",
       " 'estimated_order_place_duration',\n",
       " 'estimated_store_to_consumer_driving_duration']"
      ]
     },
     "execution_count": 30,
     "metadata": {},
     "output_type": "execute_result"
    }
   ],
   "source": [
    "num_cols=list(df_feature.select_dtypes(exclude=['object']).columns)\n",
    "num_cols"
   ]
  },
  {
   "cell_type": "markdown",
   "metadata": {},
   "source": [
    "### 2- One-hot encoding of categorical and ordinal features"
   ]
  },
  {
   "cell_type": "code",
   "execution_count": 31,
   "metadata": {},
   "outputs": [
    {
     "data": {
      "text/plain": [
       "Index(['store_primary_category_turkish', 'store_primary_category_vegan',\n",
       "       'store_primary_category_vegetarian',\n",
       "       'store_primary_category_vietnamese', 'order_protocol_-1.0',\n",
       "       'order_protocol_0.0', 'order_protocol_1.0', 'order_protocol_2.0',\n",
       "       'order_protocol_3.0', 'order_protocol_4.0', 'order_protocol_5.0',\n",
       "       'order_protocol_6.0', 'order_protocol_7.0'],\n",
       "      dtype='object')"
      ]
     },
     "execution_count": 31,
     "metadata": {},
     "output_type": "execute_result"
    }
   ],
   "source": [
    "df_feature = pd.get_dummies(df_feature)\n",
    "df_feature.columns[90:]"
   ]
  },
  {
   "cell_type": "code",
   "execution_count": 32,
   "metadata": {},
   "outputs": [
    {
     "name": "stdout",
     "output_type": "stream",
     "text": [
      "Number of columns for train set is 103\n"
     ]
    }
   ],
   "source": [
    "train_columns = df_feature.columns\n",
    "print(f\"Number of columns for train set is {len(train_columns)}\")"
   ]
  },
  {
   "cell_type": "markdown",
   "metadata": {},
   "source": [
    "### 3- Splitting dataset to train and validation set"
   ]
  },
  {
   "cell_type": "code",
   "execution_count": 33,
   "metadata": {},
   "outputs": [
    {
     "name": "stdout",
     "output_type": "stream",
     "text": [
      "Number of train samples is 157924\n"
     ]
    }
   ],
   "source": [
    "train_samples = int(np.ceil((1 - val_ratio) * df_feature.shape[0]))\n",
    "print(f\"Number of train samples is {train_samples}\")"
   ]
  },
  {
   "cell_type": "code",
   "execution_count": 34,
   "metadata": {},
   "outputs": [],
   "source": [
    "df_train = df_feature[:train_samples]\n",
    "train_target = df_target[:train_samples]\n",
    "df_val = df_feature[train_samples:]\n",
    "val_target = df_target[train_samples:]"
   ]
  },
  {
   "cell_type": "markdown",
   "metadata": {},
   "source": [
    "### 4- Normalizing numerical features for train and validation sets"
   ]
  },
  {
   "cell_type": "code",
   "execution_count": 35,
   "metadata": {},
   "outputs": [
    {
     "name": "stderr",
     "output_type": "stream",
     "text": [
      "/Users/yahya/anaconda/envs/forecasting/lib/python3.6/site-packages/ipykernel_launcher.py:4: SettingWithCopyWarning: \n",
      "A value is trying to be set on a copy of a slice from a DataFrame.\n",
      "Try using .loc[row_indexer,col_indexer] = value instead\n",
      "\n",
      "See the caveats in the documentation: http://pandas.pydata.org/pandas-docs/stable/user_guide/indexing.html#returning-a-view-versus-a-copy\n",
      "  after removing the cwd from sys.path.\n",
      "/Users/yahya/anaconda/envs/forecasting/lib/python3.6/site-packages/pandas/core/indexing.py:494: SettingWithCopyWarning: \n",
      "A value is trying to be set on a copy of a slice from a DataFrame.\n",
      "Try using .loc[row_indexer,col_indexer] = value instead\n",
      "\n",
      "See the caveats in the documentation: http://pandas.pydata.org/pandas-docs/stable/user_guide/indexing.html#returning-a-view-versus-a-copy\n",
      "  self.obj[item] = s\n"
     ]
    }
   ],
   "source": [
    "num_train_features = df_train[num_cols]\n",
    "scaler = StandardScaler().fit(num_train_features.values)\n",
    "scaled_train_features = scaler.transform(num_train_features.values)\n",
    "df_train[num_cols] = scaled_train_features"
   ]
  },
  {
   "cell_type": "code",
   "execution_count": 36,
   "metadata": {},
   "outputs": [
    {
     "name": "stderr",
     "output_type": "stream",
     "text": [
      "/Users/yahya/anaconda/envs/forecasting/lib/python3.6/site-packages/ipykernel_launcher.py:3: SettingWithCopyWarning: \n",
      "A value is trying to be set on a copy of a slice from a DataFrame.\n",
      "Try using .loc[row_indexer,col_indexer] = value instead\n",
      "\n",
      "See the caveats in the documentation: http://pandas.pydata.org/pandas-docs/stable/user_guide/indexing.html#returning-a-view-versus-a-copy\n",
      "  This is separate from the ipykernel package so we can avoid doing imports until\n",
      "/Users/yahya/anaconda/envs/forecasting/lib/python3.6/site-packages/pandas/core/indexing.py:494: SettingWithCopyWarning: \n",
      "A value is trying to be set on a copy of a slice from a DataFrame.\n",
      "Try using .loc[row_indexer,col_indexer] = value instead\n",
      "\n",
      "See the caveats in the documentation: http://pandas.pydata.org/pandas-docs/stable/user_guide/indexing.html#returning-a-view-versus-a-copy\n",
      "  self.obj[item] = s\n"
     ]
    }
   ],
   "source": [
    "num_val_features = df_val[num_cols]\n",
    "scaled_val_features = scaler.transform(num_val_features.values)\n",
    "df_val[num_cols] = scaled_val_features"
   ]
  },
  {
   "cell_type": "code",
   "execution_count": 37,
   "metadata": {},
   "outputs": [],
   "source": [
    "X_train = df_train.values\n",
    "y_train = train_target.values\n",
    "X_val = df_val.values\n",
    "y_val = val_target.values"
   ]
  },
  {
   "cell_type": "code",
   "execution_count": 38,
   "metadata": {},
   "outputs": [
    {
     "name": "stdout",
     "output_type": "stream",
     "text": [
      "(157924, 103) (157924, 1) (39481, 103) (39481, 1)\n"
     ]
    }
   ],
   "source": [
    "print(X_train.shape, y_train.shape, X_val.shape, y_val.shape)"
   ]
  },
  {
   "cell_type": "markdown",
   "metadata": {},
   "source": [
    "## Model Selection"
   ]
  },
  {
   "cell_type": "markdown",
   "metadata": {},
   "source": [
    "### 1 - Training and evaluation of dense neural network"
   ]
  },
  {
   "cell_type": "code",
   "execution_count": 39,
   "metadata": {},
   "outputs": [],
   "source": [
    "def build_dense_model(train_data, num_layers, nodes, dropout_ratio, learning_rate):\n",
    "    model = tf.keras.Sequential()\n",
    "    if num_layers >= 2:\n",
    "        model.add(layers.Dense(nodes, activation='relu', input_shape = (train_data.shape[1],)))\n",
    "        model.add(layers.Dropout(dropout_ratio))\n",
    "    if num_layers == 3:\n",
    "        model.add(layers.Dense(nodes//2, activation='relu'))\n",
    "        model.add(layers.Dropout(dropout_ratio))\n",
    "    model.add(layers.Dense(64, activation='relu'))\n",
    "    model.add(layers.Dropout(dropout_ratio))\n",
    "    model.add(layers.Dense(1))\n",
    "    optimizer = keras.optimizers.Adam(learning_rate)\n",
    "    model.compile(optimizer = 'adam', loss = 'mse', metrics = ['mae'])\n",
    "    return model"
   ]
  },
  {
   "cell_type": "code",
   "execution_count": 40,
   "metadata": {},
   "outputs": [],
   "source": [
    "earlystop_callback = keras.callbacks.EarlyStopping(monitor='val_loss', min_delta=1000,  patience=5)"
   ]
  },
  {
   "cell_type": "code",
   "execution_count": 41,
   "metadata": {},
   "outputs": [
    {
     "name": "stdout",
     "output_type": "stream",
     "text": [
      "Model: \"sequential\"\n",
      "_________________________________________________________________\n",
      "Layer (type)                 Output Shape              Param #   \n",
      "=================================================================\n",
      "dense (Dense)                (None, 512)               53248     \n",
      "_________________________________________________________________\n",
      "dropout (Dropout)            (None, 512)               0         \n",
      "_________________________________________________________________\n",
      "dense_1 (Dense)              (None, 256)               131328    \n",
      "_________________________________________________________________\n",
      "dropout_1 (Dropout)          (None, 256)               0         \n",
      "_________________________________________________________________\n",
      "dense_2 (Dense)              (None, 64)                16448     \n",
      "_________________________________________________________________\n",
      "dropout_2 (Dropout)          (None, 64)                0         \n",
      "_________________________________________________________________\n",
      "dense_3 (Dense)              (None, 1)                 65        \n",
      "=================================================================\n",
      "Total params: 201,089\n",
      "Trainable params: 201,089\n",
      "Non-trainable params: 0\n",
      "_________________________________________________________________\n"
     ]
    }
   ],
   "source": [
    "dense_model = build_dense_model(X_train, 3, 512, 0, 0.001)\n",
    "dense_model.summary()"
   ]
  },
  {
   "cell_type": "code",
   "execution_count": 42,
   "metadata": {},
   "outputs": [
    {
     "name": "stdout",
     "output_type": "stream",
     "text": [
      "Train on 157924 samples, validate on 39481 samples\n",
      "Epoch 1/100\n",
      "157924/157924 [==============================] - 4s 28us/sample - loss: 2527584.6776 - mae: 1125.7596 - val_loss: 1006938.9053 - val_mae: 709.6046\n",
      "Epoch 2/100\n",
      "157924/157924 [==============================] - 3s 20us/sample - loss: 985237.8697 - mae: 701.3984 - val_loss: 972809.6360 - val_mae: 695.8214\n",
      "Epoch 3/100\n",
      "157924/157924 [==============================] - 3s 21us/sample - loss: 972044.6752 - mae: 696.2755 - val_loss: 969162.7424 - val_mae: 690.2408\n",
      "Epoch 4/100\n",
      "157924/157924 [==============================] - 3s 21us/sample - loss: 966599.9346 - mae: 693.6694 - val_loss: 965450.3603 - val_mae: 699.8796\n",
      "Epoch 5/100\n",
      "157924/157924 [==============================] - 3s 21us/sample - loss: 960470.6538 - mae: 691.0066 - val_loss: 957066.1035 - val_mae: 687.4976\n",
      "Epoch 6/100\n",
      "157924/157924 [==============================] - 3s 21us/sample - loss: 954334.6068 - mae: 688.1331 - val_loss: 952303.2965 - val_mae: 693.9340\n",
      "Epoch 7/100\n",
      "157924/157924 [==============================] - 3s 22us/sample - loss: 946886.1555 - mae: 684.8860 - val_loss: 947126.5933 - val_mae: 680.2164\n",
      "Epoch 8/100\n",
      "157924/157924 [==============================] - 3s 22us/sample - loss: 941154.5234 - mae: 682.0590 - val_loss: 940669.8239 - val_mae: 677.5273\n",
      "Epoch 9/100\n",
      "157924/157924 [==============================] - 3s 22us/sample - loss: 933370.5726 - mae: 678.9501 - val_loss: 935494.8495 - val_mae: 675.2347\n",
      "Epoch 10/100\n",
      "157924/157924 [==============================] - 4s 22us/sample - loss: 926835.3363 - mae: 676.0131 - val_loss: 927601.3611 - val_mae: 674.7712\n",
      "Epoch 11/100\n",
      "157924/157924 [==============================] - 3s 22us/sample - loss: 921645.1867 - mae: 673.7203 - val_loss: 926623.4571 - val_mae: 684.8298\n",
      "Epoch 12/100\n",
      "157924/157924 [==============================] - 4s 22us/sample - loss: 917348.9530 - mae: 672.3328 - val_loss: 921158.5631 - val_mae: 669.4226\n",
      "Epoch 13/100\n",
      "157924/157924 [==============================] - 4s 22us/sample - loss: 912693.1703 - mae: 669.9368 - val_loss: 919760.3099 - val_mae: 678.3690\n",
      "Epoch 14/100\n",
      "157924/157924 [==============================] - 4s 22us/sample - loss: 910170.9414 - mae: 668.9797 - val_loss: 915957.0281 - val_mae: 674.9061\n",
      "Epoch 15/100\n",
      "157924/157924 [==============================] - 3s 22us/sample - loss: 906366.2017 - mae: 667.5297 - val_loss: 918152.7506 - val_mae: 662.6426\n",
      "Epoch 16/100\n",
      "157924/157924 [==============================] - 4s 22us/sample - loss: 904698.1754 - mae: 666.7162 - val_loss: 918225.7032 - val_mae: 665.6036\n",
      "Epoch 17/100\n",
      "157924/157924 [==============================] - 4s 22us/sample - loss: 902759.6020 - mae: 665.6121 - val_loss: 912238.7357 - val_mae: 666.5604\n",
      "Epoch 18/100\n",
      "157924/157924 [==============================] - 4s 23us/sample - loss: 901183.1735 - mae: 665.1053 - val_loss: 911758.8528 - val_mae: 664.5656\n",
      "Epoch 19/100\n",
      "157924/157924 [==============================] - 3s 22us/sample - loss: 898770.1326 - mae: 664.1871 - val_loss: 910952.0744 - val_mae: 670.1728\n",
      "Epoch 20/100\n",
      "157924/157924 [==============================] - 4s 22us/sample - loss: 897175.1282 - mae: 663.5682 - val_loss: 910916.4474 - val_mae: 671.3654\n",
      "Epoch 21/100\n",
      "157924/157924 [==============================] - 3s 22us/sample - loss: 895393.8311 - mae: 662.8981 - val_loss: 909964.2009 - val_mae: 661.3805\n",
      "Epoch 22/100\n",
      "157924/157924 [==============================] - 4s 23us/sample - loss: 894024.0354 - mae: 662.2464 - val_loss: 909357.5596 - val_mae: 666.2421\n",
      "Epoch 23/100\n",
      "157924/157924 [==============================] - 4s 23us/sample - loss: 893034.6527 - mae: 661.8553 - val_loss: 908934.3385 - val_mae: 672.2177\n",
      "Epoch 24/100\n",
      "157924/157924 [==============================] - 4s 23us/sample - loss: 891617.3130 - mae: 661.4042 - val_loss: 906836.7933 - val_mae: 674.5554\n",
      "Epoch 25/100\n",
      "157924/157924 [==============================] - 4s 22us/sample - loss: 890883.8443 - mae: 660.5430 - val_loss: 910557.1621 - val_mae: 679.8691\n",
      "Epoch 26/100\n",
      "157924/157924 [==============================] - 4s 27us/sample - loss: 889406.1020 - mae: 660.4323 - val_loss: 905153.1435 - val_mae: 669.7123\n",
      "Epoch 27/100\n",
      "157924/157924 [==============================] - 4s 23us/sample - loss: 888355.7227 - mae: 659.5594 - val_loss: 905580.8193 - val_mae: 665.1780\n",
      "Epoch 28/100\n",
      "157924/157924 [==============================] - 3s 22us/sample - loss: 887549.5239 - mae: 659.3414 - val_loss: 903843.4739 - val_mae: 669.4286\n",
      "Epoch 29/100\n",
      "157924/157924 [==============================] - 4s 23us/sample - loss: 886497.4253 - mae: 658.9787 - val_loss: 903839.1263 - val_mae: 671.4621\n",
      "Epoch 30/100\n",
      "157924/157924 [==============================] - 3s 22us/sample - loss: 885288.3404 - mae: 658.5841 - val_loss: 906236.9164 - val_mae: 659.5021\n",
      "Epoch 31/100\n",
      "157924/157924 [==============================] - 3s 22us/sample - loss: 884553.2593 - mae: 658.2793 - val_loss: 902792.3301 - val_mae: 668.9664\n",
      "Epoch 32/100\n",
      "157924/157924 [==============================] - 3s 22us/sample - loss: 883932.2726 - mae: 657.8938 - val_loss: 904351.9359 - val_mae: 675.5890\n",
      "Epoch 33/100\n",
      "157924/157924 [==============================] - 3s 22us/sample - loss: 883386.4506 - mae: 658.1390 - val_loss: 903857.6814 - val_mae: 665.8795\n",
      "Epoch 34/100\n",
      "157924/157924 [==============================] - 3s 22us/sample - loss: 881405.6101 - mae: 657.0852 - val_loss: 902406.7657 - val_mae: 657.9586\n",
      "Epoch 35/100\n",
      "157924/157924 [==============================] - 3s 22us/sample - loss: 880429.7941 - mae: 656.6183 - val_loss: 901868.4371 - val_mae: 670.6986\n",
      "Epoch 36/100\n",
      "157924/157924 [==============================] - 4s 23us/sample - loss: 878987.9229 - mae: 656.1655 - val_loss: 902005.7516 - val_mae: 668.1024\n"
     ]
    }
   ],
   "source": [
    "history = dense_model.fit(X_train, y_train, epochs=100,\n",
    "                          batch_size =512,\n",
    "                          callbacks=[earlystop_callback],\n",
    "                          validation_data=(X_val, y_val))"
   ]
  },
  {
   "cell_type": "code",
   "execution_count": 43,
   "metadata": {},
   "outputs": [
    {
     "data": {
      "text/plain": [
       "Text(0, 0.5, 'MAE [delivery time]')"
      ]
     },
     "execution_count": 43,
     "metadata": {},
     "output_type": "execute_result"
    },
    {
     "data": {
      "image/png": "[encoded data removed]",
      "text/plain": [
       "<Figure size 432x288 with 1 Axes>"
      ]
     },
     "metadata": {
      "needs_background": "light"
     },
     "output_type": "display_data"
    }
   ],
   "source": [
    "plotter = tfdocs.plots.HistoryPlotter(smoothing_std = 2)\n",
    "plotter.plot({'Basic': history}, metric = \"mae\")\n",
    "plt.ylim([600, 800])\n",
    "plt.ylabel('MAE [delivery time]')"
   ]
  },
  {
   "cell_type": "code",
   "execution_count": 49,
   "metadata": {},
   "outputs": [
    {
     "name": "stdout",
     "output_type": "stream",
     "text": [
      "Model: \"sequential_2\"\n",
      "_________________________________________________________________\n",
      "Layer (type)                 Output Shape              Param #   \n",
      "=================================================================\n",
      "dense_8 (Dense)              (None, 512)               53248     \n",
      "_________________________________________________________________\n",
      "dropout_6 (Dropout)          (None, 512)               0         \n",
      "_________________________________________________________________\n",
      "dense_9 (Dense)              (None, 256)               131328    \n",
      "_________________________________________________________________\n",
      "dropout_7 (Dropout)          (None, 256)               0         \n",
      "_________________________________________________________________\n",
      "dense_10 (Dense)             (None, 64)                16448     \n",
      "_________________________________________________________________\n",
      "dropout_8 (Dropout)          (None, 64)                0         \n",
      "_________________________________________________________________\n",
      "dense_11 (Dense)             (None, 1)                 65        \n",
      "=================================================================\n",
      "Total params: 201,089\n",
      "Trainable params: 201,089\n",
      "Non-trainable params: 0\n",
      "_________________________________________________________________\n"
     ]
    }
   ],
   "source": [
    "dense_model = build_dense_model(X_train, 3, 512, 0.1, 0.001)\n",
    "dense_model.summary()"
   ]
  },
  {
   "cell_type": "code",
   "execution_count": 50,
   "metadata": {},
   "outputs": [
    {
     "name": "stdout",
     "output_type": "stream",
     "text": [
      "Train on 157924 samples, validate on 39481 samples\n",
      "Epoch 1/23\n",
      "157924/157924 [==============================] - 20s 124us/sample - loss: 2677495.6782 - mae: 1168.2169 - val_loss: 1010793.4397 - val_mae: 713.8564\n",
      "Epoch 2/23\n",
      "157924/157924 [==============================] - 16s 100us/sample - loss: 1036902.4086 - mae: 721.4746 - val_loss: 973949.4165 - val_mae: 697.5935\n",
      "Epoch 3/23\n",
      "157924/157924 [==============================] - 16s 104us/sample - loss: 1020561.0924 - mae: 715.3600 - val_loss: 970651.2052 - val_mae: 691.6801\n",
      "Epoch 4/23\n",
      "157924/157924 [==============================] - 14s 91us/sample - loss: 1014846.2527 - mae: 713.1870 - val_loss: 966298.8301 - val_mae: 695.9731\n",
      "Epoch 5/23\n",
      "157924/157924 [==============================] - 13s 80us/sample - loss: 1011289.7037 - mae: 710.9940 - val_loss: 960200.5051 - val_mae: 695.8031\n",
      "Epoch 6/23\n",
      "157924/157924 [==============================] - 15s 93us/sample - loss: 1004437.2744 - mae: 708.1970 - val_loss: 960510.1579 - val_mae: 680.1510\n",
      "Epoch 7/23\n",
      "157924/157924 [==============================] - 16s 101us/sample - loss: 996729.7402 - mae: 706.0638 - val_loss: 951680.9388 - val_mae: 684.1034\n",
      "Epoch 8/23\n",
      "157924/157924 [==============================] - 16s 103us/sample - loss: 995047.0788 - mae: 704.2966 - val_loss: 947405.9902 - val_mae: 687.6884\n",
      "Epoch 9/23\n",
      "157924/157924 [==============================] - 14s 90us/sample - loss: 988996.2779 - mae: 701.4833 - val_loss: 939103.3853 - val_mae: 684.3427\n",
      "Epoch 10/23\n",
      "157924/157924 [==============================] - 15s 97us/sample - loss: 980918.9510 - mae: 698.4717 - val_loss: 941490.6809 - val_mae: 675.1152\n",
      "Epoch 11/23\n",
      "157924/157924 [==============================] - 18s 112us/sample - loss: 977076.5118 - mae: 696.9119 - val_loss: 931414.6164 - val_mae: 683.3934\n",
      "Epoch 12/23\n",
      "157924/157924 [==============================] - 18s 111us/sample - loss: 974437.2359 - mae: 696.1383 - val_loss: 925251.5514 - val_mae: 671.8541\n",
      "Epoch 13/23\n",
      "157924/157924 [==============================] - 13s 84us/sample - loss: 968372.4793 - mae: 693.0538 - val_loss: 938146.0426 - val_mae: 664.1003\n",
      "Epoch 14/23\n",
      "157924/157924 [==============================] - 16s 101us/sample - loss: 963806.8951 - mae: 691.2194 - val_loss: 921090.4087 - val_mae: 666.1357\n",
      "Epoch 15/23\n",
      "157924/157924 [==============================] - 15s 95us/sample - loss: 964610.9041 - mae: 691.9769 - val_loss: 918077.2842 - val_mae: 678.6393\n",
      "Epoch 16/23\n",
      "157924/157924 [==============================] - 17s 106us/sample - loss: 959772.9758 - mae: 689.3773 - val_loss: 915811.1127 - val_mae: 664.6885\n",
      "Epoch 17/23\n",
      "157924/157924 [==============================] - 17s 105us/sample - loss: 957909.9324 - mae: 688.9660 - val_loss: 917029.6556 - val_mae: 664.2402\n",
      "Epoch 18/23\n",
      "157924/157924 [==============================] - 16s 103us/sample - loss: 956814.6594 - mae: 688.9951 - val_loss: 911055.1189 - val_mae: 668.6464\n",
      "Epoch 19/23\n",
      "157924/157924 [==============================] - 14s 90us/sample - loss: 950834.5300 - mae: 686.1797 - val_loss: 914176.1525 - val_mae: 662.8086\n",
      "Epoch 20/23\n",
      "157924/157924 [==============================] - 17s 108us/sample - loss: 951083.0765 - mae: 686.0132 - val_loss: 912933.8922 - val_mae: 665.5803\n",
      "Epoch 21/23\n",
      "157924/157924 [==============================] - 14s 90us/sample - loss: 950945.8622 - mae: 685.9796 - val_loss: 910377.4392 - val_mae: 679.2936\n",
      "Epoch 22/23\n",
      "157924/157924 [==============================] - 15s 93us/sample - loss: 947542.7612 - mae: 684.9004 - val_loss: 908041.1478 - val_mae: 668.6001\n",
      "Epoch 23/23\n",
      "157924/157924 [==============================] - 15s 98us/sample - loss: 947473.4558 - mae: 684.6647 - val_loss: 907258.8099 - val_mae: 665.2491\n"
     ]
    }
   ],
   "source": [
    "history = dense_model.fit(X_train, y_train, epochs=23,\n",
    "                          batch_size = 512,\n",
    "                          callbacks=[earlystop_callback],\n",
    "                          validation_data=(X_val, y_val))"
   ]
  },
  {
   "cell_type": "code",
   "execution_count": 51,
   "metadata": {},
   "outputs": [
    {
     "data": {
      "text/plain": [
       "Text(0, 0.5, 'MAE [delivery time]')"
      ]
     },
     "execution_count": 51,
     "metadata": {},
     "output_type": "execute_result"
    },
    {
     "data": {
      "image/png": "[encoded data removed]",
      "text/plain": [
       "<Figure size 432x288 with 1 Axes>"
      ]
     },
     "metadata": {
      "needs_background": "light"
     },
     "output_type": "display_data"
    }
   ],
   "source": [
    "plotter = tfdocs.plots.HistoryPlotter(smoothing_std=2)\n",
    "plotter.plot({'Basic': history}, metric = \"mae\")\n",
    "plt.ylim([600, 800])\n",
    "plt.ylabel('MAE [delivery time]')"
   ]
  },
  {
   "cell_type": "code",
   "execution_count": 52,
   "metadata": {},
   "outputs": [],
   "source": [
    "_, train_mae = dense_model.evaluate(X_train, y_train, verbose=0)\n",
    "_, val_mae = dense_model.evaluate(X_val, y_val, verbose=0)"
   ]
  },
  {
   "cell_type": "code",
   "execution_count": 53,
   "metadata": {},
   "outputs": [
    {
     "name": "stdout",
     "output_type": "stream",
     "text": [
      "For Dense NN model, train MAE: 658.368, Validation MAE: 665.249\n"
     ]
    }
   ],
   "source": [
    "print('For Dense NN model, train MAE: %.3f, Validation MAE: %.3f' % (train_mae, val_mae))"
   ]
  },
  {
   "cell_type": "code",
   "execution_count": null,
   "metadata": {},
   "outputs": [],
   "source": []
  }
 ],
 "metadata": {
  "kernelspec": {
   "display_name": "Python 3",
   "language": "python",
   "name": "python3"
  },
  "language_info": {
   "codemirror_mode": {
    "name": "ipython",
    "version": 3
   },
   "file_extension": ".py",
   "mimetype": "text/x-python",
   "name": "python",
   "nbconvert_exporter": "python",
   "pygments_lexer": "ipython3",
   "version": "3.6.9"
  }
 },
 "nbformat": 4,
 "nbformat_minor": 2
}
