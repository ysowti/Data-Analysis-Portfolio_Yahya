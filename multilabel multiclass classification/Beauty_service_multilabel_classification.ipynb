{
 "cells": [
  {
   "cell_type": "code",
   "execution_count": 1,
   "metadata": {},
   "outputs": [],
   "source": [
    "import pandas as pd\n",
    "import numpy as np\n",
    "import string\n",
    "import re\n",
    "import tensorflow as tf\n",
    "from tensorflow import keras\n",
    "from tensorflow.keras import layers\n",
    "from tensorflow.keras.preprocessing.text import Tokenizer\n",
    "from tensorflow.keras.preprocessing.sequence import pad_sequences\n",
    "from tensorflow.keras.callbacks import EarlyStopping\n",
    "from sklearn.model_selection import train_test_split\n",
    "from sklearn.metrics import f1_score, precision_score, recall_score\n",
    "from nltk.corpus import stopwords\n",
    "from sklearn.feature_extraction.text import CountVectorizer\n",
    "import matplotlib.pyplot as plt"
   ]
  },
  {
   "cell_type": "markdown",
   "metadata": {},
   "source": [
    "# Loading the Data"
   ]
  },
  {
   "cell_type": "code",
   "execution_count": 2,
   "metadata": {},
   "outputs": [],
   "source": [
    "train_df = pd.read_excel('training_data.xlsx')"
   ]
  },
  {
   "cell_type": "code",
   "execution_count": 3,
   "metadata": {},
   "outputs": [
    {
     "data": {
      "text/plain": [
       "(18000, 2)"
      ]
     },
     "execution_count": 3,
     "metadata": {},
     "output_type": "execute_result"
    }
   ],
   "source": [
    "train_df.shape"
   ]
  },
  {
   "cell_type": "code",
   "execution_count": 4,
   "metadata": {},
   "outputs": [],
   "source": [
    "test_df = pd.read_excel('testing_data.xlsx')\n",
    "test_df_original = test_df.copy()"
   ]
  },
  {
   "cell_type": "code",
   "execution_count": 5,
   "metadata": {},
   "outputs": [
    {
     "data": {
      "text/plain": [
       "(2000, 1)"
      ]
     },
     "execution_count": 5,
     "metadata": {},
     "output_type": "execute_result"
    }
   ],
   "source": [
    "test_df.shape"
   ]
  },
  {
   "cell_type": "markdown",
   "metadata": {},
   "source": [
    "# Preprocessing of Training and Test Data"
   ]
  },
  {
   "cell_type": "code",
   "execution_count": 6,
   "metadata": {},
   "outputs": [],
   "source": [
    "def punctuation(string): \n",
    "    punctuations = '''!()-[]{};:'\"\\,<>./?@#$%^&*_~'''\n",
    "    for x in string.lower():\n",
    "        if x in punctuations: \n",
    "            string = string.replace(x, \"\")\n",
    "    return string\n",
    "\n",
    "def clean_text(text):\n",
    "    text = punctuation(text)\n",
    "    text = text.lower().split()\n",
    "    stops = set(stopwords.words(\"english\"))\n",
    "    text = [w for w in text if not w in stops and len(w) >= 3]\n",
    "    text = ' '.join(text)\n",
    "    return text"
   ]
  },
  {
   "cell_type": "code",
   "execution_count": 7,
   "metadata": {},
   "outputs": [],
   "source": [
    "train_df['service_name'] = train_df['service_name'].map(lambda x: clean_text(x))\n",
    "train_df['service_category'] = train_df['service_category'].map(lambda x: re.sub(r\", \", \",\", x))\n",
    "test_df['service_name'] = test_df['service_name'].map(lambda x: clean_text(x))"
   ]
  },
  {
   "cell_type": "code",
   "execution_count": 8,
   "metadata": {},
   "outputs": [
    {
     "data": {
      "text/html": [
       "<div>\n",
       "<style scoped>\n",
       "    .dataframe tbody tr th:only-of-type {\n",
       "        vertical-align: middle;\n",
       "    }\n",
       "\n",
       "    .dataframe tbody tr th {\n",
       "        vertical-align: top;\n",
       "    }\n",
       "\n",
       "    .dataframe thead th {\n",
       "        text-align: right;\n",
       "    }\n",
       "</style>\n",
       "<table border=\"1\" class=\"dataframe\">\n",
       "  <thead>\n",
       "    <tr style=\"text-align: right;\">\n",
       "      <th></th>\n",
       "      <th>service_name</th>\n",
       "      <th>service_category</th>\n",
       "    </tr>\n",
       "  </thead>\n",
       "  <tbody>\n",
       "    <tr>\n",
       "      <th>0</th>\n",
       "      <td>fade beard trim line</td>\n",
       "      <td>Barber</td>\n",
       "    </tr>\n",
       "    <tr>\n",
       "      <th>1</th>\n",
       "      <td>crochet bulk hair</td>\n",
       "      <td>Braids</td>\n",
       "    </tr>\n",
       "    <tr>\n",
       "      <th>2</th>\n",
       "      <td>loc maintenance wdemi color</td>\n",
       "      <td>Natural Hair</td>\n",
       "    </tr>\n",
       "    <tr>\n",
       "      <th>3</th>\n",
       "      <td>buns ponytails</td>\n",
       "      <td>Style</td>\n",
       "    </tr>\n",
       "    <tr>\n",
       "      <th>4</th>\n",
       "      <td>full leg wax arms</td>\n",
       "      <td>Waxing</td>\n",
       "    </tr>\n",
       "    <tr>\n",
       "      <th>5</th>\n",
       "      <td>cut blowdry womens cut</td>\n",
       "      <td>Women's Haircut</td>\n",
       "    </tr>\n",
       "    <tr>\n",
       "      <th>6</th>\n",
       "      <td>ahb double process color ahb cut</td>\n",
       "      <td>Hair Color</td>\n",
       "    </tr>\n",
       "    <tr>\n",
       "      <th>7</th>\n",
       "      <td>gel overlay chrome nails</td>\n",
       "      <td>Manicure</td>\n",
       "    </tr>\n",
       "    <tr>\n",
       "      <th>8</th>\n",
       "      <td>mens cut arch wax</td>\n",
       "      <td>Men's Haircut,Eyebrows</td>\n",
       "    </tr>\n",
       "    <tr>\n",
       "      <th>9</th>\n",
       "      <td>root touch blowout hair glaze treatment partia...</td>\n",
       "      <td>Hair Color,Style,Hair Treatments,Highlights</td>\n",
       "    </tr>\n",
       "  </tbody>\n",
       "</table>\n",
       "</div>"
      ],
      "text/plain": [
       "                                        service_name  \\\n",
       "0                               fade beard trim line   \n",
       "1                                  crochet bulk hair   \n",
       "2                        loc maintenance wdemi color   \n",
       "3                                     buns ponytails   \n",
       "4                                  full leg wax arms   \n",
       "5                             cut blowdry womens cut   \n",
       "6                   ahb double process color ahb cut   \n",
       "7                           gel overlay chrome nails   \n",
       "8                                  mens cut arch wax   \n",
       "9  root touch blowout hair glaze treatment partia...   \n",
       "\n",
       "                              service_category  \n",
       "0                                       Barber  \n",
       "1                                       Braids  \n",
       "2                                 Natural Hair  \n",
       "3                                        Style  \n",
       "4                                       Waxing  \n",
       "5                              Women's Haircut  \n",
       "6                                   Hair Color  \n",
       "7                                     Manicure  \n",
       "8                       Men's Haircut,Eyebrows  \n",
       "9  Hair Color,Style,Hair Treatments,Highlights  "
      ]
     },
     "execution_count": 8,
     "metadata": {},
     "output_type": "execute_result"
    }
   ],
   "source": [
    "train_df.head(10)"
   ]
  },
  {
   "cell_type": "code",
   "execution_count": 9,
   "metadata": {},
   "outputs": [
    {
     "data": {
      "text/html": [
       "<div>\n",
       "<style scoped>\n",
       "    .dataframe tbody tr th:only-of-type {\n",
       "        vertical-align: middle;\n",
       "    }\n",
       "\n",
       "    .dataframe tbody tr th {\n",
       "        vertical-align: top;\n",
       "    }\n",
       "\n",
       "    .dataframe thead th {\n",
       "        text-align: right;\n",
       "    }\n",
       "</style>\n",
       "<table border=\"1\" class=\"dataframe\">\n",
       "  <thead>\n",
       "    <tr style=\"text-align: right;\">\n",
       "      <th></th>\n",
       "      <th>service_name</th>\n",
       "    </tr>\n",
       "  </thead>\n",
       "  <tbody>\n",
       "    <tr>\n",
       "      <th>0</th>\n",
       "      <td>microlink silk press</td>\n",
       "    </tr>\n",
       "    <tr>\n",
       "      <th>1</th>\n",
       "      <td>full sewin leaveout eyebrow arch enhancement f...</td>\n",
       "    </tr>\n",
       "    <tr>\n",
       "      <th>2</th>\n",
       "      <td>corrective color cut</td>\n",
       "    </tr>\n",
       "    <tr>\n",
       "      <th>3</th>\n",
       "      <td>kae classic special</td>\n",
       "    </tr>\n",
       "    <tr>\n",
       "      <th>4</th>\n",
       "      <td>loc style</td>\n",
       "    </tr>\n",
       "    <tr>\n",
       "      <th>5</th>\n",
       "      <td>extension take reinstall ombre balayage womens...</td>\n",
       "    </tr>\n",
       "    <tr>\n",
       "      <th>6</th>\n",
       "      <td>blc wax nose wax leg wax full</td>\n",
       "    </tr>\n",
       "    <tr>\n",
       "      <th>7</th>\n",
       "      <td>full face regular</td>\n",
       "    </tr>\n",
       "    <tr>\n",
       "      <th>8</th>\n",
       "      <td>mens cut youth cut</td>\n",
       "    </tr>\n",
       "    <tr>\n",
       "      <th>9</th>\n",
       "      <td>lowlights womens haircut add color add root co...</td>\n",
       "    </tr>\n",
       "  </tbody>\n",
       "</table>\n",
       "</div>"
      ],
      "text/plain": [
       "                                        service_name\n",
       "0                               microlink silk press\n",
       "1  full sewin leaveout eyebrow arch enhancement f...\n",
       "2                               corrective color cut\n",
       "3                                kae classic special\n",
       "4                                          loc style\n",
       "5  extension take reinstall ombre balayage womens...\n",
       "6                      blc wax nose wax leg wax full\n",
       "7                                  full face regular\n",
       "8                                 mens cut youth cut\n",
       "9  lowlights womens haircut add color add root co..."
      ]
     },
     "execution_count": 9,
     "metadata": {},
     "output_type": "execute_result"
    }
   ],
   "source": [
    "test_df.head(10)"
   ]
  },
  {
   "cell_type": "markdown",
   "metadata": {},
   "source": [
    "# Preparing Output Labels"
   ]
  },
  {
   "cell_type": "code",
   "execution_count": 10,
   "metadata": {},
   "outputs": [],
   "source": [
    "vectorizer = CountVectorizer(tokenizer = lambda x: x.split(\",\"), binary='true')\n",
    "labels = vectorizer.fit_transform(train_df['service_category']).toarray()"
   ]
  },
  {
   "cell_type": "code",
   "execution_count": 11,
   "metadata": {},
   "outputs": [
    {
     "data": {
      "text/plain": [
       "(18000, 32)"
      ]
     },
     "execution_count": 11,
     "metadata": {},
     "output_type": "execute_result"
    }
   ],
   "source": [
    "labels.shape"
   ]
  },
  {
   "cell_type": "code",
   "execution_count": 12,
   "metadata": {},
   "outputs": [
    {
     "name": "stdout",
     "output_type": "stream",
     "text": [
      "number of categories is 32\n"
     ]
    }
   ],
   "source": [
    "n_categories = labels.shape[1]\n",
    "print(f\"number of categories is {n_categories}\")"
   ]
  },
  {
   "cell_type": "markdown",
   "metadata": {},
   "source": [
    "# Tokenizing and Padding Input Data (Feature Engineering)"
   ]
  },
  {
   "cell_type": "code",
   "execution_count": 13,
   "metadata": {},
   "outputs": [],
   "source": [
    "def max_len(x):\n",
    "    a = x.split()\n",
    "    return len(a)"
   ]
  },
  {
   "cell_type": "code",
   "execution_count": 14,
   "metadata": {},
   "outputs": [
    {
     "name": "stdout",
     "output_type": "stream",
     "text": [
      "text maximum length is 22\n"
     ]
    }
   ],
   "source": [
    "max_text_len = max(train_df['service_name'].apply(max_len))\n",
    "print(f\"text maximum length is {max_text_len}\")"
   ]
  },
  {
   "cell_type": "code",
   "execution_count": 15,
   "metadata": {},
   "outputs": [],
   "source": [
    "embed_dim = 50\n",
    "max_words = 10000"
   ]
  },
  {
   "cell_type": "code",
   "execution_count": 16,
   "metadata": {},
   "outputs": [],
   "source": [
    "vect = Tokenizer(num_words=max_words)\n",
    "vect.fit_on_texts(train_df['service_name'])"
   ]
  },
  {
   "cell_type": "code",
   "execution_count": 17,
   "metadata": {},
   "outputs": [
    {
     "name": "stdout",
     "output_type": "stream",
     "text": [
      "vocab size and max_length is 5115\n"
     ]
    }
   ],
   "source": [
    "vocab_size = len(vect.word_index) + 1\n",
    "max_length = vocab_size\n",
    "print(f\"vocab size and max_length is {vocab_size}\")"
   ]
  },
  {
   "cell_type": "code",
   "execution_count": 18,
   "metadata": {},
   "outputs": [
    {
     "data": {
      "text/plain": [
       "array([[ 165,   59,   11, ...,    0,    0,    0],\n",
       "       [  66, 1210,    7, ...,    0,    0,    0],\n",
       "       [  56,   64, 2214, ...,    0,    0,    0],\n",
       "       ...,\n",
       "       [  20,   24,   11, ...,    0,    0,    0],\n",
       "       [   5,   21,  276, ...,    0,    0,    0],\n",
       "       [  94,   15,    0, ...,    0,    0,    0]], dtype=int32)"
      ]
     },
     "execution_count": 18,
     "metadata": {},
     "output_type": "execute_result"
    }
   ],
   "source": [
    "encoded_train = vect.texts_to_sequences(train_df['service_name'])\n",
    "padded_encoded_train = pad_sequences(encoded_train, maxlen=max_text_len, padding='post')\n",
    "padded_encoded_train"
   ]
  },
  {
   "cell_type": "code",
   "execution_count": 19,
   "metadata": {},
   "outputs": [
    {
     "data": {
      "text/plain": [
       "(18000, 22)"
      ]
     },
     "execution_count": 19,
     "metadata": {},
     "output_type": "execute_result"
    }
   ],
   "source": [
    "padded_encoded_train.shape"
   ]
  },
  {
   "cell_type": "code",
   "execution_count": 20,
   "metadata": {},
   "outputs": [
    {
     "data": {
      "text/plain": [
       "array([[1247,   20,   24, ...,    0,    0,    0],\n",
       "       [   5,   58,  626, ...,    0,    0,    0],\n",
       "       [ 841,    2,    1, ...,    0,    0,    0],\n",
       "       ...,\n",
       "       [ 115,  965,  223, ...,    0,    0,    0],\n",
       "       [  17,   81,    0, ...,    0,    0,    0],\n",
       "       [   3,    1,  713, ...,    0,    0,    0]], dtype=int32)"
      ]
     },
     "execution_count": 20,
     "metadata": {},
     "output_type": "execute_result"
    }
   ],
   "source": [
    "encoded_test = vect.texts_to_sequences(test_df['service_name'])\n",
    "padded_encoded_test = pad_sequences(encoded_test, maxlen=max_text_len, padding='post')\n",
    "padded_encoded_test"
   ]
  },
  {
   "cell_type": "code",
   "execution_count": 21,
   "metadata": {},
   "outputs": [
    {
     "data": {
      "text/plain": [
       "(2000, 22)"
      ]
     },
     "execution_count": 21,
     "metadata": {},
     "output_type": "execute_result"
    }
   ],
   "source": [
    "padded_encoded_test.shape"
   ]
  },
  {
   "cell_type": "markdown",
   "metadata": {},
   "source": [
    "# Split Validation and Training Data"
   ]
  },
  {
   "cell_type": "code",
   "execution_count": 22,
   "metadata": {},
   "outputs": [],
   "source": [
    "X_train, X_val, y_train, y_val = train_test_split(padded_encoded_train, labels, test_size=0.1)"
   ]
  },
  {
   "cell_type": "code",
   "execution_count": 23,
   "metadata": {},
   "outputs": [
    {
     "name": "stdout",
     "output_type": "stream",
     "text": [
      "(16200, 22)\n",
      "(16200, 32)\n",
      "(1800, 22)\n",
      "(1800, 32)\n"
     ]
    }
   ],
   "source": [
    "print(X_train.shape)\n",
    "print(y_train.shape)\n",
    "print(X_val.shape)\n",
    "print(y_val.shape)"
   ]
  },
  {
   "cell_type": "code",
   "execution_count": 24,
   "metadata": {},
   "outputs": [
    {
     "name": "stdout",
     "output_type": "stream",
     "text": [
      "the training data length is 16200 and validation length is 1800\n"
     ]
    }
   ],
   "source": [
    "print(f\"the training data length is {X_train.shape[0]} and validation length is {X_val.shape[0]}\")"
   ]
  },
  {
   "cell_type": "markdown",
   "metadata": {},
   "source": [
    "# Creating Stacked LSTM Model"
   ]
  },
  {
   "cell_type": "code",
   "execution_count": 25,
   "metadata": {},
   "outputs": [
    {
     "name": "stdout",
     "output_type": "stream",
     "text": [
      "Model: \"sequential\"\n",
      "_________________________________________________________________\n",
      "Layer (type)                 Output Shape              Param #   \n",
      "=================================================================\n",
      "embedding (Embedding)        (None, 22, 50)            255750    \n",
      "_________________________________________________________________\n",
      "lstm (LSTM)                  (None, 22, 128)           91648     \n",
      "_________________________________________________________________\n",
      "dropout (Dropout)            (None, 22, 128)           0         \n",
      "_________________________________________________________________\n",
      "lstm_1 (LSTM)                (None, 64)                49408     \n",
      "_________________________________________________________________\n",
      "dropout_1 (Dropout)          (None, 64)                0         \n",
      "_________________________________________________________________\n",
      "dense (Dense)                (None, 32)                2080      \n",
      "=================================================================\n",
      "Total params: 398,886\n",
      "Trainable params: 398,886\n",
      "Non-trainable params: 0\n",
      "_________________________________________________________________\n"
     ]
    }
   ],
   "source": [
    "model = keras.Sequential()\n",
    "model.add(layers.Embedding(vocab_size, output_dim=embed_dim, input_length=max_text_len))\n",
    "model.add(layers.LSTM(128, return_sequences=True))\n",
    "model.add(layers.Dropout(0.5))\n",
    "model.add(layers.LSTM(64))\n",
    "model.add(layers.Dropout(0.5))\n",
    "model.add(layers.Dense(n_categories, activation = \"sigmoid\"))\n",
    "model.summary()"
   ]
  },
  {
   "cell_type": "code",
   "execution_count": 26,
   "metadata": {},
   "outputs": [],
   "source": [
    "callback_early_stopping = EarlyStopping(monitor='val_loss', patience=4, verbose=1)"
   ]
  },
  {
   "cell_type": "markdown",
   "metadata": {},
   "source": [
    "# Training Model"
   ]
  },
  {
   "cell_type": "code",
   "execution_count": 27,
   "metadata": {},
   "outputs": [
    {
     "name": "stdout",
     "output_type": "stream",
     "text": [
      "Train on 16200 samples, validate on 1800 samples\n",
      "Epoch 1/20\n",
      "16200/16200 [==============================] - 45s 3ms/sample - loss: 0.1826 - val_loss: 0.1504\n",
      "Epoch 2/20\n",
      "16200/16200 [==============================] - 32s 2ms/sample - loss: 0.1557 - val_loss: 0.1513\n",
      "Epoch 3/20\n",
      "16200/16200 [==============================] - 32s 2ms/sample - loss: 0.1538 - val_loss: 0.1502\n",
      "Epoch 4/20\n",
      "16200/16200 [==============================] - 32s 2ms/sample - loss: 0.1494 - val_loss: 0.1485\n",
      "Epoch 5/20\n",
      "16200/16200 [==============================] - 32s 2ms/sample - loss: 0.1375 - val_loss: 0.1253\n",
      "Epoch 6/20\n",
      "16200/16200 [==============================] - 32s 2ms/sample - loss: 0.1250 - val_loss: 0.1168\n",
      "Epoch 7/20\n",
      "16200/16200 [==============================] - 31s 2ms/sample - loss: 0.1136 - val_loss: 0.1040\n",
      "Epoch 8/20\n",
      "16200/16200 [==============================] - 32s 2ms/sample - loss: 0.1024 - val_loss: 0.0958\n",
      "Epoch 9/20\n",
      "16200/16200 [==============================] - 31s 2ms/sample - loss: 0.0944 - val_loss: 0.0894\n",
      "Epoch 10/20\n",
      "16200/16200 [==============================] - 32s 2ms/sample - loss: 0.0863 - val_loss: 0.0825\n",
      "Epoch 11/20\n",
      "16200/16200 [==============================] - 32s 2ms/sample - loss: 0.0799 - val_loss: 0.0776\n",
      "Epoch 12/20\n",
      "16200/16200 [==============================] - 32s 2ms/sample - loss: 0.0736 - val_loss: 0.0735\n",
      "Epoch 13/20\n",
      "16200/16200 [==============================] - 32s 2ms/sample - loss: 0.0695 - val_loss: 0.0711\n",
      "Epoch 14/20\n",
      "16200/16200 [==============================] - 32s 2ms/sample - loss: 0.0660 - val_loss: 0.0700\n",
      "Epoch 15/20\n",
      "16200/16200 [==============================] - 28s 2ms/sample - loss: 0.0634 - val_loss: 0.0677\n",
      "Epoch 16/20\n",
      "16200/16200 [==============================] - 32s 2ms/sample - loss: 0.0607 - val_loss: 0.0672\n",
      "Epoch 17/20\n",
      "16200/16200 [==============================] - 32s 2ms/sample - loss: 0.0589 - val_loss: 0.0656\n",
      "Epoch 18/20\n",
      "16200/16200 [==============================] - 28s 2ms/sample - loss: 0.0569 - val_loss: 0.0649\n",
      "Epoch 19/20\n",
      "16200/16200 [==============================] - 32s 2ms/sample - loss: 0.0553 - val_loss: 0.0657\n",
      "Epoch 20/20\n",
      "16200/16200 [==============================] - 28s 2ms/sample - loss: 0.0533 - val_loss: 0.0651\n"
     ]
    }
   ],
   "source": [
    "model.compile(optimizer='adam', loss='binary_crossentropy')\n",
    "history = model.fit(X_train, y_train,\n",
    "                    class_weight='balanced',\n",
    "                    epochs=20,\n",
    "                    batch_size=32,\n",
    "                    validation_data=(X_val, y_val),\n",
    "                    callbacks=[callback_early_stopping])"
   ]
  },
  {
   "cell_type": "code",
   "execution_count": 28,
   "metadata": {},
   "outputs": [
    {
     "data": {
      "image/png": "[encoded data removed]",
      "text/plain": [
       "<Figure size 432x288 with 1 Axes>"
      ]
     },
     "metadata": {
      "needs_background": "light"
     },
     "output_type": "display_data"
    }
   ],
   "source": [
    "history_dict = history.history\n",
    "loss_values = history_dict['loss']\n",
    "val_loss_values = history_dict['val_loss']\n",
    "epochs = range(1, len(loss_values) + 1)\n",
    "plt.plot(epochs, loss_values, 'bo', label='Training loss')\n",
    "plt.plot(epochs, val_loss_values, 'b', label='Validation loss')\n",
    "plt.title('Training and validation loss')\n",
    "plt.xlabel('Epochs')\n",
    "plt.ylabel('Loss')\n",
    "plt.legend()\n",
    "plt.show()"
   ]
  },
  {
   "cell_type": "markdown",
   "metadata": {},
   "source": [
    "# Choosing Threshold Based on Micro-Averaged F1-Score"
   ]
  },
  {
   "cell_type": "code",
   "execution_count": 29,
   "metadata": {},
   "outputs": [
    {
     "name": "stdout",
     "output_type": "stream",
     "text": [
      "Micro-average quality numbers for threshold = 0.1000\n",
      "Precision: 0.5479, Recall: 0.8275, F1-measure: 0.6593\n",
      "Micro-average quality numbers for threshold = 0.1500\n",
      "Precision: 0.6229, Recall: 0.7889, F1-measure: 0.6961\n",
      "Micro-average quality numbers for threshold = 0.2000\n",
      "Precision: 0.6683, Recall: 0.7581, F1-measure: 0.7104\n",
      "Micro-average quality numbers for threshold = 0.2500\n",
      "Precision: 0.7092, Recall: 0.7282, F1-measure: 0.7186\n",
      "Micro-average quality numbers for threshold = 0.3000\n",
      "Precision: 0.7422, Recall: 0.7074, F1-measure: 0.7244\n",
      "Micro-average quality numbers for threshold = 0.3500\n",
      "Precision: 0.7658, Recall: 0.6831, F1-measure: 0.7221\n",
      "Micro-average quality numbers for threshold = 0.4000\n",
      "Precision: 0.7852, Recall: 0.6623, F1-measure: 0.7186\n",
      "Micro-average quality numbers for threshold = 0.4500\n",
      "Precision: 0.8017, Recall: 0.6450, F1-measure: 0.7149\n",
      "Micro-average quality numbers for threshold = 0.5000\n",
      "Precision: 0.8149, Recall: 0.6259, F1-measure: 0.7080\n",
      "Micro-average quality numbers for threshold = 0.5500\n",
      "Precision: 0.8281, Recall: 0.6077, F1-measure: 0.7010\n",
      "Micro-average quality numbers for threshold = 0.6000\n",
      "Precision: 0.8439, Recall: 0.5882, F1-measure: 0.6932\n",
      "Micro-average quality numbers for threshold = 0.6500\n",
      "Precision: 0.8539, Recall: 0.5674, F1-measure: 0.6818\n",
      "Micro-average quality numbers for threshold = 0.7000\n",
      "Precision: 0.8692, Recall: 0.5388, F1-measure: 0.6652\n",
      "Micro-average quality numbers for threshold = 0.7500\n",
      "Precision: 0.8853, Recall: 0.5020, F1-measure: 0.6407\n",
      "Micro-average quality numbers for threshold = 0.8000\n",
      "Precision: 0.8924, Recall: 0.4707, F1-measure: 0.6163\n",
      "Micro-average quality numbers for threshold = 0.8500\n",
      "Precision: 0.9058, Recall: 0.4209, F1-measure: 0.5747\n",
      "Micro-average quality numbers for threshold = 0.9000\n",
      "Precision: 0.9247, Recall: 0.3459, F1-measure: 0.5035\n",
      "Micro-average quality numbers for threshold = 0.9500\n",
      "Precision: 0.9420, Recall: 0.1760, F1-measure: 0.2966\n",
      "\n",
      "\n",
      "Best chosen threshold is 0.3000 with f1-score of 0.7244\n"
     ]
    }
   ],
   "source": [
    "predictions=model.predict([X_val])\n",
    "thresholds=list(np.arange(0.1, 1, 0.05))\n",
    "f1_scores = []\n",
    "for val in thresholds:\n",
    "    pred=predictions.copy()\n",
    "  \n",
    "    pred[pred>=val]=1\n",
    "    pred[pred<val]=0\n",
    "  \n",
    "    precision = precision_score(y_val, pred, average='micro')\n",
    "    recall = recall_score(y_val, pred, average='micro')\n",
    "    f1 = f1_score(y_val, pred, average='micro')\n",
    "    f1_scores.append(f1)\n",
    "   \n",
    "    print(\"Micro-average quality numbers for threshold = {:.4f}\".format(val))\n",
    "    print(\"Precision: {:.4f}, Recall: {:.4f}, F1-measure: {:.4f}\".format(precision, recall, f1))\n",
    "\n",
    "print('\\n')\n",
    "threshold = thresholds[np.argmax(f1_scores)]\n",
    "best_f1 = max(f1_scores)\n",
    "print('Best chosen threshold is {:.4f} with f1-score of {:.4f}'.format(threshold, best_f1))"
   ]
  },
  {
   "cell_type": "markdown",
   "metadata": {},
   "source": [
    "# Training Model Based on All Data for Inference"
   ]
  },
  {
   "cell_type": "code",
   "execution_count": 30,
   "metadata": {},
   "outputs": [],
   "source": [
    "model = keras.Sequential()\n",
    "model.add(layers.Embedding(vocab_size, output_dim=embed_dim, input_length=max_text_len))\n",
    "model.add(layers.LSTM(128, return_sequences=True))\n",
    "model.add(layers.Dropout(0.5))\n",
    "model.add(layers.LSTM(64))\n",
    "model.add(layers.Dropout(0.5))\n",
    "model.add(layers.Dense(n_categories, activation = \"sigmoid\"))"
   ]
  },
  {
   "cell_type": "code",
   "execution_count": 31,
   "metadata": {},
   "outputs": [
    {
     "name": "stdout",
     "output_type": "stream",
     "text": [
      "Train on 18000 samples\n",
      "Epoch 1/20\n",
      "18000/18000 [==============================] - 46s 3ms/sample - loss: 0.1816\n",
      "Epoch 2/20\n",
      "18000/18000 [==============================] - 35s 2ms/sample - loss: 0.1554\n",
      "Epoch 3/20\n",
      "18000/18000 [==============================] - 34s 2ms/sample - loss: 0.1534\n",
      "Epoch 4/20\n",
      "18000/18000 [==============================] - 34s 2ms/sample - loss: 0.1523\n",
      "Epoch 5/20\n",
      "18000/18000 [==============================] - 34s 2ms/sample - loss: 0.1390\n",
      "Epoch 6/20\n",
      "18000/18000 [==============================] - 35s 2ms/sample - loss: 0.1203\n",
      "Epoch 7/20\n",
      "18000/18000 [==============================] - 35s 2ms/sample - loss: 0.1033\n",
      "Epoch 8/20\n",
      "18000/18000 [==============================] - 35s 2ms/sample - loss: 0.0923\n",
      "Epoch 9/20\n",
      "18000/18000 [==============================] - 34s 2ms/sample - loss: 0.0855\n",
      "Epoch 10/20\n",
      "18000/18000 [==============================] - 35s 2ms/sample - loss: 0.0799\n",
      "Epoch 11/20\n",
      "18000/18000 [==============================] - 35s 2ms/sample - loss: 0.0750\n",
      "Epoch 12/20\n",
      "18000/18000 [==============================] - 35s 2ms/sample - loss: 0.0711\n",
      "Epoch 13/20\n",
      "18000/18000 [==============================] - 34s 2ms/sample - loss: 0.0669\n",
      "Epoch 14/20\n",
      "18000/18000 [==============================] - 34s 2ms/sample - loss: 0.0643\n",
      "Epoch 15/20\n",
      "18000/18000 [==============================] - 31s 2ms/sample - loss: 0.0617\n",
      "Epoch 16/20\n",
      "18000/18000 [==============================] - 27s 2ms/sample - loss: 0.0593\n",
      "Epoch 17/20\n",
      "18000/18000 [==============================] - 26s 1ms/sample - loss: 0.0570\n",
      "Epoch 18/20\n",
      "18000/18000 [==============================] - 22s 1ms/sample - loss: 0.0550\n",
      "Epoch 19/20\n",
      "18000/18000 [==============================] - 20s 1ms/sample - loss: 0.0532\n",
      "Epoch 20/20\n",
      "18000/18000 [==============================] - 17s 931us/sample - loss: 0.0517\n"
     ]
    },
    {
     "data": {
      "text/plain": [
       "<tensorflow.python.keras.callbacks.History at 0x144788588>"
      ]
     },
     "execution_count": 31,
     "metadata": {},
     "output_type": "execute_result"
    }
   ],
   "source": [
    "model.compile(optimizer='adam', loss='binary_crossentropy')\n",
    "model.fit(padded_encoded_train, labels,\n",
    "          class_weight='balanced',\n",
    "          epochs=20,\n",
    "          batch_size=32)"
   ]
  },
  {
   "cell_type": "markdown",
   "metadata": {},
   "source": [
    "# Model Persistence"
   ]
  },
  {
   "cell_type": "code",
   "execution_count": 32,
   "metadata": {},
   "outputs": [
    {
     "name": "stderr",
     "output_type": "stream",
     "text": [
      "WARNING: Logging before flag parsing goes to stderr.\n",
      "W0307 05:33:21.271945 4533622208 deprecation.py:506] From /Users/yahya/anaconda/envs/tensorflow/lib/python3.6/site-packages/tensorflow_core/python/ops/resource_variable_ops.py:1786: calling BaseResourceVariable.__init__ (from tensorflow.python.ops.resource_variable_ops) with constraint is deprecated and will be removed in a future version.\n",
      "Instructions for updating:\n",
      "If using Keras pass *_constraint arguments to layers.\n"
     ]
    }
   ],
   "source": [
    "model.save('multilabel-LSTM-model')"
   ]
  },
  {
   "cell_type": "code",
   "execution_count": 33,
   "metadata": {},
   "outputs": [
    {
     "name": "stdout",
     "output_type": "stream",
     "text": [
      "Model: \"sequential_1\"\n",
      "_________________________________________________________________\n",
      "Layer (type)                 Output Shape              Param #   \n",
      "=================================================================\n",
      "embedding_1 (Embedding)      (None, 22, 50)            255750    \n",
      "_________________________________________________________________\n",
      "lstm_2 (LSTM)                (None, 22, 128)           91648     \n",
      "_________________________________________________________________\n",
      "dropout_2 (Dropout)          (None, 22, 128)           0         \n",
      "_________________________________________________________________\n",
      "lstm_3 (LSTM)                (None, 64)                49408     \n",
      "_________________________________________________________________\n",
      "dropout_3 (Dropout)          (None, 64)                0         \n",
      "_________________________________________________________________\n",
      "dense_1 (Dense)              (None, 32)                2080      \n",
      "=================================================================\n",
      "Total params: 398,886\n",
      "Trainable params: 398,886\n",
      "Non-trainable params: 0\n",
      "_________________________________________________________________\n"
     ]
    }
   ],
   "source": [
    "restored_model = tf.keras.models.load_model('multilabel-LSTM-model')\n",
    "\n",
    "# Check its architecture\n",
    "restored_model.summary()"
   ]
  },
  {
   "cell_type": "markdown",
   "metadata": {},
   "source": [
    "# Generating Predictions for Testing Data Based on the Chosen Threshold "
   ]
  },
  {
   "cell_type": "code",
   "execution_count": 34,
   "metadata": {},
   "outputs": [],
   "source": [
    "predictions = restored_model.predict(padded_encoded_test)"
   ]
  },
  {
   "cell_type": "code",
   "execution_count": 35,
   "metadata": {},
   "outputs": [
    {
     "data": {
      "text/plain": [
       "(2000, 32)"
      ]
     },
     "execution_count": 35,
     "metadata": {},
     "output_type": "execute_result"
    }
   ],
   "source": [
    "predictions.shape"
   ]
  },
  {
   "cell_type": "code",
   "execution_count": 36,
   "metadata": {},
   "outputs": [],
   "source": [
    "def get_test_pred_df(test_df, predictions, threshold, vectorizer):\n",
    "    \n",
    "    test_df_edited = test_df.copy()\n",
    "    test_preds = predictions.copy()\n",
    "    test_preds[test_preds >= threshold]=1\n",
    "    test_preds[test_preds < threshold]=0\n",
    "    label_names = vectorizer.get_feature_names()\n",
    "    x = pd.SparseDataFrame(test_preds, columns=label_names, index=test_df.index, default_fill_value=0)\n",
    "    cols = x.columns\n",
    "    bt = x.apply(lambda x: x > 0)\n",
    "    bt = bt.apply(lambda x: list(cols[x.values]), axis=1)\n",
    "    bt = bt.apply(lambda x: ', '.join(x))\n",
    "    test_df_edited['service_categories'] = bt\n",
    "    \n",
    "    return test_df_edited"
   ]
  },
  {
   "cell_type": "code",
   "execution_count": 37,
   "metadata": {},
   "outputs": [],
   "source": [
    "test_df_final = get_test_pred_df(test_df_original, predictions, threshold, vectorizer)\n",
    "test_df_final['service_categories'] = test_df_final['service_categories'].apply(lambda x: np.nan if not x else x)"
   ]
  },
  {
   "cell_type": "code",
   "execution_count": 38,
   "metadata": {},
   "outputs": [
    {
     "data": {
      "text/html": [
       "<div>\n",
       "<style scoped>\n",
       "    .dataframe tbody tr th:only-of-type {\n",
       "        vertical-align: middle;\n",
       "    }\n",
       "\n",
       "    .dataframe tbody tr th {\n",
       "        vertical-align: top;\n",
       "    }\n",
       "\n",
       "    .dataframe thead th {\n",
       "        text-align: right;\n",
       "    }\n",
       "</style>\n",
       "<table border=\"1\" class=\"dataframe\">\n",
       "  <thead>\n",
       "    <tr style=\"text-align: right;\">\n",
       "      <th></th>\n",
       "      <th>service_name</th>\n",
       "      <th>service_categories</th>\n",
       "    </tr>\n",
       "  </thead>\n",
       "  <tbody>\n",
       "    <tr>\n",
       "      <th>0</th>\n",
       "      <td>Microlink silk press</td>\n",
       "      <td>natural hair</td>\n",
       "    </tr>\n",
       "    <tr>\n",
       "      <th>1</th>\n",
       "      <td>Full sewin no leaveout, Eyebrow Arch + enhance...</td>\n",
       "      <td>skincare, weaves</td>\n",
       "    </tr>\n",
       "    <tr>\n",
       "      <th>2</th>\n",
       "      <td>Corrective Color no cut</td>\n",
       "      <td>hair color, women's haircut</td>\n",
       "    </tr>\n",
       "    <tr>\n",
       "      <th>3</th>\n",
       "      <td>KAE Classic *$70 SPECIAL*</td>\n",
       "      <td>eyelashes</td>\n",
       "    </tr>\n",
       "    <tr>\n",
       "      <th>4</th>\n",
       "      <td>loc style</td>\n",
       "      <td>locs</td>\n",
       "    </tr>\n",
       "    <tr>\n",
       "      <th>5</th>\n",
       "      <td>Extension take out with Re-INSTALL, Ombre/ Bal...</td>\n",
       "      <td>highlights, style</td>\n",
       "    </tr>\n",
       "    <tr>\n",
       "      <th>6</th>\n",
       "      <td>BLC Wax, Nose Wax, Leg Wax - Full</td>\n",
       "      <td>waxing</td>\n",
       "    </tr>\n",
       "    <tr>\n",
       "      <th>7</th>\n",
       "      <td>Full Face (Regular)</td>\n",
       "      <td>makeup</td>\n",
       "    </tr>\n",
       "    <tr>\n",
       "      <th>8</th>\n",
       "      <td>Men's Cut, Youth Cut (12 &amp; Under)</td>\n",
       "      <td>men's haircut</td>\n",
       "    </tr>\n",
       "    <tr>\n",
       "      <th>9</th>\n",
       "      <td>Lowlights, Women's Haircut (add on for color )...</td>\n",
       "      <td>hair color, highlights</td>\n",
       "    </tr>\n",
       "  </tbody>\n",
       "</table>\n",
       "</div>"
      ],
      "text/plain": [
       "                                        service_name  \\\n",
       "0                               Microlink silk press   \n",
       "1  Full sewin no leaveout, Eyebrow Arch + enhance...   \n",
       "2                            Corrective Color no cut   \n",
       "3                          KAE Classic *$70 SPECIAL*   \n",
       "4                                          loc style   \n",
       "5  Extension take out with Re-INSTALL, Ombre/ Bal...   \n",
       "6                  BLC Wax, Nose Wax, Leg Wax - Full   \n",
       "7                                Full Face (Regular)   \n",
       "8                  Men's Cut, Youth Cut (12 & Under)   \n",
       "9  Lowlights, Women's Haircut (add on for color )...   \n",
       "\n",
       "            service_categories  \n",
       "0                 natural hair  \n",
       "1             skincare, weaves  \n",
       "2  hair color, women's haircut  \n",
       "3                    eyelashes  \n",
       "4                         locs  \n",
       "5            highlights, style  \n",
       "6                       waxing  \n",
       "7                       makeup  \n",
       "8                men's haircut  \n",
       "9       hair color, highlights  "
      ]
     },
     "execution_count": 38,
     "metadata": {},
     "output_type": "execute_result"
    }
   ],
   "source": [
    "test_df_final.head(10)"
   ]
  },
  {
   "cell_type": "markdown",
   "metadata": {},
   "source": [
    "# Filling in Missing Predictions based on Inference with a Lower Threshold"
   ]
  },
  {
   "cell_type": "code",
   "execution_count": 39,
   "metadata": {},
   "outputs": [
    {
     "name": "stdout",
     "output_type": "stream",
     "text": [
      "<class 'pandas.core.frame.DataFrame'>\n",
      "RangeIndex: 2000 entries, 0 to 1999\n",
      "Data columns (total 2 columns):\n",
      "service_name          2000 non-null object\n",
      "service_categories    1960 non-null object\n",
      "dtypes: object(2)\n",
      "memory usage: 31.3+ KB\n"
     ]
    }
   ],
   "source": [
    "test_df_final.info()"
   ]
  },
  {
   "cell_type": "code",
   "execution_count": 40,
   "metadata": {},
   "outputs": [],
   "source": [
    "test_df_1 = get_test_pred_df(test_df_original, predictions, 0.1, vectorizer)\n",
    "test_df_1['service_categories'] = test_df_1['service_categories'].apply(lambda x: np.nan if not x else x)"
   ]
  },
  {
   "cell_type": "code",
   "execution_count": 41,
   "metadata": {},
   "outputs": [
    {
     "name": "stdout",
     "output_type": "stream",
     "text": [
      "<class 'pandas.core.frame.DataFrame'>\n",
      "RangeIndex: 2000 entries, 0 to 1999\n",
      "Data columns (total 2 columns):\n",
      "service_name          2000 non-null object\n",
      "service_categories    1999 non-null object\n",
      "dtypes: object(2)\n",
      "memory usage: 31.3+ KB\n"
     ]
    }
   ],
   "source": [
    "test_df_1.info()"
   ]
  },
  {
   "cell_type": "code",
   "execution_count": 42,
   "metadata": {},
   "outputs": [],
   "source": [
    "test_df_final['service_categories'].fillna(test_df_1['service_categories'], inplace = True)"
   ]
  },
  {
   "cell_type": "code",
   "execution_count": 43,
   "metadata": {},
   "outputs": [
    {
     "name": "stdout",
     "output_type": "stream",
     "text": [
      "<class 'pandas.core.frame.DataFrame'>\n",
      "RangeIndex: 2000 entries, 0 to 1999\n",
      "Data columns (total 2 columns):\n",
      "service_name          2000 non-null object\n",
      "service_categories    1999 non-null object\n",
      "dtypes: object(2)\n",
      "memory usage: 31.3+ KB\n"
     ]
    }
   ],
   "source": [
    "test_df_final.info()"
   ]
  },
  {
   "cell_type": "markdown",
   "metadata": {},
   "source": [
    "# Stroing Testing Data with Generated Predictions"
   ]
  },
  {
   "cell_type": "code",
   "execution_count": 44,
   "metadata": {},
   "outputs": [],
   "source": [
    "test_df_final.to_csv('yahya_submission_problem_1.csv', index = False, header=True)"
   ]
  }
 ],
 "metadata": {
  "kernelspec": {
   "display_name": "Python 3",
   "language": "python",
   "name": "python3"
  },
  "language_info": {
   "codemirror_mode": {
    "name": "ipython",
    "version": 3
   },
   "file_extension": ".py",
   "mimetype": "text/x-python",
   "name": "python",
   "nbconvert_exporter": "python",
   "pygments_lexer": "ipython3",
   "version": "3.6.8"
  }
 },
 "nbformat": 4,
 "nbformat_minor": 2
}
