{
 "cells": [
  {
   "cell_type": "code",
   "execution_count": 1,
   "metadata": {},
   "outputs": [
    {
     "name": "stderr",
     "output_type": "stream",
     "text": [
      "/Users/yahya/anaconda/envs/deeplearningkeras/lib/python3.6/importlib/_bootstrap.py:219: RuntimeWarning: numpy.dtype size changed, may indicate binary incompatibility. Expected 96, got 88\n",
      "  return f(*args, **kwds)\n",
      "/Users/yahya/anaconda/envs/deeplearningkeras/lib/python3.6/importlib/_bootstrap.py:219: RuntimeWarning: numpy.dtype size changed, may indicate binary incompatibility. Expected 96, got 88\n",
      "  return f(*args, **kwds)\n",
      "Using TensorFlow backend.\n"
     ]
    }
   ],
   "source": [
    "import pandas as pd\n",
    "import numpy as np\n",
    "\n",
    "import seaborn as sn\n",
    "import matplotlib.pyplot as plt\n",
    "\n",
    "from sklearn.preprocessing import LabelEncoder\n",
    "from sklearn import preprocessing, model_selection\n",
    "from sklearn.utils import shuffle\n",
    "from sklearn.metrics import classification_report, confusion_matrix\n",
    "from sklearn.utils.class_weight import compute_class_weight\n",
    "\n",
    "from keras import models\n",
    "from keras import layers\n",
    "from keras import optimizers\n",
    "from keras.utils.np_utils import to_categorical\n",
    "\n",
    "pd.options.mode.chained_assignment = None\n",
    "seed = 101"
   ]
  },
  {
   "cell_type": "markdown",
   "metadata": {},
   "source": [
    "# Loading and Preprocessing of data"
   ]
  },
  {
   "cell_type": "code",
   "execution_count": 2,
   "metadata": {},
   "outputs": [],
   "source": [
    "data = pd.read_csv('input/data_challenge.csv',index_col=0)"
   ]
  },
  {
   "cell_type": "code",
   "execution_count": 3,
   "metadata": {},
   "outputs": [
    {
     "data": {
      "text/html": [
       "<div>\n",
       "<style scoped>\n",
       "    .dataframe tbody tr th:only-of-type {\n",
       "        vertical-align: middle;\n",
       "    }\n",
       "\n",
       "    .dataframe tbody tr th {\n",
       "        vertical-align: top;\n",
       "    }\n",
       "\n",
       "    .dataframe thead th {\n",
       "        text-align: right;\n",
       "    }\n",
       "</style>\n",
       "<table border=\"1\" class=\"dataframe\">\n",
       "  <thead>\n",
       "    <tr style=\"text-align: right;\">\n",
       "      <th></th>\n",
       "      <th>DX</th>\n",
       "      <th>AGE</th>\n",
       "      <th>MONTH</th>\n",
       "      <th>SEX</th>\n",
       "      <th>Absent</th>\n",
       "      <th>Present</th>\n",
       "    </tr>\n",
       "  </thead>\n",
       "  <tbody>\n",
       "    <tr>\n",
       "      <th>9697</th>\n",
       "      <td>c_0036</td>\n",
       "      <td>38.0</td>\n",
       "      <td>2</td>\n",
       "      <td>0</td>\n",
       "      <td>s_0553</td>\n",
       "      <td>s_0542, s_0290, s_0837, s_0084, s_1266, s_0180</td>\n",
       "    </tr>\n",
       "    <tr>\n",
       "      <th>31843</th>\n",
       "      <td>c_0499</td>\n",
       "      <td>55.0</td>\n",
       "      <td>8</td>\n",
       "      <td>0</td>\n",
       "      <td>NaN</td>\n",
       "      <td>s_1547, s_0653</td>\n",
       "    </tr>\n",
       "    <tr>\n",
       "      <th>63932</th>\n",
       "      <td>c_0152</td>\n",
       "      <td>35.0</td>\n",
       "      <td>10</td>\n",
       "      <td>0</td>\n",
       "      <td>s_0070, s_0653, s_0039, s_0078, s_2734, s_0837...</td>\n",
       "      <td>s_1611, s_0445, s_0542, s_0084, s_0315, s_0478...</td>\n",
       "    </tr>\n",
       "    <tr>\n",
       "      <th>69507</th>\n",
       "      <td>c_0145</td>\n",
       "      <td>26.0</td>\n",
       "      <td>6</td>\n",
       "      <td>1</td>\n",
       "      <td>s_0106, s_0542, s_0124, s_0084, s_0180</td>\n",
       "      <td>s_0136, s_0290, s_2734</td>\n",
       "    </tr>\n",
       "    <tr>\n",
       "      <th>64367</th>\n",
       "      <td>c_0036</td>\n",
       "      <td>61.0</td>\n",
       "      <td>4</td>\n",
       "      <td>0</td>\n",
       "      <td>s_0070, s_0180, s_0553, s_0039, s_1611, s_0136...</td>\n",
       "      <td>s_0227, s_0078, s_0786, s_0084, s_0356, s_0739</td>\n",
       "    </tr>\n",
       "  </tbody>\n",
       "</table>\n",
       "</div>"
      ],
      "text/plain": [
       "           DX   AGE  MONTH  SEX  \\\n",
       "9697   c_0036  38.0      2    0   \n",
       "31843  c_0499  55.0      8    0   \n",
       "63932  c_0152  35.0     10    0   \n",
       "69507  c_0145  26.0      6    1   \n",
       "64367  c_0036  61.0      4    0   \n",
       "\n",
       "                                                  Absent  \\\n",
       "9697                                              s_0553   \n",
       "31843                                                NaN   \n",
       "63932  s_0070, s_0653, s_0039, s_0078, s_2734, s_0837...   \n",
       "69507             s_0106, s_0542, s_0124, s_0084, s_0180   \n",
       "64367  s_0070, s_0180, s_0553, s_0039, s_1611, s_0136...   \n",
       "\n",
       "                                                 Present  \n",
       "9697      s_0542, s_0290, s_0837, s_0084, s_1266, s_0180  \n",
       "31843                                     s_1547, s_0653  \n",
       "63932  s_1611, s_0445, s_0542, s_0084, s_0315, s_0478...  \n",
       "69507                             s_0136, s_0290, s_2734  \n",
       "64367     s_0227, s_0078, s_0786, s_0084, s_0356, s_0739  "
      ]
     },
     "execution_count": 3,
     "metadata": {},
     "output_type": "execute_result"
    }
   ],
   "source": [
    "data = shuffle(data,random_state=seed)\n",
    "data.head()"
   ]
  },
  {
   "cell_type": "code",
   "execution_count": 4,
   "metadata": {},
   "outputs": [
    {
     "name": "stdout",
     "output_type": "stream",
     "text": [
      "<class 'pandas.core.frame.DataFrame'>\n",
      "Int64Index: 71662 entries, 9697 to 45919\n",
      "Data columns (total 6 columns):\n",
      "DX         71662 non-null object\n",
      "AGE        71662 non-null float64\n",
      "MONTH      71662 non-null int64\n",
      "SEX        71662 non-null int64\n",
      "Absent     64343 non-null object\n",
      "Present    66392 non-null object\n",
      "dtypes: float64(1), int64(2), object(3)\n",
      "memory usage: 3.8+ MB\n"
     ]
    }
   ],
   "source": [
    "data.info()"
   ]
  },
  {
   "cell_type": "markdown",
   "metadata": {},
   "source": [
    "The following bar plot shows how imbalanced the dataset is as we can see number of total patients diagnosed with a specific deseese vary from over tens of thousands for classes like c_0608 amd c_0145 to under 100 for classes like c_0184 and c_0498. This makes multiclass classification job and its evaluation alot more challenging."
   ]
  },
  {
   "cell_type": "code",
   "execution_count": 5,
   "metadata": {},
   "outputs": [
    {
     "data": {
      "text/plain": [
       "<matplotlib.axes._subplots.AxesSubplot at 0x1a2643ca58>"
      ]
     },
     "execution_count": 5,
     "metadata": {},
     "output_type": "execute_result"
    },
    {
     "data": {
      "image/png": "[encoded data removed]",
      "text/plain": [
       "<Figure size 1224x360 with 1 Axes>"
      ]
     },
     "metadata": {},
     "output_type": "display_data"
    }
   ],
   "source": [
    "plt.figure(figsize=(17, 5))\n",
    "plt.ylabel(\"Counts of diagnoses\")\n",
    "data['DX'].value_counts().plot(kind='bar')"
   ]
  },
  {
   "cell_type": "code",
   "execution_count": 6,
   "metadata": {},
   "outputs": [],
   "source": [
    "values = data['DX'].value_counts().keys().tolist()\n",
    "counts = data['DX'].value_counts().tolist()"
   ]
  },
  {
   "cell_type": "code",
   "execution_count": 7,
   "metadata": {},
   "outputs": [
    {
     "name": "stdout",
     "output_type": "stream",
     "text": [
      "<class 'pandas.core.frame.DataFrame'>\n",
      "Int64Index: 66392 entries, 9697 to 45919\n",
      "Data columns (total 6 columns):\n",
      "DX         66392 non-null object\n",
      "AGE        66392 non-null float64\n",
      "MONTH      66392 non-null int64\n",
      "SEX        66392 non-null int64\n",
      "Absent     60523 non-null object\n",
      "Present    66392 non-null object\n",
      "dtypes: float64(1), int64(2), object(3)\n",
      "memory usage: 3.5+ MB\n"
     ]
    }
   ],
   "source": [
    "data.dropna(subset=['Present'],inplace=True)\n",
    "data.info()"
   ]
  },
  {
   "cell_type": "markdown",
   "metadata": {},
   "source": [
    "# Preparation of Train and Test Data"
   ]
  },
  {
   "cell_type": "code",
   "execution_count": 8,
   "metadata": {},
   "outputs": [],
   "source": [
    "Y = data['DX']\n",
    "X = data.drop('DX',axis=1)"
   ]
  },
  {
   "cell_type": "markdown",
   "metadata": {},
   "source": [
    "10 percent of data is randomly sample to be used as test data for evaluation."
   ]
  },
  {
   "cell_type": "code",
   "execution_count": 54,
   "metadata": {},
   "outputs": [],
   "source": [
    "test_size = 0.1\n",
    "x_train, x_test, y_train, y_test = model_selection.train_test_split(X,Y,test_size=test_size, random_state = seed)"
   ]
  },
  {
   "cell_type": "code",
   "execution_count": 55,
   "metadata": {},
   "outputs": [],
   "source": [
    "class_names = np.unique(y_train)\n",
    "encoder = LabelEncoder()\n",
    "encoder.fit(Y)\n",
    "y_train = encoder.transform(y_train)"
   ]
  },
  {
   "cell_type": "markdown",
   "metadata": {},
   "source": [
    "Sample weights will be used later to deal with imbalanceness of data."
   ]
  },
  {
   "cell_type": "code",
   "execution_count": 56,
   "metadata": {},
   "outputs": [
    {
     "data": {
      "text/plain": [
       "array([0.18, 0.84, 0.99, ..., 0.18, 1.43, 2.81])"
      ]
     },
     "execution_count": 56,
     "metadata": {},
     "output_type": "execute_result"
    }
   ],
   "source": [
    "# class_weight_list = compute_class_weight('balanced', np.unique(y_train), y_train)\n",
    "# class_weights = dict(zip(np.unique(y_train), class_weight_list))\n",
    "# class_weight_original_names = dict(zip(class_names, class_weight_list))\n",
    "# print(f\"Class weight: {class_weight_original_names}\")\n",
    "\n",
    "# class_weight_list = 1 / np.bincount(y_train)\n",
    "# class_weights = dict(zip(np.unique(y_train), class_weight_list))\n",
    "# class_weight_original_names = dict(zip(class_names, class_weight_list))\n",
    "# print(f\"Class weight: {class_weight_original_names}\")\n",
    "\n",
    "from sklearn.utils import class_weight\n",
    "sample_weights = class_weight.compute_sample_weight('balanced', y_train)\n",
    "sample_weights"
   ]
  },
  {
   "cell_type": "code",
   "execution_count": 57,
   "metadata": {},
   "outputs": [],
   "source": [
    "y_train = to_categorical(y_train)"
   ]
  },
  {
   "cell_type": "code",
   "execution_count": 58,
   "metadata": {},
   "outputs": [],
   "source": [
    "y_test = encoder.transform(y_test)\n",
    "y_test = to_categorical(y_test)"
   ]
  },
  {
   "cell_type": "markdown",
   "metadata": {},
   "source": [
    "# Feature Engineering"
   ]
  },
  {
   "cell_type": "markdown",
   "metadata": {},
   "source": [
    "AGE as a numeric feature needs to be normalized and for that I use standard normalization. For test data 'AGE' is normalized using mean and std that are extracted from training data assuming model has no information about test data."
   ]
  },
  {
   "cell_type": "code",
   "execution_count": 59,
   "metadata": {},
   "outputs": [],
   "source": [
    "std = np.std(x_train['AGE'])\n",
    "mean = np.mean(x_train['AGE'])\n",
    "x_train['AGE'] -= mean\n",
    "x_train['AGE'] /= std"
   ]
  },
  {
   "cell_type": "code",
   "execution_count": 60,
   "metadata": {},
   "outputs": [],
   "source": [
    "x_test['AGE'] -= mean\n",
    "x_test['AGE'] /= std"
   ]
  },
  {
   "cell_type": "markdown",
   "metadata": {},
   "source": [
    "Month is an oridnal feature, but is also cyclic, so the best way of representing it is converting it to a circular variable using two features of MONTH_X and MONTH_Y."
   ]
  },
  {
   "cell_type": "code",
   "execution_count": 61,
   "metadata": {},
   "outputs": [],
   "source": [
    "month_circum = 12\n",
    "x_train = pd.concat([x_train, x_train['MONTH'].apply(lambda var:pd.Series({'MONTH_x':np.sin(2 * np.pi * var / month_circum),'MONTH_y':np.cos(2 * np.pi * var / month_circum)}))], axis=1)\n",
    "x_train.drop('MONTH',axis=1,inplace=True)"
   ]
  },
  {
   "cell_type": "code",
   "execution_count": 62,
   "metadata": {},
   "outputs": [],
   "source": [
    "x_test = pd.concat([x_test, x_test['MONTH'].apply(lambda var:pd.Series({'MONTH_x':np.sin(2 * np.pi * var / month_circum),'MONTH_y':np.cos(2 * np.pi * var / month_circum)}))], axis=1)\n",
    "x_test.drop('MONTH',axis=1,inplace=True)"
   ]
  },
  {
   "cell_type": "markdown",
   "metadata": {},
   "source": [
    "Two features of 'Present' and 'Absent' are lists of symptoms that need to be one-hot encoded together, and that is because symproms that are present for a patient are not absent for him/her but also there are symptoms that are neither present nor absent. For that reason, I first extracted all existing sysmptoms in training data that have been present or absent for different patients. Then of all these extracted symptoms, the ones that are present for each patient are encoded to 1, ones that are absent are encoded to -1 and the remaining ones that are ones that are not aksed for remain zero."
   ]
  },
  {
   "cell_type": "code",
   "execution_count": 63,
   "metadata": {},
   "outputs": [],
   "source": [
    "present_symptoms = np.array(x_train['Present'])\n",
    "absent_symptoms = np.array(x_train['Absent'].dropna())\n",
    "present_absent_symptoms = np.concatenate((present_symptoms,absent_symptoms),axis=0)"
   ]
  },
  {
   "cell_type": "code",
   "execution_count": 64,
   "metadata": {},
   "outputs": [
    {
     "data": {
      "text/plain": [
       "array(['s_0022, s_2194, s_0084', 's_1611, s_2171, s_0445, s_0180',\n",
       "       's_1547', ..., 's_0106, s_0542', 's_2738, s_0605', 's_0553'],\n",
       "      dtype=object)"
      ]
     },
     "execution_count": 64,
     "metadata": {},
     "output_type": "execute_result"
    }
   ],
   "source": [
    "present_absent_symptoms"
   ]
  },
  {
   "cell_type": "code",
   "execution_count": 65,
   "metadata": {},
   "outputs": [],
   "source": [
    "token_index = {}\n",
    "symptoms = []\n",
    "for i,seq in enumerate(present_absent_symptoms):\n",
    "    for word in seq.split(','):\n",
    "        word = word.strip()\n",
    "        if word not in symptoms:\n",
    "            symptoms.append(word)\n",
    "            token_index[word] = len(token_index) + 1"
   ]
  },
  {
   "cell_type": "code",
   "execution_count": 66,
   "metadata": {},
   "outputs": [
    {
     "name": "stdout",
     "output_type": "stream",
     "text": [
      "There exists 737 number of symptoms in training data\n"
     ]
    }
   ],
   "source": [
    "print(f\"There exists {len(symptoms)} number of symptoms in training data\")"
   ]
  },
  {
   "cell_type": "code",
   "execution_count": 67,
   "metadata": {},
   "outputs": [],
   "source": [
    "present_samples = np.array(x_train['Present'])\n",
    "absent_samples = np.array(x_train['Absent'])"
   ]
  },
  {
   "cell_type": "code",
   "execution_count": 68,
   "metadata": {},
   "outputs": [
    {
     "data": {
      "text/plain": [
       "array(['s_0022, s_2194, s_0084', 's_1611, s_2171, s_0445, s_0180',\n",
       "       's_1547', ..., 's_0445, s_0864, s_0084', 's_0824',\n",
       "       's_0270, s_0954, s_1759'], dtype=object)"
      ]
     },
     "execution_count": 68,
     "metadata": {},
     "output_type": "execute_result"
    }
   ],
   "source": [
    "present_samples"
   ]
  },
  {
   "cell_type": "code",
   "execution_count": 69,
   "metadata": {},
   "outputs": [],
   "source": [
    "def one_hot(present_samples,absent_samples):\n",
    "    results = np.zeros(shape=(len(present_samples),max(token_index.values()) + 1))\n",
    "    for i, sample in enumerate(absent_samples):\n",
    "        if sample == '' or pd.isnull(sample):\n",
    "            pass\n",
    "        else:\n",
    "            for j, word in list(enumerate(sample.split(','))):\n",
    "                word = word.strip()\n",
    "                index = token_index.get(word,None)\n",
    "                if index:\n",
    "                    results[i, index] = -1\n",
    "    for i, sample in enumerate(present_samples):\n",
    "        for j, word in list(enumerate(sample.split(','))):\n",
    "            word = word.strip()\n",
    "            index = token_index.get(word,None)\n",
    "            if index:\n",
    "                results[i, index] = 1\n",
    "    return results"
   ]
  },
  {
   "cell_type": "code",
   "execution_count": 70,
   "metadata": {},
   "outputs": [],
   "source": [
    "encoded_symptoms =  one_hot(present_samples,absent_samples)"
   ]
  },
  {
   "cell_type": "code",
   "execution_count": 71,
   "metadata": {},
   "outputs": [],
   "source": [
    "x_train.drop(columns=['Present','Absent'],axis=1,inplace=True)"
   ]
  },
  {
   "cell_type": "code",
   "execution_count": 72,
   "metadata": {},
   "outputs": [],
   "source": [
    "x_train = np.array(x_train)"
   ]
  },
  {
   "cell_type": "code",
   "execution_count": 73,
   "metadata": {},
   "outputs": [],
   "source": [
    "x_train = np.concatenate((x_train,encoded_symptoms),axis=1)"
   ]
  },
  {
   "cell_type": "code",
   "execution_count": 74,
   "metadata": {},
   "outputs": [
    {
     "data": {
      "text/plain": [
       "(59752, 742)"
      ]
     },
     "execution_count": 74,
     "metadata": {},
     "output_type": "execute_result"
    }
   ],
   "source": [
    "x_train.shape"
   ]
  },
  {
   "cell_type": "code",
   "execution_count": 75,
   "metadata": {},
   "outputs": [
    {
     "data": {
      "text/plain": [
       "25"
      ]
     },
     "execution_count": 75,
     "metadata": {},
     "output_type": "execute_result"
    }
   ],
   "source": [
    "output_dim = y_train.shape[1]\n",
    "output_dim"
   ]
  },
  {
   "cell_type": "code",
   "execution_count": 76,
   "metadata": {},
   "outputs": [
    {
     "data": {
      "text/plain": [
       "742"
      ]
     },
     "execution_count": 76,
     "metadata": {},
     "output_type": "execute_result"
    }
   ],
   "source": [
    "input_dim = x_train.shape[1]\n",
    "input_dim"
   ]
  },
  {
   "cell_type": "markdown",
   "metadata": {},
   "source": [
    "The same symptoms that are extracted from training data with its corresponding token index will be used to one hot encode the test data. The sysmptoms that happen to exist in test data that did not appear in any of patients in training data will be treated as not asked and encoded to zero."
   ]
  },
  {
   "cell_type": "code",
   "execution_count": 78,
   "metadata": {},
   "outputs": [],
   "source": [
    "test_present_samples = np.array(x_test['Present'])\n",
    "test_absent_samples = np.array(x_test['Absent'])\n",
    "test_results =  one_hot(test_present_samples,test_absent_samples)\n",
    "x_test.drop(columns=['Present','Absent'],axis=1,inplace=True)\n",
    "x_test = np.array(x_test)\n",
    "x_test = np.concatenate((x_test,test_results),axis=1)"
   ]
  },
  {
   "cell_type": "markdown",
   "metadata": {},
   "source": [
    "# Training dense neural network without handling imbalanced dataset"
   ]
  },
  {
   "cell_type": "markdown",
   "metadata": {},
   "source": [
    "The first 10000 samples of training data will be used for validation, and the remaining is the data that dense neural network model will use for training."
   ]
  },
  {
   "cell_type": "code",
   "execution_count": 77,
   "metadata": {},
   "outputs": [],
   "source": [
    "x_val = x_train[:10000]\n",
    "partial_x_train = x_train[10000:]\n",
    "y_val = y_train[:10000]\n",
    "partial_y_train = y_train[10000:]"
   ]
  },
  {
   "cell_type": "markdown",
   "metadata": {},
   "source": [
    "I use dense NN with 4 hidden layers each also consisting a dropout layer with fraction rate of 0.3 (came up with though experimentation) to fight overfitting. The input_dim is the number of dimensions in a each input sample (here 742) with the last layer having output_dim number of output nodes with activation function of softmax that gives probababilities per each output node."
   ]
  },
  {
   "cell_type": "code",
   "execution_count": 34,
   "metadata": {},
   "outputs": [],
   "source": [
    "model = models.Sequential()\n",
    "model.add(layers.Dense(128, activation='relu', input_shape=(input_dim,)))\n",
    "model.add(layers.Dropout(0.3))\n",
    "model.add(layers.Dense(128, activation='relu'))\n",
    "model.add(layers.Dropout(0.3))\n",
    "model.add(layers.Dense(64, activation='relu'))\n",
    "model.add(layers.Dropout(0.3))\n",
    "model.add(layers.Dense(64, activation='relu'))\n",
    "model.add(layers.Dropout(0.3))\n",
    "model.add(layers.Dense(output_dim, activation='softmax'))"
   ]
  },
  {
   "cell_type": "markdown",
   "metadata": {},
   "source": [
    "Model is compiled using optimizer of RMSprop with learningrate of 0.001 and loss function of 'categorical_crossentropy' (because it is a multiclass classification problem), and trained for 50 epochs."
   ]
  },
  {
   "cell_type": "code",
   "execution_count": 35,
   "metadata": {},
   "outputs": [
    {
     "name": "stdout",
     "output_type": "stream",
     "text": [
      "Train on 49752 samples, validate on 10000 samples\n",
      "Epoch 1/50\n",
      "49752/49752 [==============================] - 2s 33us/step - loss: 2.0853 - acc: 0.3626 - val_loss: 1.5970 - val_acc: 0.4936\n",
      "Epoch 2/50\n",
      "49752/49752 [==============================] - 1s 25us/step - loss: 1.6378 - acc: 0.4843 - val_loss: 1.4445 - val_acc: 0.5339\n",
      "Epoch 3/50\n",
      "49752/49752 [==============================] - 1s 27us/step - loss: 1.5181 - acc: 0.5187 - val_loss: 1.3709 - val_acc: 0.5552\n",
      "Epoch 4/50\n",
      "49752/49752 [==============================] - 1s 28us/step - loss: 1.4381 - acc: 0.5399 - val_loss: 1.3155 - val_acc: 0.5756\n",
      "Epoch 5/50\n",
      "49752/49752 [==============================] - 2s 40us/step - loss: 1.3826 - acc: 0.5595 - val_loss: 1.2885 - val_acc: 0.5873\n",
      "Epoch 6/50\n",
      "49752/49752 [==============================] - 2s 31us/step - loss: 1.3458 - acc: 0.5712 - val_loss: 1.2683 - val_acc: 0.5898\n",
      "Epoch 7/50\n",
      "49752/49752 [==============================] - 2s 35us/step - loss: 1.3206 - acc: 0.5789 - val_loss: 1.2484 - val_acc: 0.5988\n",
      "Epoch 8/50\n",
      "49752/49752 [==============================] - 1s 29us/step - loss: 1.2928 - acc: 0.5867 - val_loss: 1.2437 - val_acc: 0.5954\n",
      "Epoch 9/50\n",
      "49752/49752 [==============================] - 1s 27us/step - loss: 1.2810 - acc: 0.5909 - val_loss: 1.2368 - val_acc: 0.6012\n",
      "Epoch 10/50\n",
      "49752/49752 [==============================] - 1s 28us/step - loss: 1.2634 - acc: 0.5944 - val_loss: 1.2313 - val_acc: 0.6035\n",
      "Epoch 11/50\n",
      "49752/49752 [==============================] - 1s 27us/step - loss: 1.2516 - acc: 0.6005 - val_loss: 1.2263 - val_acc: 0.6070\n",
      "Epoch 12/50\n",
      "49752/49752 [==============================] - 1s 26us/step - loss: 1.2377 - acc: 0.6049 - val_loss: 1.2277 - val_acc: 0.6020\n",
      "Epoch 13/50\n",
      "49752/49752 [==============================] - 1s 27us/step - loss: 1.2331 - acc: 0.6074 - val_loss: 1.2199 - val_acc: 0.6048\n",
      "Epoch 14/50\n",
      "49752/49752 [==============================] - 1s 30us/step - loss: 1.2216 - acc: 0.6080 - val_loss: 1.2203 - val_acc: 0.6046\n",
      "Epoch 15/50\n",
      "49752/49752 [==============================] - 1s 28us/step - loss: 1.2146 - acc: 0.6114 - val_loss: 1.2165 - val_acc: 0.6073\n",
      "Epoch 16/50\n",
      "49752/49752 [==============================] - 1s 26us/step - loss: 1.2049 - acc: 0.6159 - val_loss: 1.2142 - val_acc: 0.6085\n",
      "Epoch 17/50\n",
      "49752/49752 [==============================] - 1s 26us/step - loss: 1.2011 - acc: 0.6169 - val_loss: 1.2137 - val_acc: 0.6126\n",
      "Epoch 18/50\n",
      "49752/49752 [==============================] - 1s 26us/step - loss: 1.1996 - acc: 0.6170 - val_loss: 1.2138 - val_acc: 0.6128\n",
      "Epoch 19/50\n",
      "49752/49752 [==============================] - 1s 26us/step - loss: 1.1874 - acc: 0.6218 - val_loss: 1.2092 - val_acc: 0.6139\n",
      "Epoch 20/50\n",
      "49752/49752 [==============================] - 1s 26us/step - loss: 1.1779 - acc: 0.6233 - val_loss: 1.2099 - val_acc: 0.6142\n",
      "Epoch 21/50\n",
      "49752/49752 [==============================] - 1s 26us/step - loss: 1.1808 - acc: 0.6221 - val_loss: 1.2063 - val_acc: 0.6150\n",
      "Epoch 22/50\n",
      "49752/49752 [==============================] - 1s 30us/step - loss: 1.1710 - acc: 0.6250 - val_loss: 1.2161 - val_acc: 0.6141\n",
      "Epoch 23/50\n",
      "49752/49752 [==============================] - 1s 27us/step - loss: 1.1765 - acc: 0.6242 - val_loss: 1.2118 - val_acc: 0.6155\n",
      "Epoch 24/50\n",
      "49752/49752 [==============================] - 1s 27us/step - loss: 1.1647 - acc: 0.6260 - val_loss: 1.2221 - val_acc: 0.6136\n",
      "Epoch 25/50\n",
      "49752/49752 [==============================] - 1s 26us/step - loss: 1.1613 - acc: 0.6280 - val_loss: 1.2197 - val_acc: 0.6137\n",
      "Epoch 26/50\n",
      "49752/49752 [==============================] - 1s 26us/step - loss: 1.1481 - acc: 0.6304 - val_loss: 1.2157 - val_acc: 0.6110\n",
      "Epoch 27/50\n",
      "49752/49752 [==============================] - 1s 28us/step - loss: 1.1541 - acc: 0.6329 - val_loss: 1.2142 - val_acc: 0.6150\n",
      "Epoch 28/50\n",
      "49752/49752 [==============================] - 1s 28us/step - loss: 1.1550 - acc: 0.6316 - val_loss: 1.2143 - val_acc: 0.6129\n",
      "Epoch 29/50\n",
      "49752/49752 [==============================] - 1s 27us/step - loss: 1.1482 - acc: 0.6334 - val_loss: 1.2181 - val_acc: 0.6150\n",
      "Epoch 30/50\n",
      "49752/49752 [==============================] - 1s 28us/step - loss: 1.1489 - acc: 0.6322 - val_loss: 1.2170 - val_acc: 0.6156\n",
      "Epoch 31/50\n",
      "49752/49752 [==============================] - 1s 28us/step - loss: 1.1436 - acc: 0.6341 - val_loss: 1.2151 - val_acc: 0.6113\n",
      "Epoch 32/50\n",
      "49752/49752 [==============================] - 1s 28us/step - loss: 1.1364 - acc: 0.6361 - val_loss: 1.2280 - val_acc: 0.6118\n",
      "Epoch 33/50\n",
      "49752/49752 [==============================] - 1s 26us/step - loss: 1.1360 - acc: 0.6366 - val_loss: 1.2174 - val_acc: 0.6162\n",
      "Epoch 34/50\n",
      "49752/49752 [==============================] - 1s 26us/step - loss: 1.1347 - acc: 0.6364 - val_loss: 1.2211 - val_acc: 0.6146\n",
      "Epoch 35/50\n",
      "49752/49752 [==============================] - 1s 26us/step - loss: 1.1368 - acc: 0.6383 - val_loss: 1.2213 - val_acc: 0.6138\n",
      "Epoch 36/50\n",
      "49752/49752 [==============================] - 1s 26us/step - loss: 1.1352 - acc: 0.6398 - val_loss: 1.2232 - val_acc: 0.6142\n",
      "Epoch 37/50\n",
      "49752/49752 [==============================] - 1s 26us/step - loss: 1.1305 - acc: 0.6380 - val_loss: 1.2276 - val_acc: 0.6127\n",
      "Epoch 38/50\n",
      "49752/49752 [==============================] - 1s 29us/step - loss: 1.1357 - acc: 0.6378 - val_loss: 1.2253 - val_acc: 0.6154\n",
      "Epoch 39/50\n",
      "49752/49752 [==============================] - 1s 27us/step - loss: 1.1247 - acc: 0.6397 - val_loss: 1.2276 - val_acc: 0.6128\n",
      "Epoch 40/50\n",
      "49752/49752 [==============================] - 1s 29us/step - loss: 1.1262 - acc: 0.6402 - val_loss: 1.2303 - val_acc: 0.6113\n",
      "Epoch 41/50\n",
      "49752/49752 [==============================] - 1s 27us/step - loss: 1.1290 - acc: 0.6386 - val_loss: 1.2251 - val_acc: 0.6144\n",
      "Epoch 42/50\n",
      "49752/49752 [==============================] - 1s 25us/step - loss: 1.1243 - acc: 0.6403 - val_loss: 1.2296 - val_acc: 0.6153\n",
      "Epoch 43/50\n",
      "49752/49752 [==============================] - 1s 27us/step - loss: 1.1211 - acc: 0.6428 - val_loss: 1.2317 - val_acc: 0.6131\n",
      "Epoch 44/50\n",
      "49752/49752 [==============================] - 1s 26us/step - loss: 1.1209 - acc: 0.6419 - val_loss: 1.2383 - val_acc: 0.6150\n",
      "Epoch 45/50\n",
      "49752/49752 [==============================] - 1s 26us/step - loss: 1.1226 - acc: 0.6415 - val_loss: 1.2271 - val_acc: 0.6141\n",
      "Epoch 46/50\n",
      "49752/49752 [==============================] - 1s 29us/step - loss: 1.1230 - acc: 0.6426 - val_loss: 1.2325 - val_acc: 0.6126\n",
      "Epoch 47/50\n",
      "49752/49752 [==============================] - 1s 26us/step - loss: 1.1250 - acc: 0.6431 - val_loss: 1.2413 - val_acc: 0.6146\n",
      "Epoch 48/50\n",
      "49752/49752 [==============================] - 1s 27us/step - loss: 1.1158 - acc: 0.6437 - val_loss: 1.2377 - val_acc: 0.6129\n",
      "Epoch 49/50\n",
      "49752/49752 [==============================] - 1s 28us/step - loss: 1.1222 - acc: 0.6427 - val_loss: 1.2346 - val_acc: 0.6163\n",
      "Epoch 50/50\n",
      "49752/49752 [==============================] - 1s 28us/step - loss: 1.1184 - acc: 0.6436 - val_loss: 1.2302 - val_acc: 0.6128\n"
     ]
    }
   ],
   "source": [
    "model.compile(optimizer=optimizers.RMSprop(lr=0.001),\n",
    "              loss='categorical_crossentropy',\n",
    "              metrics=['accuracy'])\n",
    "history = model.fit(partial_x_train,\n",
    "                    partial_y_train,\n",
    "                    epochs=50,\n",
    "                    batch_size=128,\n",
    "                    validation_data=(x_val, y_val))"
   ]
  },
  {
   "cell_type": "markdown",
   "metadata": {},
   "source": [
    "The diagram of training and validation loss per epoch shows that using the right ratio in dropout layers has been able to prevent validation and training getting so far apart, with validation loss stabilizing around loss of 1.23 at 50th epoch. We also do not have underfitting issue as training loss has been constantly reducing and getting stabilized which indicates the right number of parameters and layers are used for NN model. Training and validation accuracy per epoch also shows that validation acuracy reaches around 61% as by using number of epochs higher than 15, model starts overfitting with training loss further reducing while validation loss and accuracy staying almost constant."
   ]
  },
  {
   "cell_type": "code",
   "execution_count": 36,
   "metadata": {},
   "outputs": [
    {
     "data": {
      "image/png": "[encoded data removed]",
      "text/plain": [
       "<Figure size 432x288 with 1 Axes>"
      ]
     },
     "metadata": {},
     "output_type": "display_data"
    }
   ],
   "source": [
    "history_dict = history.history\n",
    "acc = history.history['acc']\n",
    "loss_values = history_dict['loss']\n",
    "val_loss_values = history_dict['val_loss']\n",
    "epochs = range(1, len(acc) + 1)\n",
    "plt.plot(epochs, loss_values, 'bo', label='Training loss')\n",
    "plt.plot(epochs, val_loss_values, 'b', label='Validation loss')\n",
    "plt.title('Training and validation loss')\n",
    "plt.xlabel('Epochs')\n",
    "plt.ylabel('Loss')\n",
    "plt.legend()\n",
    "plt.show()"
   ]
  },
  {
   "cell_type": "code",
   "execution_count": 37,
   "metadata": {},
   "outputs": [
    {
     "data": {
      "image/png": "[encoded data removed]",
      "text/plain": [
       "<Figure size 432x288 with 1 Axes>"
      ]
     },
     "metadata": {},
     "output_type": "display_data"
    }
   ],
   "source": [
    "plt.clf()\n",
    "acc_values = history_dict['acc']\n",
    "val_acc = history_dict['val_acc']\n",
    "plt.plot(epochs, acc, 'bo', label='Training acc')\n",
    "plt.plot(epochs, val_acc, 'b', label='Validation acc')\n",
    "plt.title('Training and validation accuracy')\n",
    "plt.xlabel('Epochs')\n",
    "plt.ylabel('Accuracy')\n",
    "plt.legend()\n",
    "plt.show()"
   ]
  },
  {
   "cell_type": "markdown",
   "metadata": {},
   "source": [
    "# Evaluation of the trained Neural Network model"
   ]
  },
  {
   "cell_type": "markdown",
   "metadata": {},
   "source": [
    "Trained model is being evaluated on test set that results in loss of 1.23 and accuracy of around 61%. Since the dataset is highly imbalanced, it is preferred to evaluate model using other criteria like confusion matrix or f1score."
   ]
  },
  {
   "cell_type": "code",
   "execution_count": 38,
   "metadata": {},
   "outputs": [
    {
     "name": "stdout",
     "output_type": "stream",
     "text": [
      "6640/6640 [==============================] - 0s 21us/step\n"
     ]
    }
   ],
   "source": [
    "evaluation_results = model.evaluate(x_test, y_test)"
   ]
  },
  {
   "cell_type": "code",
   "execution_count": 39,
   "metadata": {},
   "outputs": [
    {
     "data": {
      "text/plain": [
       "[1.2330117329057442, 0.6090361445783132]"
      ]
     },
     "execution_count": 39,
     "metadata": {},
     "output_type": "execute_result"
    }
   ],
   "source": [
    "evaluation_results"
   ]
  },
  {
   "cell_type": "code",
   "execution_count": 40,
   "metadata": {},
   "outputs": [],
   "source": [
    "predictions = model.predict_classes(x_test)"
   ]
  },
  {
   "cell_type": "code",
   "execution_count": 41,
   "metadata": {},
   "outputs": [
    {
     "data": {
      "text/plain": [
       "array([ 1, 22,  1, ...,  8,  9, 16])"
      ]
     },
     "execution_count": 41,
     "metadata": {},
     "output_type": "execute_result"
    }
   ],
   "source": [
    "predictions"
   ]
  },
  {
   "cell_type": "markdown",
   "metadata": {},
   "source": [
    "Confusion matrix shows how the model has performed across different classes. In the following heatmap of normalized confusion matrix, diagonal pixels show accuracy for different classes where brighter colors indicate higher accuracy and darker colors show lower accuracy. As you can see these accuracies are all around the place from being high for classes like c_0133 that has thousands of samples to almost zero for 5 classes like c_0500 that have few samples. It means that model has done poorly across classes with fewer number of data points even though the overall f1score is 61.5%. However, if we are looking for a model that overall performs well for classes that have good number of points, this model can be a good selection since it also results in over 67% of weighted accuracy."
   ]
  },
  {
   "cell_type": "code",
   "execution_count": 42,
   "metadata": {},
   "outputs": [],
   "source": [
    "y_test_original = np.argmax(y_test, axis=1)\n",
    "np.set_printoptions(precision=2)\n",
    "cm = confusion_matrix(y_test_original, predictions)\n",
    "cm = cm.astype('float') / cm.sum(axis=1)[:, np.newaxis]\n",
    "df_cm = pd.DataFrame(cm, range(25),range(25))\n",
    "le_name_mapping = dict(zip(encoder.transform(encoder.classes_),encoder.classes_))\n",
    "df_cm.index = df_cm.index.map(le_name_mapping)\n",
    "df_cm.columns = df_cm.columns.map(le_name_mapping)"
   ]
  },
  {
   "cell_type": "code",
   "execution_count": 43,
   "metadata": {},
   "outputs": [
    {
     "data": {
      "text/plain": [
       "<matplotlib.axes._subplots.AxesSubplot at 0x1a262eff28>"
      ]
     },
     "execution_count": 43,
     "metadata": {},
     "output_type": "execute_result"
    },
    {
     "data": {
      "image/png": "[encoded data removed]",
      "text/plain": [
       "<Figure size 1224x576 with 2 Axes>"
      ]
     },
     "metadata": {},
     "output_type": "display_data"
    }
   ],
   "source": [
    "plt.figure(figsize=(17, 8))\n",
    "sn.set(font_scale=1.4)#for label size\n",
    "sn.heatmap(df_cm, annot=False,annot_kws={\"size\": 16})# font size"
   ]
  },
  {
   "cell_type": "code",
   "execution_count": 44,
   "metadata": {},
   "outputs": [
    {
     "data": {
      "text/plain": [
       "c_0008    0.340984\n",
       "c_0036    0.550699\n",
       "c_0050    0.000000\n",
       "c_0055    0.121212\n",
       "c_0056    0.000000\n",
       "c_0094    0.000000\n",
       "c_0133    0.726073\n",
       "c_0144    0.673171\n",
       "c_0145    0.437500\n",
       "c_0152    0.781329\n",
       "c_0183    0.790076\n",
       "c_0184    0.000000\n",
       "c_0187    0.320463\n",
       "c_0196    0.013841\n",
       "c_0206    0.759259\n",
       "c_0250    0.147059\n",
       "c_0273    0.789137\n",
       "c_0497    0.885621\n",
       "c_0498    0.000000\n",
       "c_0499    0.527473\n",
       "c_0500    0.000000\n",
       "c_0604    0.000000\n",
       "c_0608    0.701503\n",
       "c_0655    0.761905\n",
       "c_0720    0.197531\n",
       "dtype: float64"
      ]
     },
     "execution_count": 44,
     "metadata": {},
     "output_type": "execute_result"
    }
   ],
   "source": [
    "pd.Series(np.diag(df_cm), index=[df_cm.index])"
   ]
  },
  {
   "cell_type": "code",
   "execution_count": 45,
   "metadata": {},
   "outputs": [
    {
     "name": "stdout",
     "output_type": "stream",
     "text": [
      "Micro average f1 score: 0.609\n"
     ]
    }
   ],
   "source": [
    "from sklearn.metrics import f1_score\n",
    "print(\"Micro average f1 score: {:.3f}\".format (f1_score(y_test_original, predictions, average=\"micro\")))"
   ]
  },
  {
   "cell_type": "code",
   "execution_count": 46,
   "metadata": {},
   "outputs": [
    {
     "data": {
      "text/plain": [
       "0.6746538392737715"
      ]
     },
     "execution_count": 46,
     "metadata": {},
     "output_type": "execute_result"
    }
   ],
   "source": [
    "from sklearn.metrics import accuracy_score\n",
    "w = np.ones(y_test_original.shape[0])\n",
    "for idx, i in enumerate(np.bincount(y_test_original)):\n",
    "    w[y_test_original == idx] *= (i/float(y_test_original.shape[0]))\n",
    "accuracy_score(y_test_original, predictions, sample_weight=w)"
   ]
  },
  {
   "cell_type": "markdown",
   "metadata": {},
   "source": [
    "# Training dense neural network with handling imbalanced dataset"
   ]
  },
  {
   "cell_type": "markdown",
   "metadata": {},
   "source": [
    "Keras introduces a parameter called sample_weight in model fitting that allows further control of the relative weight of samples that belong to the same class that affects the relative weight of samples belonging to each class in the calculation of their objective function. The result is that in cost function it is penalizing wrong classification of the rare class more than wrong classifications of the abundant class.\n",
    "In this case to avoid underfitting I needed to more numbe rof parameters with a lower rate for dropout layers."
   ]
  },
  {
   "cell_type": "code",
   "execution_count": 80,
   "metadata": {},
   "outputs": [],
   "source": [
    "sample_weights = sample_weights[10000:]"
   ]
  },
  {
   "cell_type": "code",
   "execution_count": 145,
   "metadata": {},
   "outputs": [],
   "source": [
    "model = models.Sequential()\n",
    "model.add(layers.Dense(256, activation='relu', input_shape=(input_dim,)))\n",
    "model.add(layers.Dropout(0.1))\n",
    "model.add(layers.Dense(128, activation='relu'))\n",
    "model.add(layers.Dropout(0.1))\n",
    "model.add(layers.Dense(64, activation='relu'))\n",
    "model.add(layers.Dropout(0.1))\n",
    "model.add(layers.Dense(64, activation='relu'))\n",
    "model.add(layers.Dropout(0.1))\n",
    "model.add(layers.Dense(output_dim, activation='softmax'))"
   ]
  },
  {
   "cell_type": "code",
   "execution_count": 146,
   "metadata": {},
   "outputs": [
    {
     "name": "stdout",
     "output_type": "stream",
     "text": [
      "Train on 49752 samples, validate on 10000 samples\n",
      "Epoch 1/50\n",
      "49752/49752 [==============================] - 3s 68us/step - loss: 2.6335 - acc: 0.2869 - val_loss: 1.9603 - val_acc: 0.3991\n",
      "Epoch 2/50\n",
      "49752/49752 [==============================] - 2s 45us/step - loss: 1.9999 - acc: 0.3691 - val_loss: 1.8223 - val_acc: 0.4185\n",
      "Epoch 3/50\n",
      "49752/49752 [==============================] - 2s 43us/step - loss: 1.7751 - acc: 0.3902 - val_loss: 1.7801 - val_acc: 0.3873\n",
      "Epoch 4/50\n",
      "49752/49752 [==============================] - 2s 44us/step - loss: 1.6266 - acc: 0.4027 - val_loss: 1.6758 - val_acc: 0.4127\n",
      "Epoch 5/50\n",
      "49752/49752 [==============================] - 2s 46us/step - loss: 1.5027 - acc: 0.4156 - val_loss: 1.6404 - val_acc: 0.3956\n",
      "Epoch 6/50\n",
      "49752/49752 [==============================] - 2s 43us/step - loss: 1.4097 - acc: 0.4215 - val_loss: 1.6166 - val_acc: 0.4250\n",
      "Epoch 7/50\n",
      "49752/49752 [==============================] - 2s 43us/step - loss: 1.3207 - acc: 0.4337 - val_loss: 1.5579 - val_acc: 0.4576\n",
      "Epoch 8/50\n",
      "49752/49752 [==============================] - 2s 45us/step - loss: 1.2343 - acc: 0.4457 - val_loss: 1.6723 - val_acc: 0.3753\n",
      "Epoch 9/50\n",
      "49752/49752 [==============================] - 2s 46us/step - loss: 1.1886 - acc: 0.4462 - val_loss: 1.6601 - val_acc: 0.3869\n",
      "Epoch 10/50\n",
      "49752/49752 [==============================] - 2s 43us/step - loss: 1.1339 - acc: 0.4561 - val_loss: 1.5709 - val_acc: 0.4188\n",
      "Epoch 11/50\n",
      "49752/49752 [==============================] - 2s 45us/step - loss: 1.0884 - acc: 0.4660 - val_loss: 1.5492 - val_acc: 0.4503\n",
      "Epoch 12/50\n",
      "49752/49752 [==============================] - 2s 45us/step - loss: 1.0646 - acc: 0.4710 - val_loss: 1.6199 - val_acc: 0.4142\n",
      "Epoch 13/50\n",
      "49752/49752 [==============================] - 2s 46us/step - loss: 1.0238 - acc: 0.4737 - val_loss: 1.5578 - val_acc: 0.4488\n",
      "Epoch 14/50\n",
      "49752/49752 [==============================] - 2s 44us/step - loss: 0.9948 - acc: 0.4817 - val_loss: 1.5800 - val_acc: 0.4469\n",
      "Epoch 15/50\n",
      "49752/49752 [==============================] - 2s 43us/step - loss: 0.9565 - acc: 0.4839 - val_loss: 1.5628 - val_acc: 0.4527\n",
      "Epoch 16/50\n",
      "49752/49752 [==============================] - 2s 43us/step - loss: 0.9355 - acc: 0.4903 - val_loss: 1.5506 - val_acc: 0.4452\n",
      "Epoch 17/50\n",
      "49752/49752 [==============================] - 2s 43us/step - loss: 0.9138 - acc: 0.4978 - val_loss: 1.5233 - val_acc: 0.4774\n",
      "Epoch 18/50\n",
      "49752/49752 [==============================] - 2s 44us/step - loss: 0.9129 - acc: 0.4981 - val_loss: 1.5359 - val_acc: 0.4643\n",
      "Epoch 19/50\n",
      "49752/49752 [==============================] - 2s 44us/step - loss: 0.8993 - acc: 0.4995 - val_loss: 1.5420 - val_acc: 0.4707\n",
      "Epoch 20/50\n",
      "49752/49752 [==============================] - 2s 43us/step - loss: 0.8999 - acc: 0.5028 - val_loss: 1.5397 - val_acc: 0.4649\n",
      "Epoch 21/50\n",
      "49752/49752 [==============================] - 2s 47us/step - loss: 0.9125 - acc: 0.5043 - val_loss: 1.5096 - val_acc: 0.4734\n",
      "Epoch 22/50\n",
      "49752/49752 [==============================] - 2s 45us/step - loss: 0.8747 - acc: 0.5080 - val_loss: 1.5447 - val_acc: 0.4658\n",
      "Epoch 23/50\n",
      "49752/49752 [==============================] - 2s 43us/step - loss: 0.8728 - acc: 0.5155 - val_loss: 1.5941 - val_acc: 0.4475\n",
      "Epoch 24/50\n",
      "49752/49752 [==============================] - 2s 44us/step - loss: 0.8628 - acc: 0.5201 - val_loss: 1.5586 - val_acc: 0.4822\n",
      "Epoch 25/50\n",
      "49752/49752 [==============================] - 2s 42us/step - loss: 0.8754 - acc: 0.5216 - val_loss: 1.5760 - val_acc: 0.4645\n",
      "Epoch 26/50\n",
      "49752/49752 [==============================] - 2s 47us/step - loss: 0.8636 - acc: 0.5213 - val_loss: 1.5466 - val_acc: 0.4866\n",
      "Epoch 27/50\n",
      "49752/49752 [==============================] - 2s 47us/step - loss: 0.8467 - acc: 0.5263 - val_loss: 1.6102 - val_acc: 0.4580\n",
      "Epoch 28/50\n",
      "49752/49752 [==============================] - 2s 45us/step - loss: 0.8640 - acc: 0.5239 - val_loss: 1.5352 - val_acc: 0.4887\n",
      "Epoch 29/50\n",
      "49752/49752 [==============================] - 2s 48us/step - loss: 0.8409 - acc: 0.5260 - val_loss: 1.5680 - val_acc: 0.4686\n",
      "Epoch 30/50\n",
      "49752/49752 [==============================] - 2s 43us/step - loss: 0.8448 - acc: 0.5275 - val_loss: 1.5975 - val_acc: 0.4824\n",
      "Epoch 31/50\n",
      "49752/49752 [==============================] - 2s 43us/step - loss: 0.8423 - acc: 0.5343 - val_loss: 1.6137 - val_acc: 0.4754\n",
      "Epoch 32/50\n",
      "49752/49752 [==============================] - 2s 43us/step - loss: 0.8767 - acc: 0.5265 - val_loss: 1.5921 - val_acc: 0.4798\n",
      "Epoch 33/50\n",
      "49752/49752 [==============================] - 2s 47us/step - loss: 0.8482 - acc: 0.5288 - val_loss: 1.5946 - val_acc: 0.4825\n",
      "Epoch 34/50\n",
      "49752/49752 [==============================] - 2s 43us/step - loss: 0.8271 - acc: 0.5327 - val_loss: 1.6150 - val_acc: 0.4755\n",
      "Epoch 35/50\n",
      "49752/49752 [==============================] - 2s 43us/step - loss: 0.8418 - acc: 0.5368 - val_loss: 1.6309 - val_acc: 0.4854\n",
      "Epoch 36/50\n",
      "49752/49752 [==============================] - 2s 44us/step - loss: 0.8556 - acc: 0.5434 - val_loss: 1.6142 - val_acc: 0.4877\n",
      "Epoch 37/50\n",
      "49752/49752 [==============================] - 2s 47us/step - loss: 0.8297 - acc: 0.5390 - val_loss: 1.6442 - val_acc: 0.4600\n",
      "Epoch 38/50\n",
      "49752/49752 [==============================] - 2s 50us/step - loss: 0.8659 - acc: 0.5371 - val_loss: 1.6418 - val_acc: 0.4654\n",
      "Epoch 39/50\n",
      "49752/49752 [==============================] - 2s 47us/step - loss: 0.8315 - acc: 0.5398 - val_loss: 1.6343 - val_acc: 0.4802\n",
      "Epoch 40/50\n",
      "49752/49752 [==============================] - 2s 45us/step - loss: 0.8392 - acc: 0.5433 - val_loss: 1.6513 - val_acc: 0.4732\n",
      "Epoch 41/50\n",
      "49752/49752 [==============================] - 2s 46us/step - loss: 0.8361 - acc: 0.5374 - val_loss: 1.7087 - val_acc: 0.4538\n",
      "Epoch 42/50\n",
      "49752/49752 [==============================] - 2s 47us/step - loss: 0.8359 - acc: 0.5417 - val_loss: 1.6732 - val_acc: 0.4574\n",
      "Epoch 43/50\n",
      "49752/49752 [==============================] - 2s 45us/step - loss: 0.8333 - acc: 0.5420 - val_loss: 1.6404 - val_acc: 0.4842\n",
      "Epoch 44/50\n",
      "49752/49752 [==============================] - 2s 43us/step - loss: 0.8448 - acc: 0.5462 - val_loss: 1.6949 - val_acc: 0.4621\n",
      "Epoch 45/50\n",
      "49752/49752 [==============================] - 2s 43us/step - loss: 0.8404 - acc: 0.5420 - val_loss: 1.6743 - val_acc: 0.4829\n",
      "Epoch 46/50\n",
      "49752/49752 [==============================] - 2s 43us/step - loss: 0.8162 - acc: 0.5476 - val_loss: 1.6909 - val_acc: 0.4761\n",
      "Epoch 47/50\n",
      "49752/49752 [==============================] - 2s 45us/step - loss: 0.8683 - acc: 0.5439 - val_loss: 1.6685 - val_acc: 0.4837\n",
      "Epoch 48/50\n",
      "49752/49752 [==============================] - 2s 44us/step - loss: 0.8342 - acc: 0.5467 - val_loss: 1.6882 - val_acc: 0.4816\n",
      "Epoch 49/50\n",
      "49752/49752 [==============================] - 2s 43us/step - loss: 0.8277 - acc: 0.5472 - val_loss: 1.6227 - val_acc: 0.5016\n",
      "Epoch 50/50\n",
      "49752/49752 [==============================] - 2s 42us/step - loss: 0.8485 - acc: 0.5488 - val_loss: 1.7167 - val_acc: 0.4739\n"
     ]
    }
   ],
   "source": [
    "model.compile(optimizer=optimizers.RMSprop(lr=0.001),\n",
    "              loss='categorical_crossentropy',\n",
    "              metrics=['accuracy'])\n",
    "history = model.fit(partial_x_train,\n",
    "                    partial_y_train,\n",
    "                    epochs=50,\n",
    "                    batch_size=128,\n",
    "                    sample_weight=sample_weights,\n",
    "                    validation_data=(x_val, y_val))"
   ]
  },
  {
   "cell_type": "markdown",
   "metadata": {},
   "source": [
    "Validation and training loss diagram show that after epoch of 8 model starts overfitting with training loss continuing to reduce while validation loss getting stabilized. The same is true for validation and training accuracies that after epoch 8 as training accuracy increases, validation accuracy fluctuates up untill it reaches accuracy of around 48% although two accuracies do not open so much distance due to appropriate use of dropout layers."
   ]
  },
  {
   "cell_type": "code",
   "execution_count": 147,
   "metadata": {},
   "outputs": [
    {
     "data": {
      "image/png": "[encoded data removed]",
      "text/plain": [
       "<Figure size 432x288 with 1 Axes>"
      ]
     },
     "metadata": {},
     "output_type": "display_data"
    }
   ],
   "source": [
    "history_dict = history.history\n",
    "acc = history.history['acc']\n",
    "loss_values = history_dict['loss']\n",
    "val_loss_values = history_dict['val_loss']\n",
    "epochs = range(1, len(acc) + 1)\n",
    "plt.plot(epochs, loss_values, 'bo', label='Training loss')\n",
    "plt.plot(epochs, val_loss_values, 'b', label='Validation loss')\n",
    "plt.title('Training and validation loss')\n",
    "plt.xlabel('Epochs')\n",
    "plt.ylabel('Loss')\n",
    "plt.legend()\n",
    "plt.show()"
   ]
  },
  {
   "cell_type": "code",
   "execution_count": 148,
   "metadata": {},
   "outputs": [
    {
     "data": {
      "image/png": "[encoded data removed]",
      "text/plain": [
       "<Figure size 432x288 with 1 Axes>"
      ]
     },
     "metadata": {},
     "output_type": "display_data"
    }
   ],
   "source": [
    "plt.clf()\n",
    "acc_values = history_dict['acc']\n",
    "val_acc = history_dict['val_acc']\n",
    "plt.plot(epochs, acc, 'bo', label='Training acc')\n",
    "plt.plot(epochs, val_acc, 'b', label='Validation acc')\n",
    "plt.title('Training and validation accuracy')\n",
    "plt.xlabel('Epochs')\n",
    "plt.ylabel('Accuracy')\n",
    "plt.legend()\n",
    "plt.show()"
   ]
  },
  {
   "cell_type": "markdown",
   "metadata": {},
   "source": [
    "Evaluation results for model with sample_weight as parameter om test data results in accuracy of around 47%."
   ]
  },
  {
   "cell_type": "code",
   "execution_count": 149,
   "metadata": {},
   "outputs": [
    {
     "name": "stdout",
     "output_type": "stream",
     "text": [
      "6640/6640 [==============================] - 0s 38us/step\n"
     ]
    },
    {
     "data": {
      "text/plain": [
       "[1.698161794765886, 0.4667168674698795]"
      ]
     },
     "execution_count": 149,
     "metadata": {},
     "output_type": "execute_result"
    }
   ],
   "source": [
    "evaluation_results = model.evaluate(x_test, y_test)\n",
    "evaluation_results"
   ]
  },
  {
   "cell_type": "code",
   "execution_count": 150,
   "metadata": {},
   "outputs": [
    {
     "data": {
      "text/plain": [
       "array([ 1,  1,  1, ...,  8,  9, 16])"
      ]
     },
     "execution_count": 150,
     "metadata": {},
     "output_type": "execute_result"
    }
   ],
   "source": [
    "predictions = model.predict_classes(x_test)\n",
    "predictions"
   ]
  },
  {
   "cell_type": "markdown",
   "metadata": {},
   "source": [
    "If we look at heatmap of normalized confusion matrix we can see that for diagonal pixels that represent per class accuracy, now the number of dark pixels has reduced. In previous case there existed 5 classes with accuracy of zero, but now no class has accuracy of zero and accuracies are more evenly distributed across different classes. However, XGBoost model shows a better result in handling imbalanced data compared to NN model. Therefore, the best model I suggest for prediction in this problem that can also handle imbalanceness in classes is XGBoost."
   ]
  },
  {
   "cell_type": "code",
   "execution_count": 151,
   "metadata": {},
   "outputs": [
    {
     "data": {
      "text/plain": [
       "<matplotlib.axes._subplots.AxesSubplot at 0x1a2da08278>"
      ]
     },
     "execution_count": 151,
     "metadata": {},
     "output_type": "execute_result"
    },
    {
     "data": {
      "image/png": "[encoded data removed]",
      "text/plain": [
       "<Figure size 1224x576 with 2 Axes>"
      ]
     },
     "metadata": {},
     "output_type": "display_data"
    }
   ],
   "source": [
    "y_test_original = np.argmax(y_test, axis=1)\n",
    "np.set_printoptions(precision=2)\n",
    "cm = confusion_matrix(y_test_original, predictions)\n",
    "cm = cm.astype('float') / cm.sum(axis=1)[:, np.newaxis]\n",
    "df_cm = pd.DataFrame(cm, range(25),range(25))\n",
    "le_name_mapping = dict(zip(encoder.transform(encoder.classes_),encoder.classes_))\n",
    "df_cm.index = df_cm.index.map(le_name_mapping)\n",
    "df_cm.columns = df_cm.columns.map(le_name_mapping)\n",
    "plt.figure(figsize=(17, 8))\n",
    "sn.set(font_scale=1.4)#for label size\n",
    "sn.heatmap(df_cm, annot=False,annot_kws={\"size\": 16})# font size"
   ]
  },
  {
   "cell_type": "code",
   "execution_count": 152,
   "metadata": {},
   "outputs": [
    {
     "data": {
      "text/plain": [
       "c_0008    0.439344\n",
       "c_0036    0.624126\n",
       "c_0050    0.176471\n",
       "c_0055    0.393939\n",
       "c_0056    0.250000\n",
       "c_0094    0.416667\n",
       "c_0133    0.693069\n",
       "c_0144    0.765854\n",
       "c_0145    0.467949\n",
       "c_0152    0.265770\n",
       "c_0183    0.568702\n",
       "c_0184    0.200000\n",
       "c_0187    0.548263\n",
       "c_0196    0.681661\n",
       "c_0206    0.759259\n",
       "c_0250    0.558824\n",
       "c_0273    0.747604\n",
       "c_0497    0.866013\n",
       "c_0498    0.100000\n",
       "c_0499    0.417582\n",
       "c_0500    0.333333\n",
       "c_0604    0.454545\n",
       "c_0608    0.252049\n",
       "c_0655    0.750000\n",
       "c_0720    0.530864\n",
       "dtype: float64"
      ]
     },
     "execution_count": 152,
     "metadata": {},
     "output_type": "execute_result"
    }
   ],
   "source": [
    "pd.Series(np.diag(df_cm), index=[df_cm.index])"
   ]
  },
  {
   "cell_type": "code",
   "execution_count": null,
   "metadata": {},
   "outputs": [],
   "source": []
  }
 ],
 "metadata": {
  "kernelspec": {
   "display_name": "Python 3",
   "language": "python",
   "name": "python3"
  },
  "language_info": {
   "codemirror_mode": {
    "name": "ipython",
    "version": 3
   },
   "file_extension": ".py",
   "mimetype": "text/x-python",
   "name": "python",
   "nbconvert_exporter": "python",
   "pygments_lexer": "ipython3",
   "version": "3.6.6"
  }
 },
 "nbformat": 4,
 "nbformat_minor": 2
}
