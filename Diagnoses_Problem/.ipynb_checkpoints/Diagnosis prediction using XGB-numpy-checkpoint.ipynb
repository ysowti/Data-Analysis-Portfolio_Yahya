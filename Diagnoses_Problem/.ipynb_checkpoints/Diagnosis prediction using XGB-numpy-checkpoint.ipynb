{
 "cells": [
  {
   "cell_type": "code",
   "execution_count": 1,
   "metadata": {},
   "outputs": [
    {
     "name": "stderr",
     "output_type": "stream",
     "text": [
      "/Users/yahya/anaconda/envs/deeplearningkeras/lib/python3.6/importlib/_bootstrap.py:219: RuntimeWarning: numpy.dtype size changed, may indicate binary incompatibility. Expected 96, got 88\n",
      "  return f(*args, **kwds)\n",
      "/Users/yahya/anaconda/envs/deeplearningkeras/lib/python3.6/importlib/_bootstrap.py:219: RuntimeWarning: numpy.dtype size changed, may indicate binary incompatibility. Expected 96, got 88\n",
      "  return f(*args, **kwds)\n",
      "/Users/yahya/anaconda/envs/deeplearningkeras/lib/python3.6/site-packages/sklearn/cross_validation.py:41: DeprecationWarning: This module was deprecated in version 0.18 in favor of the model_selection module into which all the refactored classes and functions are moved. Also note that the interface of the new CV iterators are different from that of this module. This module will be removed in 0.20.\n",
      "  \"This module will be removed in 0.20.\", DeprecationWarning)\n"
     ]
    }
   ],
   "source": [
    "import pandas as pd\n",
    "import numpy as np\n",
    "\n",
    "from sklearn.preprocessing import LabelEncoder\n",
    "from sklearn import model_selection\n",
    "from sklearn.utils import shuffle\n",
    "from sklearn.metrics import accuracy_score\n",
    "from sklearn import cross_validation\n",
    "\n",
    "import xgboost\n",
    "import matplotlib.pyplot as plt\n",
    "\n",
    "pd.options.mode.chained_assignment = None\n",
    "seed = 101"
   ]
  },
  {
   "cell_type": "code",
   "execution_count": 2,
   "metadata": {},
   "outputs": [],
   "source": [
    "data = pd.read_csv('input/data_challenge.csv',index_col=0)"
   ]
  },
  {
   "cell_type": "code",
   "execution_count": 3,
   "metadata": {},
   "outputs": [
    {
     "data": {
      "text/html": [
       "<div>\n",
       "<style scoped>\n",
       "    .dataframe tbody tr th:only-of-type {\n",
       "        vertical-align: middle;\n",
       "    }\n",
       "\n",
       "    .dataframe tbody tr th {\n",
       "        vertical-align: top;\n",
       "    }\n",
       "\n",
       "    .dataframe thead th {\n",
       "        text-align: right;\n",
       "    }\n",
       "</style>\n",
       "<table border=\"1\" class=\"dataframe\">\n",
       "  <thead>\n",
       "    <tr style=\"text-align: right;\">\n",
       "      <th></th>\n",
       "      <th>DX</th>\n",
       "      <th>AGE</th>\n",
       "      <th>MONTH</th>\n",
       "      <th>SEX</th>\n",
       "      <th>Absent</th>\n",
       "      <th>Present</th>\n",
       "    </tr>\n",
       "  </thead>\n",
       "  <tbody>\n",
       "    <tr>\n",
       "      <th>9697</th>\n",
       "      <td>c_0036</td>\n",
       "      <td>38.0</td>\n",
       "      <td>2</td>\n",
       "      <td>0</td>\n",
       "      <td>s_0553</td>\n",
       "      <td>s_0542, s_0290, s_0837, s_0084, s_1266, s_0180</td>\n",
       "    </tr>\n",
       "    <tr>\n",
       "      <th>31843</th>\n",
       "      <td>c_0499</td>\n",
       "      <td>55.0</td>\n",
       "      <td>8</td>\n",
       "      <td>0</td>\n",
       "      <td>NaN</td>\n",
       "      <td>s_1547, s_0653</td>\n",
       "    </tr>\n",
       "    <tr>\n",
       "      <th>63932</th>\n",
       "      <td>c_0152</td>\n",
       "      <td>35.0</td>\n",
       "      <td>10</td>\n",
       "      <td>0</td>\n",
       "      <td>s_0070, s_0653, s_0039, s_0078, s_2734, s_0837...</td>\n",
       "      <td>s_1611, s_0445, s_0542, s_0084, s_0315, s_0478...</td>\n",
       "    </tr>\n",
       "    <tr>\n",
       "      <th>69507</th>\n",
       "      <td>c_0145</td>\n",
       "      <td>26.0</td>\n",
       "      <td>6</td>\n",
       "      <td>1</td>\n",
       "      <td>s_0106, s_0542, s_0124, s_0084, s_0180</td>\n",
       "      <td>s_0136, s_0290, s_2734</td>\n",
       "    </tr>\n",
       "    <tr>\n",
       "      <th>64367</th>\n",
       "      <td>c_0036</td>\n",
       "      <td>61.0</td>\n",
       "      <td>4</td>\n",
       "      <td>0</td>\n",
       "      <td>s_0070, s_0180, s_0553, s_0039, s_1611, s_0136...</td>\n",
       "      <td>s_0227, s_0078, s_0786, s_0084, s_0356, s_0739</td>\n",
       "    </tr>\n",
       "  </tbody>\n",
       "</table>\n",
       "</div>"
      ],
      "text/plain": [
       "           DX   AGE  MONTH  SEX  \\\n",
       "9697   c_0036  38.0      2    0   \n",
       "31843  c_0499  55.0      8    0   \n",
       "63932  c_0152  35.0     10    0   \n",
       "69507  c_0145  26.0      6    1   \n",
       "64367  c_0036  61.0      4    0   \n",
       "\n",
       "                                                  Absent  \\\n",
       "9697                                              s_0553   \n",
       "31843                                                NaN   \n",
       "63932  s_0070, s_0653, s_0039, s_0078, s_2734, s_0837...   \n",
       "69507             s_0106, s_0542, s_0124, s_0084, s_0180   \n",
       "64367  s_0070, s_0180, s_0553, s_0039, s_1611, s_0136...   \n",
       "\n",
       "                                                 Present  \n",
       "9697      s_0542, s_0290, s_0837, s_0084, s_1266, s_0180  \n",
       "31843                                     s_1547, s_0653  \n",
       "63932  s_1611, s_0445, s_0542, s_0084, s_0315, s_0478...  \n",
       "69507                             s_0136, s_0290, s_2734  \n",
       "64367     s_0227, s_0078, s_0786, s_0084, s_0356, s_0739  "
      ]
     },
     "execution_count": 3,
     "metadata": {},
     "output_type": "execute_result"
    }
   ],
   "source": [
    "data = shuffle(data,random_state=seed)\n",
    "data.head()"
   ]
  },
  {
   "cell_type": "code",
   "execution_count": 4,
   "metadata": {},
   "outputs": [
    {
     "name": "stdout",
     "output_type": "stream",
     "text": [
      "<class 'pandas.core.frame.DataFrame'>\n",
      "Int64Index: 66392 entries, 9697 to 45919\n",
      "Data columns (total 6 columns):\n",
      "DX         66392 non-null object\n",
      "AGE        66392 non-null float64\n",
      "MONTH      66392 non-null int64\n",
      "SEX        66392 non-null int64\n",
      "Absent     60523 non-null object\n",
      "Present    66392 non-null object\n",
      "dtypes: float64(1), int64(2), object(3)\n",
      "memory usage: 3.5+ MB\n"
     ]
    }
   ],
   "source": [
    "data.dropna(subset=['Present'],inplace=True)\n",
    "data.info()"
   ]
  },
  {
   "cell_type": "code",
   "execution_count": 5,
   "metadata": {},
   "outputs": [],
   "source": [
    "dataset = data.values"
   ]
  },
  {
   "cell_type": "code",
   "execution_count": 6,
   "metadata": {},
   "outputs": [],
   "source": [
    "Y = dataset[:,0]\n",
    "X = dataset[:,1:]"
   ]
  },
  {
   "cell_type": "code",
   "execution_count": 7,
   "metadata": {},
   "outputs": [],
   "source": [
    "label_encoder = LabelEncoder()\n",
    "label_encoder = label_encoder.fit(Y)\n",
    "label_encoded_y = label_encoder.transform(Y)"
   ]
  },
  {
   "cell_type": "code",
   "execution_count": 8,
   "metadata": {},
   "outputs": [],
   "source": [
    "test_size = 0.2\n",
    "x_train, x_test, y_train, y_test = cross_validation.train_test_split(X, label_encoded_y, test_size=test_size, random_state=seed)"
   ]
  },
  {
   "cell_type": "code",
   "execution_count": 9,
   "metadata": {},
   "outputs": [],
   "source": [
    "std = np.std(x_train[:,0])\n",
    "mean = np.mean(x_train[:,0])\n",
    "x_train[:,0] -= mean\n",
    "x_train[:,0] /= std"
   ]
  },
  {
   "cell_type": "code",
   "execution_count": 10,
   "metadata": {},
   "outputs": [],
   "source": [
    "x_test[:,0] -= mean\n",
    "x_test[:,0] /= std"
   ]
  },
  {
   "cell_type": "code",
   "execution_count": 11,
   "metadata": {},
   "outputs": [],
   "source": [
    "def cyclic(month):\n",
    "    month_circum  = 12\n",
    "    month_x = np.sin(2 * np.pi * month / month_circum)\n",
    "    month_y = np.cos(2 * np.pi * month / month_circum)\n",
    "    return month_x,month_y"
   ]
  },
  {
   "cell_type": "code",
   "execution_count": 12,
   "metadata": {},
   "outputs": [],
   "source": [
    "cyclic_vec = np.vectorize(cyclic)\n",
    "result = cyclic_vec(x_train[:,1])\n",
    "month_x = result[0].reshape(result[0].shape[0], 1)\n",
    "month_y = result[1].reshape(result[1].shape[0], 1)"
   ]
  },
  {
   "cell_type": "code",
   "execution_count": 13,
   "metadata": {},
   "outputs": [],
   "source": [
    "x_train = np.concatenate((x_train, month_x, month_y), axis=1)"
   ]
  },
  {
   "cell_type": "code",
   "execution_count": 14,
   "metadata": {},
   "outputs": [
    {
     "data": {
      "text/plain": [
       "array([[-1.4985396817813654, 1,\n",
       "        's_0911, s_0553, s_0812, s_0136, s_0002, s_0542, s_0837, s_0864, s_0022, s_0085, s_1266, s_0180',\n",
       "        's_0400, s_2742, s_0106, s_0084', 0.8660254037844388,\n",
       "        -0.4999999999999998],\n",
       "       [0.27927642334497416, 0, nan, 's_2742, s_0605, s_0553, s_0777',\n",
       "        -0.4999999999999998, -0.8660254037844388],\n",
       "       [-1.202236997593642, 1, 's_0824, s_0542, s_0363',\n",
       "        's_0445, s_0180', -1.0, -1.8369701987210297e-16],\n",
       "       ...,\n",
       "       [0.03235751985520477, 0, 's_0106, s_0542',\n",
       "        's_0445, s_0864, s_0084', 0.8660254037844388,\n",
       "        -0.4999999999999998],\n",
       "       [1.6126385021897287, 0, 's_2738, s_0605', 's_0824',\n",
       "        -2.4492935982947064e-16, 1.0],\n",
       "       [-1.3997721203854576, 1, 's_0553', 's_0270, s_0954, s_1759',\n",
       "        0.49999999999999994, 0.8660254037844387]], dtype=object)"
      ]
     },
     "execution_count": 14,
     "metadata": {},
     "output_type": "execute_result"
    }
   ],
   "source": [
    "x_train = np.delete(x_train, 1, 1)\n",
    "x_train"
   ]
  },
  {
   "cell_type": "code",
   "execution_count": 15,
   "metadata": {},
   "outputs": [],
   "source": [
    "present_symptoms = x_train[:,3]\n",
    "absent_symptoms = x_train[:,2]"
   ]
  },
  {
   "cell_type": "code",
   "execution_count": 16,
   "metadata": {},
   "outputs": [],
   "source": [
    "def tokenizer(arr):\n",
    "    token_index = {}\n",
    "    output = []\n",
    "    for i,seq in enumerate(arr):\n",
    "        if seq == '' or pd.isnull(seq):\n",
    "            pass\n",
    "        else:\n",
    "            for word in seq.split(','):\n",
    "                word = word.strip()\n",
    "                if word not in output:\n",
    "                    output.append(word)\n",
    "                    token_index[word] = len(token_index) + 1\n",
    "    return token_index"
   ]
  },
  {
   "cell_type": "code",
   "execution_count": 17,
   "metadata": {},
   "outputs": [],
   "source": [
    "present_token = tokenizer(present_symptoms)\n",
    "absent_token = tokenizer(absent_symptoms)"
   ]
  },
  {
   "cell_type": "code",
   "execution_count": 18,
   "metadata": {},
   "outputs": [],
   "source": [
    "def one_hot(samples,token):\n",
    "    results = np.zeros(shape=(len(samples),max(token.values()) + 1))\n",
    "    for i, sample in enumerate(samples):\n",
    "        if sample == '' or pd.isnull(sample):\n",
    "            pass\n",
    "        else:\n",
    "            for j, word in list(enumerate(sample.split(','))):\n",
    "                word = word.strip()\n",
    "                index = token.get(word,None)\n",
    "                if index:\n",
    "                    results[i, index] = 1\n",
    "    return results"
   ]
  },
  {
   "cell_type": "code",
   "execution_count": 19,
   "metadata": {},
   "outputs": [],
   "source": [
    "present_encoded = one_hot(present_symptoms,present_token)"
   ]
  },
  {
   "cell_type": "code",
   "execution_count": 20,
   "metadata": {},
   "outputs": [],
   "source": [
    "absent_encoded = one_hot(absent_symptoms,absent_token)"
   ]
  },
  {
   "cell_type": "code",
   "execution_count": 21,
   "metadata": {},
   "outputs": [
    {
     "data": {
      "text/plain": [
       "(53113, 571)"
      ]
     },
     "execution_count": 21,
     "metadata": {},
     "output_type": "execute_result"
    }
   ],
   "source": [
    "absent_encoded.shape"
   ]
  },
  {
   "cell_type": "code",
   "execution_count": 22,
   "metadata": {},
   "outputs": [
    {
     "data": {
      "text/plain": [
       "array([[-1.4985396817813654, 1,\n",
       "        's_0911, s_0553, s_0812, s_0136, s_0002, s_0542, s_0837, s_0864, s_0022, s_0085, s_1266, s_0180',\n",
       "        's_0400, s_2742, s_0106, s_0084', 0.8660254037844388,\n",
       "        -0.4999999999999998],\n",
       "       [0.27927642334497416, 0, nan, 's_2742, s_0605, s_0553, s_0777',\n",
       "        -0.4999999999999998, -0.8660254037844388],\n",
       "       [-1.202236997593642, 1, 's_0824, s_0542, s_0363',\n",
       "        's_0445, s_0180', -1.0, -1.8369701987210297e-16],\n",
       "       ...,\n",
       "       [0.03235751985520477, 0, 's_0106, s_0542',\n",
       "        's_0445, s_0864, s_0084', 0.8660254037844388,\n",
       "        -0.4999999999999998],\n",
       "       [1.6126385021897287, 0, 's_2738, s_0605', 's_0824',\n",
       "        -2.4492935982947064e-16, 1.0],\n",
       "       [-1.3997721203854576, 1, 's_0553', 's_0270, s_0954, s_1759',\n",
       "        0.49999999999999994, 0.8660254037844387]], dtype=object)"
      ]
     },
     "execution_count": 22,
     "metadata": {},
     "output_type": "execute_result"
    }
   ],
   "source": [
    "x_train"
   ]
  },
  {
   "cell_type": "code",
   "execution_count": 23,
   "metadata": {},
   "outputs": [],
   "source": [
    "x_train = np.delete(x_train, (2,3), 1)  "
   ]
  },
  {
   "cell_type": "code",
   "execution_count": 24,
   "metadata": {},
   "outputs": [],
   "source": [
    "x_train = np.concatenate((x_train,present_encoded,absent_encoded),axis=1)"
   ]
  },
  {
   "cell_type": "code",
   "execution_count": 25,
   "metadata": {},
   "outputs": [
    {
     "data": {
      "text/plain": [
       "array([[-1.4985396817813654, 1, 0.8660254037844388, ..., 0.0, 0.0, 0.0],\n",
       "       [0.27927642334497416, 0, -0.4999999999999998, ..., 0.0, 0.0, 0.0],\n",
       "       [-1.202236997593642, 1, -1.0, ..., 0.0, 0.0, 0.0],\n",
       "       ...,\n",
       "       [0.03235751985520477, 0, 0.8660254037844388, ..., 0.0, 0.0, 0.0],\n",
       "       [1.6126385021897287, 0, -2.4492935982947064e-16, ..., 0.0, 0.0,\n",
       "        0.0],\n",
       "       [-1.3997721203854576, 1, 0.49999999999999994, ..., 0.0, 0.0, 0.0]],\n",
       "      dtype=object)"
      ]
     },
     "execution_count": 25,
     "metadata": {},
     "output_type": "execute_result"
    }
   ],
   "source": [
    "x_train"
   ]
  },
  {
   "cell_type": "code",
   "execution_count": 28,
   "metadata": {},
   "outputs": [
    {
     "name": "stdout",
     "output_type": "stream",
     "text": [
      "XGBClassifier(base_score=0.5, booster='gbtree', colsample_bylevel=1,\n",
      "       colsample_bytree=1, gamma=0, learning_rate=0.1, max_delta_step=0,\n",
      "       max_depth=3, min_child_weight=1, missing=None, n_estimators=100,\n",
      "       n_jobs=1, nthread=None, objective='multi:softprob', random_state=0,\n",
      "       reg_alpha=0, reg_lambda=1, scale_pos_weight=1, seed=None,\n",
      "       silent=True, subsample=1)\n"
     ]
    }
   ],
   "source": [
    "# fit model no training data\n",
    "model = xgboost.XGBClassifier()\n",
    "model.fit(x_train, y_train)\n",
    "print(model)"
   ]
  },
  {
   "cell_type": "code",
   "execution_count": 31,
   "metadata": {},
   "outputs": [],
   "source": [
    "test_result = cyclic_vec(x_test[:,1])\n",
    "test_month_x = test_result[0].reshape(test_result[0].shape[0], 1)\n",
    "test_month_y = test_result[1].reshape(test_result[1].shape[0], 1)\n",
    "x_test = np.concatenate((x_test, test_month_x, test_month_y), axis=1)\n",
    "x_test = np.delete(x_test, 1, 1)"
   ]
  },
  {
   "cell_type": "code",
   "execution_count": 32,
   "metadata": {},
   "outputs": [
    {
     "data": {
      "text/plain": [
       "array([[0.5755791075326974, 0,\n",
       "        's_0911, s_2197, s_0847, s_0553, s_0812, s_0865, s_1611, s_0136, s_0002, s_0242, s_1030, s_0542, s_0701, s_0084, s_0826, s_1547, s_0022, s_0085, s_0309, s_1266, s_0180',\n",
       "        's_0106, s_0227, s_0400, s_0837, s_0356, s_0864',\n",
       "        -2.4492935982947064e-16, 1.0],\n",
       "       [-1.3503883396875038, 0, 's_0106, s_0837, s_0180',\n",
       "        's_0553, s_0002, s_0246, s_0120, s_0542, s_0290, s_0084, s_2742, s_0022',\n",
       "        -2.4492935982947064e-16, 1.0],\n",
       "       [0.328660204042928, 0,\n",
       "        's_0070, s_0812, s_1050, s_0506, s_0136, s_0242, s_0078, s_0837, s_0363, s_2253, s_0864, s_0180',\n",
       "        's_0084', 0.8660254037844388, -0.4999999999999998],\n",
       "       ...,\n",
       "       [0.03235751985520477, 0, 's_0596',\n",
       "        's_0553, s_2282, s_2755, s_0084, s_0022, s_0605, s_0824, s_0180',\n",
       "        0.49999999999999994, 0.8660254037844387],\n",
       "       [-0.856550532707965, 0,\n",
       "        's_0070, s_1050, s_0400, s_0242, s_0002, s_0124, s_0542, s_0837, s_0084, s_0826, s_0309, s_1266, s_0180',\n",
       "        's_0445, s_2194, s_0062, s_0346', 0.8660254037844388,\n",
       "        -0.4999999999999998],\n",
       "       [-0.9553180941038727, 1,\n",
       "        's_0070, s_0106, s_0039, s_0812, s_1050, s_0346, s_0519, s_0136, s_0002, s_0124, s_0542, s_0837, s_0084, s_0826, s_0315, s_0864, s_0022, s_0824, s_0062, s_1266, s_0180',\n",
       "        's_0400, s_0309, s_0419', 0.49999999999999994,\n",
       "        0.8660254037844387]], dtype=object)"
      ]
     },
     "execution_count": 32,
     "metadata": {},
     "output_type": "execute_result"
    }
   ],
   "source": [
    "x_test"
   ]
  },
  {
   "cell_type": "code",
   "execution_count": 34,
   "metadata": {},
   "outputs": [],
   "source": [
    "test_present_symptoms = x_test[:,3]\n",
    "test_absent_symptoms = x_test[:,2]\n",
    "test_present_encoded = one_hot(test_present_symptoms,present_token)\n",
    "test_absent_encoded = one_hot(test_absent_symptoms,absent_token)"
   ]
  },
  {
   "cell_type": "code",
   "execution_count": 36,
   "metadata": {},
   "outputs": [],
   "source": [
    "x_test = np.delete(x_test, (2,3), 1)\n",
    "x_test = np.concatenate((x_test,test_present_encoded,test_absent_encoded),axis=1)"
   ]
  },
  {
   "cell_type": "code",
   "execution_count": 39,
   "metadata": {},
   "outputs": [
    {
     "data": {
      "text/plain": [
       "(53113, 1255)"
      ]
     },
     "execution_count": 39,
     "metadata": {},
     "output_type": "execute_result"
    }
   ],
   "source": [
    "x_train.shape"
   ]
  },
  {
   "cell_type": "code",
   "execution_count": 40,
   "metadata": {},
   "outputs": [
    {
     "data": {
      "text/plain": [
       "(13279, 1255)"
      ]
     },
     "execution_count": 40,
     "metadata": {},
     "output_type": "execute_result"
    }
   ],
   "source": [
    "x_test.shape"
   ]
  },
  {
   "cell_type": "code",
   "execution_count": 41,
   "metadata": {},
   "outputs": [],
   "source": [
    "y_pred = model.predict(x_test)\n",
    "predictions = [round(value) for value in y_pred]"
   ]
  },
  {
   "cell_type": "code",
   "execution_count": 42,
   "metadata": {},
   "outputs": [
    {
     "name": "stdout",
     "output_type": "stream",
     "text": [
      "Accuracy: 61.49%\n"
     ]
    }
   ],
   "source": [
    "accuracy = accuracy_score(y_test, predictions)\n",
    "print(\"Accuracy: %.2f%%\" % (accuracy * 100.0))"
   ]
  },
  {
   "cell_type": "code",
   "execution_count": null,
   "metadata": {},
   "outputs": [],
   "source": []
  }
 ],
 "metadata": {
  "kernelspec": {
   "display_name": "Python 3",
   "language": "python",
   "name": "python3"
  },
  "language_info": {
   "codemirror_mode": {
    "name": "ipython",
    "version": 3
   },
   "file_extension": ".py",
   "mimetype": "text/x-python",
   "name": "python",
   "nbconvert_exporter": "python",
   "pygments_lexer": "ipython3",
   "version": "3.6.6"
  }
 },
 "nbformat": 4,
 "nbformat_minor": 2
}
